{
  "nbformat": 4,
  "nbformat_minor": 0,
  "metadata": {
    "colab": {
      "name": "Inbound_Model.ipynb",
      "provenance": [],
      "collapsed_sections": [],
      "authorship_tag": "ABX9TyPwZWg6RlWN12v8pZZCIaIY",
      "include_colab_link": true
    },
    "kernelspec": {
      "name": "python3",
      "display_name": "Python 3"
    }
  },
  "cells": [
    {
      "cell_type": "markdown",
      "metadata": {
        "id": "view-in-github",
        "colab_type": "text"
      },
      "source": [
        "<a href=\"https://colab.research.google.com/github/Kzis/mrt-is/blob/master/Inbound_Model.ipynb\" target=\"_parent\"><img src=\"https://colab.research.google.com/assets/colab-badge.svg\" alt=\"Open In Colab\"/></a>"
      ]
    },
    {
      "cell_type": "code",
      "metadata": {
        "id": "T4vfaWbDfbFf",
        "colab_type": "code",
        "colab": {
          "base_uri": "https://localhost:8080/",
          "height": 52
        },
        "outputId": "01a5c700-14c6-4636-c259-8fa182b3c1cc"
      },
      "source": [
        "import pandas as pd\n",
        "import numpy as np\n",
        "\n",
        "## for plotting\n",
        "import matplotlib.pyplot as plt\n",
        "import seaborn as sns\n",
        "\n",
        "## for statistical tests\n",
        "import scipy\n",
        "import statsmodels.formula.api as smf\n",
        "import statsmodels.api as sm\n",
        "\n",
        "## for machine learning\n",
        "from sklearn import model_selection, preprocessing, feature_selection, ensemble, linear_model, metrics, decomposition"
      ],
      "execution_count": 1,
      "outputs": [
        {
          "output_type": "stream",
          "text": [
            "/usr/local/lib/python3.6/dist-packages/statsmodels/tools/_testing.py:19: FutureWarning: pandas.util.testing is deprecated. Use the functions in the public API at pandas.testing instead.\n",
            "  import pandas.util.testing as tm\n"
          ],
          "name": "stderr"
        }
      ]
    },
    {
      "cell_type": "markdown",
      "metadata": {
        "id": "sAGKGQabmWNJ",
        "colab_type": "text"
      },
      "source": [
        "# อ่านข้อมูล Inbound สำหรับการสร้าง Model"
      ]
    },
    {
      "cell_type": "code",
      "metadata": {
        "id": "IbZ1bSMnirYg",
        "colab_type": "code",
        "colab": {
          "base_uri": "https://localhost:8080/",
          "height": 264
        },
        "outputId": "622ea38f-f853-4db3-c393-68cab3f57e00"
      },
      "source": [
        "inbound_url = 'https://raw.githubusercontent.com/Kzis/mrt-is/master/Data/Inbound/All_Summary.csv'\n",
        "inbound_df = pd.read_csv(inbound_url)\n",
        "inbound_df.head()"
      ],
      "execution_count": 2,
      "outputs": [
        {
          "output_type": "execute_result",
          "data": {
            "text/html": [
              "<div>\n",
              "<style scoped>\n",
              "    .dataframe tbody tr th:only-of-type {\n",
              "        vertical-align: middle;\n",
              "    }\n",
              "\n",
              "    .dataframe tbody tr th {\n",
              "        vertical-align: top;\n",
              "    }\n",
              "\n",
              "    .dataframe thead th {\n",
              "        text-align: right;\n",
              "    }\n",
              "</style>\n",
              "<table border=\"1\" class=\"dataframe\">\n",
              "  <thead>\n",
              "    <tr style=\"text-align: right;\">\n",
              "      <th></th>\n",
              "      <th>TransactionDate</th>\n",
              "      <th>StationName</th>\n",
              "      <th>PassengerCount</th>\n",
              "      <th>DayType</th>\n",
              "      <th>DateOfWeek</th>\n",
              "      <th>DayNumberOfMonth</th>\n",
              "      <th>MonthPeriod</th>\n",
              "      <th>MonthNumberOfYear</th>\n",
              "      <th>CalendarQuater</th>\n",
              "      <th>Interest_Agriculture</th>\n",
              "      <th>Interest_Books</th>\n",
              "      <th>Interest_Business</th>\n",
              "      <th>Interest_Education</th>\n",
              "      <th>Interest_Family</th>\n",
              "      <th>Interest_Fasion</th>\n",
              "      <th>Interest_Foods</th>\n",
              "      <th>Interest_General</th>\n",
              "      <th>Interest_Health</th>\n",
              "      <th>Interest_IT</th>\n",
              "      <th>Interest_Residence</th>\n",
              "      <th>Interest_Seminar</th>\n",
              "      <th>Interest_Sports</th>\n",
              "      <th>Interest_Travel</th>\n",
              "      <th>Interest_Vehnicle</th>\n",
              "      <th>EventsGroup_Agriculture</th>\n",
              "      <th>EventsGroup_Books</th>\n",
              "      <th>EventsGroup_Business</th>\n",
              "      <th>EventsGroup_Education</th>\n",
              "      <th>EventsGroup_Family</th>\n",
              "      <th>EventsGroup_Fasion</th>\n",
              "      <th>EventsGroup_Foods</th>\n",
              "      <th>EventsGroup_General</th>\n",
              "      <th>EventsGroup_Health</th>\n",
              "      <th>EventsGroup_IT</th>\n",
              "      <th>EventsGroup_Residence</th>\n",
              "      <th>EventsGroup_Seminar</th>\n",
              "      <th>EventsGroup_Sports</th>\n",
              "      <th>EventsGroup_Travel</th>\n",
              "      <th>EventsGroup_Vehnicle</th>\n",
              "      <th>Interest_Total</th>\n",
              "      <th>Events_Total</th>\n",
              "    </tr>\n",
              "  </thead>\n",
              "  <tbody>\n",
              "    <tr>\n",
              "      <th>0</th>\n",
              "      <td>2017-01-01</td>\n",
              "      <td>Bang Sue</td>\n",
              "      <td>186</td>\n",
              "      <td>WE</td>\n",
              "      <td>Sunday</td>\n",
              "      <td>1</td>\n",
              "      <td>Early</td>\n",
              "      <td>1</td>\n",
              "      <td>1</td>\n",
              "      <td>0</td>\n",
              "      <td>0</td>\n",
              "      <td>0</td>\n",
              "      <td>0</td>\n",
              "      <td>0</td>\n",
              "      <td>0</td>\n",
              "      <td>0</td>\n",
              "      <td>0</td>\n",
              "      <td>0</td>\n",
              "      <td>0</td>\n",
              "      <td>0</td>\n",
              "      <td>0</td>\n",
              "      <td>0</td>\n",
              "      <td>0</td>\n",
              "      <td>0</td>\n",
              "      <td>0</td>\n",
              "      <td>0</td>\n",
              "      <td>0</td>\n",
              "      <td>0</td>\n",
              "      <td>0</td>\n",
              "      <td>0</td>\n",
              "      <td>0</td>\n",
              "      <td>0</td>\n",
              "      <td>0</td>\n",
              "      <td>0</td>\n",
              "      <td>0</td>\n",
              "      <td>0</td>\n",
              "      <td>0</td>\n",
              "      <td>0</td>\n",
              "      <td>0</td>\n",
              "      <td>0</td>\n",
              "      <td>0</td>\n",
              "    </tr>\n",
              "    <tr>\n",
              "      <th>1</th>\n",
              "      <td>2017-01-01</td>\n",
              "      <td>Chatuchak Park</td>\n",
              "      <td>359</td>\n",
              "      <td>WE</td>\n",
              "      <td>Sunday</td>\n",
              "      <td>1</td>\n",
              "      <td>Early</td>\n",
              "      <td>1</td>\n",
              "      <td>1</td>\n",
              "      <td>0</td>\n",
              "      <td>0</td>\n",
              "      <td>0</td>\n",
              "      <td>0</td>\n",
              "      <td>0</td>\n",
              "      <td>0</td>\n",
              "      <td>0</td>\n",
              "      <td>0</td>\n",
              "      <td>0</td>\n",
              "      <td>0</td>\n",
              "      <td>0</td>\n",
              "      <td>0</td>\n",
              "      <td>0</td>\n",
              "      <td>0</td>\n",
              "      <td>0</td>\n",
              "      <td>0</td>\n",
              "      <td>0</td>\n",
              "      <td>0</td>\n",
              "      <td>0</td>\n",
              "      <td>0</td>\n",
              "      <td>0</td>\n",
              "      <td>0</td>\n",
              "      <td>0</td>\n",
              "      <td>0</td>\n",
              "      <td>0</td>\n",
              "      <td>0</td>\n",
              "      <td>0</td>\n",
              "      <td>0</td>\n",
              "      <td>0</td>\n",
              "      <td>0</td>\n",
              "      <td>0</td>\n",
              "      <td>0</td>\n",
              "    </tr>\n",
              "    <tr>\n",
              "      <th>2</th>\n",
              "      <td>2017-01-01</td>\n",
              "      <td>Hua Lamphong</td>\n",
              "      <td>299</td>\n",
              "      <td>WE</td>\n",
              "      <td>Sunday</td>\n",
              "      <td>1</td>\n",
              "      <td>Early</td>\n",
              "      <td>1</td>\n",
              "      <td>1</td>\n",
              "      <td>0</td>\n",
              "      <td>0</td>\n",
              "      <td>0</td>\n",
              "      <td>0</td>\n",
              "      <td>0</td>\n",
              "      <td>0</td>\n",
              "      <td>0</td>\n",
              "      <td>0</td>\n",
              "      <td>0</td>\n",
              "      <td>0</td>\n",
              "      <td>0</td>\n",
              "      <td>0</td>\n",
              "      <td>0</td>\n",
              "      <td>0</td>\n",
              "      <td>0</td>\n",
              "      <td>0</td>\n",
              "      <td>0</td>\n",
              "      <td>0</td>\n",
              "      <td>0</td>\n",
              "      <td>0</td>\n",
              "      <td>0</td>\n",
              "      <td>0</td>\n",
              "      <td>0</td>\n",
              "      <td>0</td>\n",
              "      <td>0</td>\n",
              "      <td>0</td>\n",
              "      <td>0</td>\n",
              "      <td>0</td>\n",
              "      <td>0</td>\n",
              "      <td>0</td>\n",
              "      <td>0</td>\n",
              "      <td>0</td>\n",
              "    </tr>\n",
              "    <tr>\n",
              "      <th>3</th>\n",
              "      <td>2017-01-01</td>\n",
              "      <td>Huai Khwang</td>\n",
              "      <td>431</td>\n",
              "      <td>WE</td>\n",
              "      <td>Sunday</td>\n",
              "      <td>1</td>\n",
              "      <td>Early</td>\n",
              "      <td>1</td>\n",
              "      <td>1</td>\n",
              "      <td>0</td>\n",
              "      <td>0</td>\n",
              "      <td>0</td>\n",
              "      <td>0</td>\n",
              "      <td>0</td>\n",
              "      <td>0</td>\n",
              "      <td>0</td>\n",
              "      <td>0</td>\n",
              "      <td>0</td>\n",
              "      <td>0</td>\n",
              "      <td>0</td>\n",
              "      <td>0</td>\n",
              "      <td>0</td>\n",
              "      <td>0</td>\n",
              "      <td>0</td>\n",
              "      <td>0</td>\n",
              "      <td>0</td>\n",
              "      <td>0</td>\n",
              "      <td>0</td>\n",
              "      <td>0</td>\n",
              "      <td>0</td>\n",
              "      <td>0</td>\n",
              "      <td>0</td>\n",
              "      <td>0</td>\n",
              "      <td>0</td>\n",
              "      <td>0</td>\n",
              "      <td>0</td>\n",
              "      <td>0</td>\n",
              "      <td>0</td>\n",
              "      <td>0</td>\n",
              "      <td>0</td>\n",
              "      <td>0</td>\n",
              "    </tr>\n",
              "    <tr>\n",
              "      <th>4</th>\n",
              "      <td>2017-01-01</td>\n",
              "      <td>Kamphaeng Phet</td>\n",
              "      <td>233</td>\n",
              "      <td>WE</td>\n",
              "      <td>Sunday</td>\n",
              "      <td>1</td>\n",
              "      <td>Early</td>\n",
              "      <td>1</td>\n",
              "      <td>1</td>\n",
              "      <td>0</td>\n",
              "      <td>0</td>\n",
              "      <td>0</td>\n",
              "      <td>0</td>\n",
              "      <td>0</td>\n",
              "      <td>0</td>\n",
              "      <td>0</td>\n",
              "      <td>0</td>\n",
              "      <td>0</td>\n",
              "      <td>0</td>\n",
              "      <td>0</td>\n",
              "      <td>0</td>\n",
              "      <td>0</td>\n",
              "      <td>0</td>\n",
              "      <td>0</td>\n",
              "      <td>0</td>\n",
              "      <td>0</td>\n",
              "      <td>0</td>\n",
              "      <td>0</td>\n",
              "      <td>0</td>\n",
              "      <td>0</td>\n",
              "      <td>0</td>\n",
              "      <td>0</td>\n",
              "      <td>0</td>\n",
              "      <td>0</td>\n",
              "      <td>0</td>\n",
              "      <td>0</td>\n",
              "      <td>0</td>\n",
              "      <td>0</td>\n",
              "      <td>0</td>\n",
              "      <td>0</td>\n",
              "      <td>0</td>\n",
              "    </tr>\n",
              "  </tbody>\n",
              "</table>\n",
              "</div>"
            ],
            "text/plain": [
              "  TransactionDate     StationName  ...  Interest_Total Events_Total\n",
              "0      2017-01-01        Bang Sue  ...               0            0\n",
              "1      2017-01-01  Chatuchak Park  ...               0            0\n",
              "2      2017-01-01    Hua Lamphong  ...               0            0\n",
              "3      2017-01-01     Huai Khwang  ...               0            0\n",
              "4      2017-01-01  Kamphaeng Phet  ...               0            0\n",
              "\n",
              "[5 rows x 41 columns]"
            ]
          },
          "metadata": {
            "tags": []
          },
          "execution_count": 2
        }
      ]
    },
    {
      "cell_type": "markdown",
      "metadata": {
        "id": "9Khw99mEmdqu",
        "colab_type": "text"
      },
      "source": [
        "# แปลงข้อมูล Category บาง Field อีกรอบเพื่อให้เข้า Model Regression ต่างๆได้"
      ]
    },
    {
      "cell_type": "code",
      "metadata": {
        "id": "vIHYjzFKmmCs",
        "colab_type": "code",
        "colab": {}
      },
      "source": [
        "stations_dummies = pd.get_dummies(inbound_df['StationName'])\n",
        "day_type_dummies = pd.get_dummies(inbound_df['DayType'])\n",
        "date_of_week_dummies = pd.get_dummies(inbound_df['DateOfWeek'])\n",
        "month_period_dummies = pd.get_dummies(inbound_df['MonthPeriod'])"
      ],
      "execution_count": 3,
      "outputs": []
    },
    {
      "cell_type": "code",
      "metadata": {
        "id": "chBeiwsnmtTn",
        "colab_type": "code",
        "colab": {}
      },
      "source": [
        "inbound_df.drop('TransactionDate', axis=1, inplace=True)\n",
        "inbound_df.drop('StationName', axis=1, inplace=True)\n",
        "inbound_df.drop('DayType', axis=1, inplace=True)\n",
        "inbound_df.drop('DateOfWeek', axis=1, inplace=True)\n",
        "inbound_df.drop('MonthPeriod', axis=1, inplace=True)"
      ],
      "execution_count": 4,
      "outputs": []
    },
    {
      "cell_type": "code",
      "metadata": {
        "id": "2n1SHyEzmwr1",
        "colab_type": "code",
        "colab": {
          "base_uri": "https://localhost:8080/",
          "height": 311
        },
        "outputId": "78c3c65b-009e-43ec-e06c-dd58d8a17752"
      },
      "source": [
        "inbound_df =pd.concat([inbound_df ,stations_dummies ], axis=1)\n",
        "inbound_df =pd.concat([inbound_df ,day_type_dummies ], axis=1)\n",
        "inbound_df =pd.concat([inbound_df ,date_of_week_dummies ], axis=1)\n",
        "inbound_df =pd.concat([inbound_df ,month_period_dummies ], axis=1)\n",
        "inbound_df.head()"
      ],
      "execution_count": 5,
      "outputs": [
        {
          "output_type": "execute_result",
          "data": {
            "text/html": [
              "<div>\n",
              "<style scoped>\n",
              "    .dataframe tbody tr th:only-of-type {\n",
              "        vertical-align: middle;\n",
              "    }\n",
              "\n",
              "    .dataframe tbody tr th {\n",
              "        vertical-align: top;\n",
              "    }\n",
              "\n",
              "    .dataframe thead th {\n",
              "        text-align: right;\n",
              "    }\n",
              "</style>\n",
              "<table border=\"1\" class=\"dataframe\">\n",
              "  <thead>\n",
              "    <tr style=\"text-align: right;\">\n",
              "      <th></th>\n",
              "      <th>PassengerCount</th>\n",
              "      <th>DayNumberOfMonth</th>\n",
              "      <th>MonthNumberOfYear</th>\n",
              "      <th>CalendarQuater</th>\n",
              "      <th>Interest_Agriculture</th>\n",
              "      <th>Interest_Books</th>\n",
              "      <th>Interest_Business</th>\n",
              "      <th>Interest_Education</th>\n",
              "      <th>Interest_Family</th>\n",
              "      <th>Interest_Fasion</th>\n",
              "      <th>Interest_Foods</th>\n",
              "      <th>Interest_General</th>\n",
              "      <th>Interest_Health</th>\n",
              "      <th>Interest_IT</th>\n",
              "      <th>Interest_Residence</th>\n",
              "      <th>Interest_Seminar</th>\n",
              "      <th>Interest_Sports</th>\n",
              "      <th>Interest_Travel</th>\n",
              "      <th>Interest_Vehnicle</th>\n",
              "      <th>EventsGroup_Agriculture</th>\n",
              "      <th>EventsGroup_Books</th>\n",
              "      <th>EventsGroup_Business</th>\n",
              "      <th>EventsGroup_Education</th>\n",
              "      <th>EventsGroup_Family</th>\n",
              "      <th>EventsGroup_Fasion</th>\n",
              "      <th>EventsGroup_Foods</th>\n",
              "      <th>EventsGroup_General</th>\n",
              "      <th>EventsGroup_Health</th>\n",
              "      <th>EventsGroup_IT</th>\n",
              "      <th>EventsGroup_Residence</th>\n",
              "      <th>EventsGroup_Seminar</th>\n",
              "      <th>EventsGroup_Sports</th>\n",
              "      <th>EventsGroup_Travel</th>\n",
              "      <th>EventsGroup_Vehnicle</th>\n",
              "      <th>Interest_Total</th>\n",
              "      <th>Events_Total</th>\n",
              "      <th>Bang Krasor</th>\n",
              "      <th>Bang Phlu</th>\n",
              "      <th>Bang Rak Noi Tha It</th>\n",
              "      <th>Bang Rak Yai</th>\n",
              "      <th>...</th>\n",
              "      <th>Hua Lamphong</th>\n",
              "      <th>Huai Khwang</th>\n",
              "      <th>Kamphaeng Phet</th>\n",
              "      <th>Khlong Bang Phai</th>\n",
              "      <th>Khlong Toei</th>\n",
              "      <th>Lat Phrao</th>\n",
              "      <th>Lumphini</th>\n",
              "      <th>Ministry of Public Health</th>\n",
              "      <th>Nonthaburi Civic Center</th>\n",
              "      <th>Phahon Yothin</th>\n",
              "      <th>Phetchaburi</th>\n",
              "      <th>Phra Nang Klao Bridge</th>\n",
              "      <th>Phra Ram 9</th>\n",
              "      <th>Queen Sirikit National Convention Centre</th>\n",
              "      <th>Ratchadaphisek</th>\n",
              "      <th>Sai Ma</th>\n",
              "      <th>Sam Yaek Bang Yai</th>\n",
              "      <th>Sam Yan</th>\n",
              "      <th>Si Lom</th>\n",
              "      <th>Sukhumvit</th>\n",
              "      <th>Sutthisan</th>\n",
              "      <th>Talad Bang Yai</th>\n",
              "      <th>Tao Poon</th>\n",
              "      <th>Thailand Cultural Centre</th>\n",
              "      <th>Wong Sawang</th>\n",
              "      <th>Yaek Nonthaburi 1</th>\n",
              "      <th>Yaek Tiwanon</th>\n",
              "      <th>PH</th>\n",
              "      <th>WD</th>\n",
              "      <th>WE</th>\n",
              "      <th>Friday</th>\n",
              "      <th>Monday</th>\n",
              "      <th>Saturday</th>\n",
              "      <th>Sunday</th>\n",
              "      <th>Thursday</th>\n",
              "      <th>Tuesday</th>\n",
              "      <th>Wednesday</th>\n",
              "      <th>Early</th>\n",
              "      <th>Late</th>\n",
              "      <th>Mid</th>\n",
              "    </tr>\n",
              "  </thead>\n",
              "  <tbody>\n",
              "    <tr>\n",
              "      <th>0</th>\n",
              "      <td>186</td>\n",
              "      <td>1</td>\n",
              "      <td>1</td>\n",
              "      <td>1</td>\n",
              "      <td>0</td>\n",
              "      <td>0</td>\n",
              "      <td>0</td>\n",
              "      <td>0</td>\n",
              "      <td>0</td>\n",
              "      <td>0</td>\n",
              "      <td>0</td>\n",
              "      <td>0</td>\n",
              "      <td>0</td>\n",
              "      <td>0</td>\n",
              "      <td>0</td>\n",
              "      <td>0</td>\n",
              "      <td>0</td>\n",
              "      <td>0</td>\n",
              "      <td>0</td>\n",
              "      <td>0</td>\n",
              "      <td>0</td>\n",
              "      <td>0</td>\n",
              "      <td>0</td>\n",
              "      <td>0</td>\n",
              "      <td>0</td>\n",
              "      <td>0</td>\n",
              "      <td>0</td>\n",
              "      <td>0</td>\n",
              "      <td>0</td>\n",
              "      <td>0</td>\n",
              "      <td>0</td>\n",
              "      <td>0</td>\n",
              "      <td>0</td>\n",
              "      <td>0</td>\n",
              "      <td>0</td>\n",
              "      <td>0</td>\n",
              "      <td>0</td>\n",
              "      <td>0</td>\n",
              "      <td>0</td>\n",
              "      <td>0</td>\n",
              "      <td>...</td>\n",
              "      <td>0</td>\n",
              "      <td>0</td>\n",
              "      <td>0</td>\n",
              "      <td>0</td>\n",
              "      <td>0</td>\n",
              "      <td>0</td>\n",
              "      <td>0</td>\n",
              "      <td>0</td>\n",
              "      <td>0</td>\n",
              "      <td>0</td>\n",
              "      <td>0</td>\n",
              "      <td>0</td>\n",
              "      <td>0</td>\n",
              "      <td>0</td>\n",
              "      <td>0</td>\n",
              "      <td>0</td>\n",
              "      <td>0</td>\n",
              "      <td>0</td>\n",
              "      <td>0</td>\n",
              "      <td>0</td>\n",
              "      <td>0</td>\n",
              "      <td>0</td>\n",
              "      <td>0</td>\n",
              "      <td>0</td>\n",
              "      <td>0</td>\n",
              "      <td>0</td>\n",
              "      <td>0</td>\n",
              "      <td>0</td>\n",
              "      <td>0</td>\n",
              "      <td>1</td>\n",
              "      <td>0</td>\n",
              "      <td>0</td>\n",
              "      <td>0</td>\n",
              "      <td>1</td>\n",
              "      <td>0</td>\n",
              "      <td>0</td>\n",
              "      <td>0</td>\n",
              "      <td>1</td>\n",
              "      <td>0</td>\n",
              "      <td>0</td>\n",
              "    </tr>\n",
              "    <tr>\n",
              "      <th>1</th>\n",
              "      <td>359</td>\n",
              "      <td>1</td>\n",
              "      <td>1</td>\n",
              "      <td>1</td>\n",
              "      <td>0</td>\n",
              "      <td>0</td>\n",
              "      <td>0</td>\n",
              "      <td>0</td>\n",
              "      <td>0</td>\n",
              "      <td>0</td>\n",
              "      <td>0</td>\n",
              "      <td>0</td>\n",
              "      <td>0</td>\n",
              "      <td>0</td>\n",
              "      <td>0</td>\n",
              "      <td>0</td>\n",
              "      <td>0</td>\n",
              "      <td>0</td>\n",
              "      <td>0</td>\n",
              "      <td>0</td>\n",
              "      <td>0</td>\n",
              "      <td>0</td>\n",
              "      <td>0</td>\n",
              "      <td>0</td>\n",
              "      <td>0</td>\n",
              "      <td>0</td>\n",
              "      <td>0</td>\n",
              "      <td>0</td>\n",
              "      <td>0</td>\n",
              "      <td>0</td>\n",
              "      <td>0</td>\n",
              "      <td>0</td>\n",
              "      <td>0</td>\n",
              "      <td>0</td>\n",
              "      <td>0</td>\n",
              "      <td>0</td>\n",
              "      <td>0</td>\n",
              "      <td>0</td>\n",
              "      <td>0</td>\n",
              "      <td>0</td>\n",
              "      <td>...</td>\n",
              "      <td>0</td>\n",
              "      <td>0</td>\n",
              "      <td>0</td>\n",
              "      <td>0</td>\n",
              "      <td>0</td>\n",
              "      <td>0</td>\n",
              "      <td>0</td>\n",
              "      <td>0</td>\n",
              "      <td>0</td>\n",
              "      <td>0</td>\n",
              "      <td>0</td>\n",
              "      <td>0</td>\n",
              "      <td>0</td>\n",
              "      <td>0</td>\n",
              "      <td>0</td>\n",
              "      <td>0</td>\n",
              "      <td>0</td>\n",
              "      <td>0</td>\n",
              "      <td>0</td>\n",
              "      <td>0</td>\n",
              "      <td>0</td>\n",
              "      <td>0</td>\n",
              "      <td>0</td>\n",
              "      <td>0</td>\n",
              "      <td>0</td>\n",
              "      <td>0</td>\n",
              "      <td>0</td>\n",
              "      <td>0</td>\n",
              "      <td>0</td>\n",
              "      <td>1</td>\n",
              "      <td>0</td>\n",
              "      <td>0</td>\n",
              "      <td>0</td>\n",
              "      <td>1</td>\n",
              "      <td>0</td>\n",
              "      <td>0</td>\n",
              "      <td>0</td>\n",
              "      <td>1</td>\n",
              "      <td>0</td>\n",
              "      <td>0</td>\n",
              "    </tr>\n",
              "    <tr>\n",
              "      <th>2</th>\n",
              "      <td>299</td>\n",
              "      <td>1</td>\n",
              "      <td>1</td>\n",
              "      <td>1</td>\n",
              "      <td>0</td>\n",
              "      <td>0</td>\n",
              "      <td>0</td>\n",
              "      <td>0</td>\n",
              "      <td>0</td>\n",
              "      <td>0</td>\n",
              "      <td>0</td>\n",
              "      <td>0</td>\n",
              "      <td>0</td>\n",
              "      <td>0</td>\n",
              "      <td>0</td>\n",
              "      <td>0</td>\n",
              "      <td>0</td>\n",
              "      <td>0</td>\n",
              "      <td>0</td>\n",
              "      <td>0</td>\n",
              "      <td>0</td>\n",
              "      <td>0</td>\n",
              "      <td>0</td>\n",
              "      <td>0</td>\n",
              "      <td>0</td>\n",
              "      <td>0</td>\n",
              "      <td>0</td>\n",
              "      <td>0</td>\n",
              "      <td>0</td>\n",
              "      <td>0</td>\n",
              "      <td>0</td>\n",
              "      <td>0</td>\n",
              "      <td>0</td>\n",
              "      <td>0</td>\n",
              "      <td>0</td>\n",
              "      <td>0</td>\n",
              "      <td>0</td>\n",
              "      <td>0</td>\n",
              "      <td>0</td>\n",
              "      <td>0</td>\n",
              "      <td>...</td>\n",
              "      <td>1</td>\n",
              "      <td>0</td>\n",
              "      <td>0</td>\n",
              "      <td>0</td>\n",
              "      <td>0</td>\n",
              "      <td>0</td>\n",
              "      <td>0</td>\n",
              "      <td>0</td>\n",
              "      <td>0</td>\n",
              "      <td>0</td>\n",
              "      <td>0</td>\n",
              "      <td>0</td>\n",
              "      <td>0</td>\n",
              "      <td>0</td>\n",
              "      <td>0</td>\n",
              "      <td>0</td>\n",
              "      <td>0</td>\n",
              "      <td>0</td>\n",
              "      <td>0</td>\n",
              "      <td>0</td>\n",
              "      <td>0</td>\n",
              "      <td>0</td>\n",
              "      <td>0</td>\n",
              "      <td>0</td>\n",
              "      <td>0</td>\n",
              "      <td>0</td>\n",
              "      <td>0</td>\n",
              "      <td>0</td>\n",
              "      <td>0</td>\n",
              "      <td>1</td>\n",
              "      <td>0</td>\n",
              "      <td>0</td>\n",
              "      <td>0</td>\n",
              "      <td>1</td>\n",
              "      <td>0</td>\n",
              "      <td>0</td>\n",
              "      <td>0</td>\n",
              "      <td>1</td>\n",
              "      <td>0</td>\n",
              "      <td>0</td>\n",
              "    </tr>\n",
              "    <tr>\n",
              "      <th>3</th>\n",
              "      <td>431</td>\n",
              "      <td>1</td>\n",
              "      <td>1</td>\n",
              "      <td>1</td>\n",
              "      <td>0</td>\n",
              "      <td>0</td>\n",
              "      <td>0</td>\n",
              "      <td>0</td>\n",
              "      <td>0</td>\n",
              "      <td>0</td>\n",
              "      <td>0</td>\n",
              "      <td>0</td>\n",
              "      <td>0</td>\n",
              "      <td>0</td>\n",
              "      <td>0</td>\n",
              "      <td>0</td>\n",
              "      <td>0</td>\n",
              "      <td>0</td>\n",
              "      <td>0</td>\n",
              "      <td>0</td>\n",
              "      <td>0</td>\n",
              "      <td>0</td>\n",
              "      <td>0</td>\n",
              "      <td>0</td>\n",
              "      <td>0</td>\n",
              "      <td>0</td>\n",
              "      <td>0</td>\n",
              "      <td>0</td>\n",
              "      <td>0</td>\n",
              "      <td>0</td>\n",
              "      <td>0</td>\n",
              "      <td>0</td>\n",
              "      <td>0</td>\n",
              "      <td>0</td>\n",
              "      <td>0</td>\n",
              "      <td>0</td>\n",
              "      <td>0</td>\n",
              "      <td>0</td>\n",
              "      <td>0</td>\n",
              "      <td>0</td>\n",
              "      <td>...</td>\n",
              "      <td>0</td>\n",
              "      <td>1</td>\n",
              "      <td>0</td>\n",
              "      <td>0</td>\n",
              "      <td>0</td>\n",
              "      <td>0</td>\n",
              "      <td>0</td>\n",
              "      <td>0</td>\n",
              "      <td>0</td>\n",
              "      <td>0</td>\n",
              "      <td>0</td>\n",
              "      <td>0</td>\n",
              "      <td>0</td>\n",
              "      <td>0</td>\n",
              "      <td>0</td>\n",
              "      <td>0</td>\n",
              "      <td>0</td>\n",
              "      <td>0</td>\n",
              "      <td>0</td>\n",
              "      <td>0</td>\n",
              "      <td>0</td>\n",
              "      <td>0</td>\n",
              "      <td>0</td>\n",
              "      <td>0</td>\n",
              "      <td>0</td>\n",
              "      <td>0</td>\n",
              "      <td>0</td>\n",
              "      <td>0</td>\n",
              "      <td>0</td>\n",
              "      <td>1</td>\n",
              "      <td>0</td>\n",
              "      <td>0</td>\n",
              "      <td>0</td>\n",
              "      <td>1</td>\n",
              "      <td>0</td>\n",
              "      <td>0</td>\n",
              "      <td>0</td>\n",
              "      <td>1</td>\n",
              "      <td>0</td>\n",
              "      <td>0</td>\n",
              "    </tr>\n",
              "    <tr>\n",
              "      <th>4</th>\n",
              "      <td>233</td>\n",
              "      <td>1</td>\n",
              "      <td>1</td>\n",
              "      <td>1</td>\n",
              "      <td>0</td>\n",
              "      <td>0</td>\n",
              "      <td>0</td>\n",
              "      <td>0</td>\n",
              "      <td>0</td>\n",
              "      <td>0</td>\n",
              "      <td>0</td>\n",
              "      <td>0</td>\n",
              "      <td>0</td>\n",
              "      <td>0</td>\n",
              "      <td>0</td>\n",
              "      <td>0</td>\n",
              "      <td>0</td>\n",
              "      <td>0</td>\n",
              "      <td>0</td>\n",
              "      <td>0</td>\n",
              "      <td>0</td>\n",
              "      <td>0</td>\n",
              "      <td>0</td>\n",
              "      <td>0</td>\n",
              "      <td>0</td>\n",
              "      <td>0</td>\n",
              "      <td>0</td>\n",
              "      <td>0</td>\n",
              "      <td>0</td>\n",
              "      <td>0</td>\n",
              "      <td>0</td>\n",
              "      <td>0</td>\n",
              "      <td>0</td>\n",
              "      <td>0</td>\n",
              "      <td>0</td>\n",
              "      <td>0</td>\n",
              "      <td>0</td>\n",
              "      <td>0</td>\n",
              "      <td>0</td>\n",
              "      <td>0</td>\n",
              "      <td>...</td>\n",
              "      <td>0</td>\n",
              "      <td>0</td>\n",
              "      <td>1</td>\n",
              "      <td>0</td>\n",
              "      <td>0</td>\n",
              "      <td>0</td>\n",
              "      <td>0</td>\n",
              "      <td>0</td>\n",
              "      <td>0</td>\n",
              "      <td>0</td>\n",
              "      <td>0</td>\n",
              "      <td>0</td>\n",
              "      <td>0</td>\n",
              "      <td>0</td>\n",
              "      <td>0</td>\n",
              "      <td>0</td>\n",
              "      <td>0</td>\n",
              "      <td>0</td>\n",
              "      <td>0</td>\n",
              "      <td>0</td>\n",
              "      <td>0</td>\n",
              "      <td>0</td>\n",
              "      <td>0</td>\n",
              "      <td>0</td>\n",
              "      <td>0</td>\n",
              "      <td>0</td>\n",
              "      <td>0</td>\n",
              "      <td>0</td>\n",
              "      <td>0</td>\n",
              "      <td>1</td>\n",
              "      <td>0</td>\n",
              "      <td>0</td>\n",
              "      <td>0</td>\n",
              "      <td>1</td>\n",
              "      <td>0</td>\n",
              "      <td>0</td>\n",
              "      <td>0</td>\n",
              "      <td>1</td>\n",
              "      <td>0</td>\n",
              "      <td>0</td>\n",
              "    </tr>\n",
              "  </tbody>\n",
              "</table>\n",
              "<p>5 rows × 83 columns</p>\n",
              "</div>"
            ],
            "text/plain": [
              "   PassengerCount  DayNumberOfMonth  MonthNumberOfYear  ...  Early  Late  Mid\n",
              "0             186                 1                  1  ...      1     0    0\n",
              "1             359                 1                  1  ...      1     0    0\n",
              "2             299                 1                  1  ...      1     0    0\n",
              "3             431                 1                  1  ...      1     0    0\n",
              "4             233                 1                  1  ...      1     0    0\n",
              "\n",
              "[5 rows x 83 columns]"
            ]
          },
          "metadata": {
            "tags": []
          },
          "execution_count": 5
        }
      ]
    },
    {
      "cell_type": "code",
      "metadata": {
        "id": "Nk5sWRmmmx3x",
        "colab_type": "code",
        "colab": {
          "base_uri": "https://localhost:8080/",
          "height": 35
        },
        "outputId": "f546640a-b578-4924-8d8d-ef7fa98b254a"
      },
      "source": [
        "inbound_df.shape"
      ],
      "execution_count": 6,
      "outputs": [
        {
          "output_type": "execute_result",
          "data": {
            "text/plain": [
              "(8864, 83)"
            ]
          },
          "metadata": {
            "tags": []
          },
          "execution_count": 6
        }
      ]
    },
    {
      "cell_type": "code",
      "metadata": {
        "id": "yXhIKs2Zmy-J",
        "colab_type": "code",
        "colab": {
          "base_uri": "https://localhost:8080/",
          "height": 444
        },
        "outputId": "6e6b67a9-7259-4a57-b7b1-89d1d850fb60"
      },
      "source": [
        "inbound_df.columns"
      ],
      "execution_count": 7,
      "outputs": [
        {
          "output_type": "execute_result",
          "data": {
            "text/plain": [
              "Index(['PassengerCount', 'DayNumberOfMonth', 'MonthNumberOfYear',\n",
              "       'CalendarQuater', 'Interest_Agriculture', 'Interest_Books',\n",
              "       'Interest_Business', 'Interest_Education', 'Interest_Family',\n",
              "       'Interest_Fasion', 'Interest_Foods', 'Interest_General',\n",
              "       'Interest_Health', 'Interest_IT', 'Interest_Residence',\n",
              "       'Interest_Seminar', 'Interest_Sports', 'Interest_Travel',\n",
              "       'Interest_Vehnicle', 'EventsGroup_Agriculture', 'EventsGroup_Books',\n",
              "       'EventsGroup_Business', 'EventsGroup_Education', 'EventsGroup_Family',\n",
              "       'EventsGroup_Fasion', 'EventsGroup_Foods', 'EventsGroup_General',\n",
              "       'EventsGroup_Health', 'EventsGroup_IT', 'EventsGroup_Residence',\n",
              "       'EventsGroup_Seminar', 'EventsGroup_Sports', 'EventsGroup_Travel',\n",
              "       'EventsGroup_Vehnicle', 'Interest_Total', 'Events_Total', 'Bang Krasor',\n",
              "       'Bang Phlu', 'Bang Rak Noi Tha It', 'Bang Rak Yai', 'Bang Son',\n",
              "       'Bang Sue', 'Chatuchak Park', 'Hua Lamphong', 'Huai Khwang',\n",
              "       'Kamphaeng Phet', 'Khlong Bang Phai', 'Khlong Toei', 'Lat Phrao',\n",
              "       'Lumphini', 'Ministry of Public Health', 'Nonthaburi Civic Center',\n",
              "       'Phahon Yothin', 'Phetchaburi', 'Phra Nang Klao Bridge', 'Phra Ram 9',\n",
              "       'Queen Sirikit National Convention Centre', 'Ratchadaphisek', 'Sai Ma',\n",
              "       'Sam Yaek Bang Yai', 'Sam Yan', 'Si Lom', 'Sukhumvit', 'Sutthisan',\n",
              "       'Talad Bang Yai', 'Tao Poon', 'Thailand Cultural Centre', 'Wong Sawang',\n",
              "       'Yaek Nonthaburi 1', 'Yaek Tiwanon', 'PH', 'WD', 'WE', 'Friday',\n",
              "       'Monday', 'Saturday', 'Sunday', 'Thursday', 'Tuesday', 'Wednesday',\n",
              "       'Early', 'Late', 'Mid'],\n",
              "      dtype='object')"
            ]
          },
          "metadata": {
            "tags": []
          },
          "execution_count": 7
        }
      ]
    },
    {
      "cell_type": "code",
      "metadata": {
        "id": "PMP7Bvvum-MQ",
        "colab_type": "code",
        "colab": {
          "base_uri": "https://localhost:8080/",
          "height": 297
        },
        "outputId": "d72aaa9a-87c4-43c2-a284-775a25f19967"
      },
      "source": [
        "sns.distplot(inbound_df['PassengerCount'])"
      ],
      "execution_count": 8,
      "outputs": [
        {
          "output_type": "execute_result",
          "data": {
            "text/plain": [
              "<matplotlib.axes._subplots.AxesSubplot at 0x7f1cd2817588>"
            ]
          },
          "metadata": {
            "tags": []
          },
          "execution_count": 8
        },
        {
          "output_type": "display_data",
          "data": {
            "image/png": "[encoded data removed]",
            "text/plain": [
              "<Figure size 432x288 with 1 Axes>"
            ]
          },
          "metadata": {
            "tags": [],
            "needs_background": "light"
          }
        }
      ]
    },
    {
      "cell_type": "markdown",
      "metadata": {
        "id": "RJ3nLBYKsCfk",
        "colab_type": "text"
      },
      "source": [
        "# เตรียม Train set , Test set สำหรับทุก Model"
      ]
    },
    {
      "cell_type": "code",
      "metadata": {
        "id": "6cbq1QHirXyL",
        "colab_type": "code",
        "colab": {}
      },
      "source": [
        "y = inbound_df['PassengerCount']\n",
        "inbound_df.drop('PassengerCount', axis=1, inplace=True)\n",
        "X = inbound_df"
      ],
      "execution_count": 9,
      "outputs": []
    },
    {
      "cell_type": "code",
      "metadata": {
        "id": "BYzoej1wrgVZ",
        "colab_type": "code",
        "colab": {}
      },
      "source": [
        "from sklearn.model_selection import train_test_split\n",
        "from sklearn import metrics\n",
        "from scipy import stats"
      ],
      "execution_count": 10,
      "outputs": []
    },
    {
      "cell_type": "code",
      "metadata": {
        "id": "8tqdBdxNru8v",
        "colab_type": "code",
        "colab": {}
      },
      "source": [
        "X_train, X_test, y_train, y_test = train_test_split(X, y, test_size=0.3, random_state=101)"
      ],
      "execution_count": 11,
      "outputs": []
    },
    {
      "cell_type": "code",
      "metadata": {
        "id": "vPoSoRMJrxdv",
        "colab_type": "code",
        "colab": {
          "base_uri": "https://localhost:8080/",
          "height": 88
        },
        "outputId": "bef7adf6-23a0-4f7f-8000-9544e76df6e6"
      },
      "source": [
        "print(\"X_train size : {}\".format(X_train.shape))\n",
        "print(\"X_test size : {}\".format(X_test.shape))\n",
        "print(\"y_train size : {}\".format(y_train.shape))\n",
        "print(\"y_test size : {}\".format(y_test.shape))"
      ],
      "execution_count": 12,
      "outputs": [
        {
          "output_type": "stream",
          "text": [
            "X_train size : (6204, 82)\n",
            "X_test size : (2660, 82)\n",
            "y_train size : (6204,)\n",
            "y_test size : (2660,)\n"
          ],
          "name": "stdout"
        }
      ]
    },
    {
      "cell_type": "code",
      "metadata": {
        "id": "UACnJl2RshDP",
        "colab_type": "code",
        "colab": {}
      },
      "source": [
        "def mean_absolute_percentage_error(y_true, y_pred): \n",
        "  y_true, y_pred = np.array(y_true), np.array(y_pred)\n",
        "  return np.mean(np.abs((y_true - y_pred) / y_true)) * 100\n",
        "\n",
        "def median_absolute_deviation(y_test, y_pred):\n",
        "  x = np.array([y_test, y_pred])\n",
        "  return stats.median_absolute_deviation(x, axis=None)"
      ],
      "execution_count": 13,
      "outputs": []
    },
    {
      "cell_type": "markdown",
      "metadata": {
        "id": "CjUgPCstrbC9",
        "colab_type": "text"
      },
      "source": [
        "# Train Regression"
      ]
    },
    {
      "cell_type": "code",
      "metadata": {
        "id": "2csvy-2Pro6t",
        "colab_type": "code",
        "colab": {}
      },
      "source": [
        "from sklearn.linear_model import LinearRegression"
      ],
      "execution_count": 14,
      "outputs": []
    },
    {
      "cell_type": "code",
      "metadata": {
        "id": "mS1QGmtNr1V-",
        "colab_type": "code",
        "colab": {
          "base_uri": "https://localhost:8080/",
          "height": 35
        },
        "outputId": "3a71d15c-7116-45f8-b630-d0b4008a583d"
      },
      "source": [
        "regression = LinearRegression()\n",
        "regression.fit(X_train, y_train)"
      ],
      "execution_count": 15,
      "outputs": [
        {
          "output_type": "execute_result",
          "data": {
            "text/plain": [
              "LinearRegression(copy_X=True, fit_intercept=True, n_jobs=None, normalize=False)"
            ]
          },
          "metadata": {
            "tags": []
          },
          "execution_count": 15
        }
      ]
    },
    {
      "cell_type": "code",
      "metadata": {
        "id": "7WbW1XFor5s6",
        "colab_type": "code",
        "colab": {}
      },
      "source": [
        "y_pred_regression = regression.predict(X_test)"
      ],
      "execution_count": 17,
      "outputs": []
    },
    {
      "cell_type": "code",
      "metadata": {
        "id": "z1pUzCs6sAiT",
        "colab_type": "code",
        "colab": {
          "base_uri": "https://localhost:8080/",
          "height": 283
        },
        "outputId": "4f62a0f6-ac47-4b1d-edbb-22c4b2f64125"
      },
      "source": [
        "plt.scatter(y_test,y_pred_regression)"
      ],
      "execution_count": 18,
      "outputs": [
        {
          "output_type": "execute_result",
          "data": {
            "text/plain": [
              "<matplotlib.collections.PathCollection at 0x7f1ccf9629e8>"
            ]
          },
          "metadata": {
            "tags": []
          },
          "execution_count": 18
        },
        {
          "output_type": "display_data",
          "data": {
            "image/png": "[encoded data removed]",
            "text/plain": [
              "<Figure size 432x288 with 1 Axes>"
            ]
          },
          "metadata": {
            "tags": [],
            "needs_background": "light"
          }
        }
      ]
    },
    {
      "cell_type": "code",
      "metadata": {
        "id": "CLvo3sSAsYMR",
        "colab_type": "code",
        "colab": {
          "base_uri": "https://localhost:8080/",
          "height": 106
        },
        "outputId": "625ff0b5-aa05-43a0-862f-b446a1b81029"
      },
      "source": [
        "print(\"MAE = {}\".format(metrics.mean_absolute_error(y_test, y_pred_regression)))\n",
        "print(\"MSE = {}\".format(metrics.mean_squared_error(y_test, y_pred_regression)))\n",
        "print(\"RMSE = {}\".format(np.sqrt(metrics.mean_squared_error(y_test, y_pred_regression))))\n",
        "print(\"MAD = {}\".format(median_absolute_deviation(y_test, y_pred_regression)))\n",
        "print(\"MAPE = {}\".format(mean_absolute_percentage_error(y_test, y_pred_regression)))"
      ],
      "execution_count": 20,
      "outputs": [
        {
          "output_type": "stream",
          "text": [
            "MAE = 523.4916698018558\n",
            "MSE = 495650.514152278\n",
            "RMSE = 704.024512465495\n",
            "MAD = 1861.0728118968852\n",
            "MAPE = 339.3566839653962\n"
          ],
          "name": "stdout"
        }
      ]
    },
    {
      "cell_type": "markdown",
      "metadata": {
        "id": "DVVYAa59ubBS",
        "colab_type": "text"
      },
      "source": [
        "# Train Support Vector Regression"
      ]
    },
    {
      "cell_type": "code",
      "metadata": {
        "id": "hcu12l6PueRG",
        "colab_type": "code",
        "colab": {}
      },
      "source": [
        "from sklearn.svm import SVR"
      ],
      "execution_count": 24,
      "outputs": []
    },
    {
      "cell_type": "code",
      "metadata": {
        "id": "wE4OFNv_umQA",
        "colab_type": "code",
        "colab": {
          "base_uri": "https://localhost:8080/",
          "height": 52
        },
        "outputId": "586ffc70-a688-461d-a516-25b0a2d7af14"
      },
      "source": [
        "svr = SVR(kernel='linear')\n",
        "svr.fit(X_train,y_train)"
      ],
      "execution_count": 25,
      "outputs": [
        {
          "output_type": "execute_result",
          "data": {
            "text/plain": [
              "SVR(C=1.0, cache_size=200, coef0=0.0, degree=3, epsilon=0.1, gamma='scale',\n",
              "    kernel='linear', max_iter=-1, shrinking=True, tol=0.001, verbose=False)"
            ]
          },
          "metadata": {
            "tags": []
          },
          "execution_count": 25
        }
      ]
    },
    {
      "cell_type": "code",
      "metadata": {
        "id": "dhj1rNg8uoot",
        "colab_type": "code",
        "colab": {}
      },
      "source": [
        "y_pred_svr = svr.predict(X_test)"
      ],
      "execution_count": 26,
      "outputs": []
    },
    {
      "cell_type": "code",
      "metadata": {
        "id": "0YBAlCWDutMk",
        "colab_type": "code",
        "colab": {
          "base_uri": "https://localhost:8080/",
          "height": 283
        },
        "outputId": "6d5c42eb-07ef-41cc-a49c-29a353b815ee"
      },
      "source": [
        "plt.scatter(y_test,y_pred_regression)"
      ],
      "execution_count": 27,
      "outputs": [
        {
          "output_type": "execute_result",
          "data": {
            "text/plain": [
              "<matplotlib.collections.PathCollection at 0x7f1ccf431278>"
            ]
          },
          "metadata": {
            "tags": []
          },
          "execution_count": 27
        },
        {
          "output_type": "display_data",
          "data": {
            "image/png": "[encoded data removed]",
            "text/plain": [
              "<Figure size 432x288 with 1 Axes>"
            ]
          },
          "metadata": {
            "tags": [],
            "needs_background": "light"
          }
        }
      ]
    },
    {
      "cell_type": "code",
      "metadata": {
        "id": "XI5I27WIuvKw",
        "colab_type": "code",
        "colab": {
          "base_uri": "https://localhost:8080/",
          "height": 106
        },
        "outputId": "47efc3f6-fd07-4fdf-b630-6278484d0d81"
      },
      "source": [
        "print(\"MAE = {}\".format(metrics.mean_absolute_error(y_test, y_pred_svr)))\n",
        "print(\"MSE = {}\".format(metrics.mean_squared_error(y_test, y_pred_svr)))\n",
        "print(\"RMSE = {}\".format(np.sqrt(metrics.mean_squared_error(y_test, y_pred_svr))))\n",
        "print(\"MAD = {}\".format(median_absolute_deviation(y_test, y_pred_svr)))\n",
        "print(\"MAPE = {}\".format(mean_absolute_percentage_error(y_test, y_pred_svr)))"
      ],
      "execution_count": 28,
      "outputs": [
        {
          "output_type": "stream",
          "text": [
            "MAE = 1250.6275524310013\n",
            "MSE = 2969024.9919470395\n",
            "RMSE = 1723.0858922140358\n",
            "MAD = 844.0652800486772\n",
            "MAPE = 574.981868883155\n"
          ],
          "name": "stdout"
        }
      ]
    },
    {
      "cell_type": "markdown",
      "metadata": {
        "id": "yqMGIrNXvyvr",
        "colab_type": "text"
      },
      "source": [
        "# Train Regresstion Tree"
      ]
    },
    {
      "cell_type": "code",
      "metadata": {
        "id": "Q8uOO-7PvzAn",
        "colab_type": "code",
        "colab": {}
      },
      "source": [
        "from sklearn.tree import DecisionTreeRegressor"
      ],
      "execution_count": 31,
      "outputs": []
    },
    {
      "cell_type": "code",
      "metadata": {
        "id": "2ndFzVB4v2eN",
        "colab_type": "code",
        "colab": {
          "base_uri": "https://localhost:8080/",
          "height": 124
        },
        "outputId": "71fb86b7-a81c-4f6e-eab9-71f29b19d505"
      },
      "source": [
        "dtr = DecisionTreeRegressor(random_state=0)\n",
        "dtr.fit(X_train,y_train)"
      ],
      "execution_count": 32,
      "outputs": [
        {
          "output_type": "execute_result",
          "data": {
            "text/plain": [
              "DecisionTreeRegressor(ccp_alpha=0.0, criterion='mse', max_depth=None,\n",
              "                      max_features=None, max_leaf_nodes=None,\n",
              "                      min_impurity_decrease=0.0, min_impurity_split=None,\n",
              "                      min_samples_leaf=1, min_samples_split=2,\n",
              "                      min_weight_fraction_leaf=0.0, presort='deprecated',\n",
              "                      random_state=0, splitter='best')"
            ]
          },
          "metadata": {
            "tags": []
          },
          "execution_count": 32
        }
      ]
    },
    {
      "cell_type": "code",
      "metadata": {
        "id": "qesWNgz0v7zv",
        "colab_type": "code",
        "colab": {}
      },
      "source": [
        "y_pred_dtr = dtr.predict(X_test)"
      ],
      "execution_count": 33,
      "outputs": []
    },
    {
      "cell_type": "code",
      "metadata": {
        "id": "qbCwmH6Mv6vv",
        "colab_type": "code",
        "colab": {
          "base_uri": "https://localhost:8080/",
          "height": 283
        },
        "outputId": "5b1ad803-e31f-4b1a-e097-3c04b6d9b96a"
      },
      "source": [
        "plt.scatter(y_test,y_pred_dtr)"
      ],
      "execution_count": 39,
      "outputs": [
        {
          "output_type": "execute_result",
          "data": {
            "text/plain": [
              "<matplotlib.collections.PathCollection at 0x7f1ccf1560f0>"
            ]
          },
          "metadata": {
            "tags": []
          },
          "execution_count": 39
        },
        {
          "output_type": "display_data",
          "data": {
            "image/png": "[encoded data removed]",
            "text/plain": [
              "<Figure size 432x288 with 1 Axes>"
            ]
          },
          "metadata": {
            "tags": [],
            "needs_background": "light"
          }
        }
      ]
    },
    {
      "cell_type": "code",
      "metadata": {
        "id": "darymaokv_v8",
        "colab_type": "code",
        "colab": {
          "base_uri": "https://localhost:8080/",
          "height": 106
        },
        "outputId": "8922c080-ea4d-464a-9197-8085734dcbc3"
      },
      "source": [
        "print(\"MAE = {}\".format(metrics.mean_absolute_error(y_test, y_pred_dtr)))\n",
        "print(\"MSE = {}\".format(metrics.mean_squared_error(y_test, y_pred_dtr)))\n",
        "print(\"RMSE = {}\".format(np.sqrt(metrics.mean_squared_error(y_test, y_pred_dtr))))\n",
        "print(\"MAD = {}\".format(median_absolute_deviation(y_test, y_pred_dtr)))\n",
        "print(\"MAPE = {}\".format(mean_absolute_percentage_error(y_test, y_pred_dtr)))"
      ],
      "execution_count": 40,
      "outputs": [
        {
          "output_type": "stream",
          "text": [
            "MAE = 172.7342105263158\n",
            "MSE = 145741.67406015037\n",
            "RMSE = 381.7612788905527\n",
            "MAD = 1862.8869\n",
            "MAPE = 123.84045500148142\n"
          ],
          "name": "stdout"
        }
      ]
    },
    {
      "cell_type": "markdown",
      "metadata": {
        "id": "yYCLUDSIwmiA",
        "colab_type": "text"
      },
      "source": [
        "# Train Random Forest Regression\n"
      ]
    },
    {
      "cell_type": "code",
      "metadata": {
        "id": "NgwPhW1Vwmp0",
        "colab_type": "code",
        "colab": {}
      },
      "source": [
        "from sklearn.ensemble import RandomForestRegressor "
      ],
      "execution_count": 44,
      "outputs": []
    },
    {
      "cell_type": "code",
      "metadata": {
        "id": "SrvhyzJNwseX",
        "colab_type": "code",
        "colab": {
          "base_uri": "https://localhost:8080/",
          "height": 141
        },
        "outputId": "53279a2e-0023-4c1e-b680-ebcea640c5eb"
      },
      "source": [
        "rfr = RandomForestRegressor(n_estimators = 100, random_state = 0) \n",
        "rfr.fit(X_train,y_train)"
      ],
      "execution_count": 45,
      "outputs": [
        {
          "output_type": "execute_result",
          "data": {
            "text/plain": [
              "RandomForestRegressor(bootstrap=True, ccp_alpha=0.0, criterion='mse',\n",
              "                      max_depth=None, max_features='auto', max_leaf_nodes=None,\n",
              "                      max_samples=None, min_impurity_decrease=0.0,\n",
              "                      min_impurity_split=None, min_samples_leaf=1,\n",
              "                      min_samples_split=2, min_weight_fraction_leaf=0.0,\n",
              "                      n_estimators=100, n_jobs=None, oob_score=False,\n",
              "                      random_state=0, verbose=0, warm_start=False)"
            ]
          },
          "metadata": {
            "tags": []
          },
          "execution_count": 45
        }
      ]
    },
    {
      "cell_type": "code",
      "metadata": {
        "id": "sCILT3N-wwDL",
        "colab_type": "code",
        "colab": {}
      },
      "source": [
        "y_pred_rfr = rfr.predict(X_test)"
      ],
      "execution_count": 46,
      "outputs": []
    },
    {
      "cell_type": "code",
      "metadata": {
        "id": "ObeUJARlwz6J",
        "colab_type": "code",
        "colab": {
          "base_uri": "https://localhost:8080/",
          "height": 283
        },
        "outputId": "7c0b38dd-a5e7-43bd-cf00-4e52fa04adac"
      },
      "source": [
        "plt.scatter(y_test,y_pred_rfr)"
      ],
      "execution_count": 48,
      "outputs": [
        {
          "output_type": "execute_result",
          "data": {
            "text/plain": [
              "<matplotlib.collections.PathCollection at 0x7f1ccf4bea58>"
            ]
          },
          "metadata": {
            "tags": []
          },
          "execution_count": 48
        },
        {
          "output_type": "display_data",
          "data": {
            "image/png": "[encoded data removed]",
            "text/plain": [
              "<Figure size 432x288 with 1 Axes>"
            ]
          },
          "metadata": {
            "tags": [],
            "needs_background": "light"
          }
        }
      ]
    },
    {
      "cell_type": "code",
      "metadata": {
        "id": "G-5HSURLw1zr",
        "colab_type": "code",
        "colab": {
          "base_uri": "https://localhost:8080/",
          "height": 106
        },
        "outputId": "e5c36eb5-d9e9-4cc0-c863-a454e75c39d3"
      },
      "source": [
        "print(\"MAE = {}\".format(metrics.mean_absolute_error(y_test, y_pred_rfr)))\n",
        "print(\"MSE = {}\".format(metrics.mean_squared_error(y_test, y_pred_rfr)))\n",
        "print(\"RMSE = {}\".format(np.sqrt(metrics.mean_squared_error(y_test, y_pred_rfr))))\n",
        "print(\"MAD = {}\".format(median_absolute_deviation(y_test, y_pred_rfr)))\n",
        "print(\"MAPE = {}\".format(mean_absolute_percentage_error(y_test, y_pred_rfr)))"
      ],
      "execution_count": 49,
      "outputs": [
        {
          "output_type": "stream",
          "text": [
            "MAE = 134.63584210526318\n",
            "MSE = 76198.73969383458\n",
            "RMSE = 276.0411920236445\n",
            "MAD = 1897.95039\n",
            "MAPE = 132.4459619971268\n"
          ],
          "name": "stdout"
        }
      ]
    },
    {
      "cell_type": "markdown",
      "metadata": {
        "id": "ZAW7-sxSxVLD",
        "colab_type": "text"
      },
      "source": [
        "# Train Gradient Boosting Regression\n"
      ]
    },
    {
      "cell_type": "code",
      "metadata": {
        "id": "M06TdCf_xZI0",
        "colab_type": "code",
        "colab": {}
      },
      "source": [
        "from sklearn.ensemble import GradientBoostingRegressor"
      ],
      "execution_count": 54,
      "outputs": []
    },
    {
      "cell_type": "code",
      "metadata": {
        "id": "Qj6d6MZUxcLL",
        "colab_type": "code",
        "colab": {
          "base_uri": "https://localhost:8080/",
          "height": 177
        },
        "outputId": "a3343fa5-07f8-484c-b300-f2e725be1a65"
      },
      "source": [
        "params = {'n_estimators': 500,\n",
        "          'max_depth': 20,\n",
        "          'min_samples_split': 5,\n",
        "          'learning_rate': 0.01,\n",
        "          'loss': 'ls'}\n",
        "gbr = GradientBoostingRegressor(**params)\n",
        "gbr.fit(X_train,y_train)"
      ],
      "execution_count": 55,
      "outputs": [
        {
          "output_type": "execute_result",
          "data": {
            "text/plain": [
              "GradientBoostingRegressor(alpha=0.9, ccp_alpha=0.0, criterion='friedman_mse',\n",
              "                          init=None, learning_rate=0.01, loss='ls',\n",
              "                          max_depth=20, max_features=None, max_leaf_nodes=None,\n",
              "                          min_impurity_decrease=0.0, min_impurity_split=None,\n",
              "                          min_samples_leaf=1, min_samples_split=5,\n",
              "                          min_weight_fraction_leaf=0.0, n_estimators=500,\n",
              "                          n_iter_no_change=None, presort='deprecated',\n",
              "                          random_state=None, subsample=1.0, tol=0.0001,\n",
              "                          validation_fraction=0.1, verbose=0, warm_start=False)"
            ]
          },
          "metadata": {
            "tags": []
          },
          "execution_count": 55
        }
      ]
    },
    {
      "cell_type": "code",
      "metadata": {
        "id": "dS2y_YDmxg_I",
        "colab_type": "code",
        "colab": {}
      },
      "source": [
        "y_pred_gbr = gbr.predict(X_test)"
      ],
      "execution_count": 56,
      "outputs": []
    },
    {
      "cell_type": "code",
      "metadata": {
        "id": "znIwzB45xj77",
        "colab_type": "code",
        "colab": {
          "base_uri": "https://localhost:8080/",
          "height": 283
        },
        "outputId": "8549dac5-ba39-45e6-f0ae-95a6c2e5234a"
      },
      "source": [
        "plt.scatter(y_test,y_pred_gbr)"
      ],
      "execution_count": 57,
      "outputs": [
        {
          "output_type": "execute_result",
          "data": {
            "text/plain": [
              "<matplotlib.collections.PathCollection at 0x7f1ccf0f0470>"
            ]
          },
          "metadata": {
            "tags": []
          },
          "execution_count": 57
        },
        {
          "output_type": "display_data",
          "data": {
            "image/png": "[encoded data removed]",
            "text/plain": [
              "<Figure size 432x288 with 1 Axes>"
            ]
          },
          "metadata": {
            "tags": [],
            "needs_background": "light"
          }
        }
      ]
    },
    {
      "cell_type": "code",
      "metadata": {
        "id": "myhoeixMxnc1",
        "colab_type": "code",
        "colab": {
          "base_uri": "https://localhost:8080/",
          "height": 106
        },
        "outputId": "8df820e0-5f57-4129-ac78-1b2101879b28"
      },
      "source": [
        "print(\"MAE = {}\".format(metrics.mean_absolute_error(y_test, y_pred_gbr)))\n",
        "print(\"MSE = {}\".format(metrics.mean_squared_error(y_test, y_pred_gbr)))\n",
        "print(\"RMSE = {}\".format(np.sqrt(metrics.mean_squared_error(y_test, y_pred_gbr))))\n",
        "print(\"MAD = {}\".format(median_absolute_deviation(y_test, y_pred_gbr)))\n",
        "print(\"MAPE = {}\".format(mean_absolute_percentage_error(y_test, y_pred_gbr)))"
      ],
      "execution_count": 58,
      "outputs": [
        {
          "output_type": "stream",
          "text": [
            "MAE = 156.4097634852957\n",
            "MSE = 109399.60201733552\n",
            "RMSE = 330.7561065457984\n",
            "MAD = 1860.9792956245767\n",
            "MAPE = 157.08989543797566\n"
          ],
          "name": "stdout"
        }
      ]
    },
    {
      "cell_type": "markdown",
      "metadata": {
        "id": "znf3aybisKZ6",
        "colab_type": "text"
      },
      "source": [
        "# Plot เส้น 45 องศา เทียบกันแต่ละ Model"
      ]
    },
    {
      "cell_type": "code",
      "metadata": {
        "id": "7BHY-L1asPlm",
        "colab_type": "code",
        "colab": {
          "base_uri": "https://localhost:8080/",
          "height": 296
        },
        "outputId": "f3b154b3-bfcd-4873-9fb6-5e8e429760a4"
      },
      "source": [
        "plt.title('Regression')\n",
        "plt.xlabel('y_test')\n",
        "plt.ylabel('y_pred')\n",
        "plt.scatter(y_test, y_pred_regression,  color='blue')\n",
        "plt.plot(range(0,9000), range(0,9000), color='red', linewidth=2)\n",
        "plt.show()"
      ],
      "execution_count": 59,
      "outputs": [
        {
          "output_type": "display_data",
          "data": {
            "image/png": "[encoded data removed]",
            "text/plain": [
              "<Figure size 432x288 with 1 Axes>"
            ]
          },
          "metadata": {
            "tags": [],
            "needs_background": "light"
          }
        }
      ]
    },
    {
      "cell_type": "code",
      "metadata": {
        "id": "g6FBeX2juzs2",
        "colab_type": "code",
        "colab": {
          "base_uri": "https://localhost:8080/",
          "height": 296
        },
        "outputId": "65a8c456-5ee9-4c6f-a3e7-95d1ee4cd0ba"
      },
      "source": [
        "plt.title('Support Vector Regression')\n",
        "plt.xlabel('y_test')\n",
        "plt.ylabel('y_pred')\n",
        "plt.scatter(y_test, y_pred_svr,  color='blue')\n",
        "plt.plot(range(0,9000), range(0,9000), color='red', linewidth=2)\n",
        "plt.show()"
      ],
      "execution_count": 60,
      "outputs": [
        {
          "output_type": "display_data",
          "data": {
            "image/png": "[encoded data removed]",
            "text/plain": [
              "<Figure size 432x288 with 1 Axes>"
            ]
          },
          "metadata": {
            "tags": [],
            "needs_background": "light"
          }
        }
      ]
    },
    {
      "cell_type": "code",
      "metadata": {
        "id": "h-r6T_a5wCim",
        "colab_type": "code",
        "colab": {
          "base_uri": "https://localhost:8080/",
          "height": 296
        },
        "outputId": "a9cfd7f7-2480-48f7-b006-134383520e65"
      },
      "source": [
        "plt.title('Regression Tree')\n",
        "plt.xlabel('y_test')\n",
        "plt.ylabel('y_pred')\n",
        "plt.scatter(y_test, y_pred_dtr,  color='blue')\n",
        "plt.plot(range(0,9000), range(0,9000), color='red', linewidth=2)\n",
        "plt.show()"
      ],
      "execution_count": 61,
      "outputs": [
        {
          "output_type": "display_data",
          "data": {
            "image/png": "[encoded data removed]",
            "text/plain": [
              "<Figure size 432x288 with 1 Axes>"
            ]
          },
          "metadata": {
            "tags": [],
            "needs_background": "light"
          }
        }
      ]
    },
    {
      "cell_type": "code",
      "metadata": {
        "id": "2kyJg32zw4za",
        "colab_type": "code",
        "colab": {
          "base_uri": "https://localhost:8080/",
          "height": 296
        },
        "outputId": "6b6ca621-ba19-4bec-b576-8fcbeeee5b99"
      },
      "source": [
        "plt.title('Random Forest Regression')\n",
        "plt.xlabel('y_test')\n",
        "plt.ylabel('y_pred')\n",
        "plt.scatter(y_test, y_pred_rfr,  color='blue')\n",
        "plt.plot(range(0,9000), range(0,9000), color='red', linewidth=2)\n",
        "plt.show()"
      ],
      "execution_count": 62,
      "outputs": [
        {
          "output_type": "display_data",
          "data": {
            "image/png": "[encoded data removed]",
            "text/plain": [
              "<Figure size 432x288 with 1 Axes>"
            ]
          },
          "metadata": {
            "tags": [],
            "needs_background": "light"
          }
        }
      ]
    },
    {
      "cell_type": "code",
      "metadata": {
        "id": "KSsTrHx_xqBo",
        "colab_type": "code",
        "colab": {
          "base_uri": "https://localhost:8080/",
          "height": 296
        },
        "outputId": "67b99314-8084-4c15-b0db-319ef9a0f82e"
      },
      "source": [
        "plt.title('Gradient Boosting Regression')\n",
        "plt.xlabel('y_test')\n",
        "plt.ylabel('y_pred')\n",
        "plt.scatter(y_test, y_pred_gbr,  color='blue')\n",
        "plt.plot(range(0,9000), range(0,9000), color='red', linewidth=2)\n",
        "plt.show()"
      ],
      "execution_count": 63,
      "outputs": [
        {
          "output_type": "display_data",
          "data": {
            "image/png": "[encoded data removed]",
            "text/plain": [
              "<Figure size 432x288 with 1 Axes>"
            ]
          },
          "metadata": {
            "tags": [],
            "needs_background": "light"
          }
        }
      ]
    }
  ]
}