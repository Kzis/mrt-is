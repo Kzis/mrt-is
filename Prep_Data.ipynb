{
  "nbformat": 4,
  "nbformat_minor": 0,
  "metadata": {
    "colab": {
      "name": "Prep Data.ipynb",
      "provenance": [],
      "collapsed_sections": [],
      "toc_visible": true,
      "authorship_tag": "ABX9TyMkBwRHRicuf0LN+80Aos/u",
      "include_colab_link": true
    },
    "kernelspec": {
      "name": "python3",
      "display_name": "Python 3"
    }
  },
  "cells": [
    {
      "cell_type": "markdown",
      "metadata": {
        "id": "view-in-github",
        "colab_type": "text"
      },
      "source": [
        "<a href=\"https://colab.research.google.com/github/Kzis/mrt-is/blob/master/Prep_Data.ipynb\" target=\"_parent\"><img src=\"https://colab.research.google.com/assets/colab-badge.svg\" alt=\"Open In Colab\"/></a>"
      ]
    },
    {
      "cell_type": "code",
      "metadata": {
        "id": "4umBLiSZBMW2",
        "colab_type": "code",
        "colab": {
          "base_uri": "https://localhost:8080/",
          "height": 34
        },
        "outputId": "d9adc032-89c4-4218-fc75-7da00bf62550"
      },
      "source": [
        "from google.colab import drive\n",
        "drive.mount('/content/gdrive')"
      ],
      "execution_count": 67,
      "outputs": [
        {
          "output_type": "stream",
          "text": [
            "Drive already mounted at /content/gdrive; to attempt to forcibly remount, call drive.mount(\"/content/gdrive\", force_remount=True).\n"
          ],
          "name": "stdout"
        }
      ]
    },
    {
      "cell_type": "code",
      "metadata": {
        "id": "5RhS-uP4BRnV",
        "colab_type": "code",
        "colab": {}
      },
      "source": [
        "import pandas as pd\n",
        "import matplotlib.pyplot as plt\n",
        "import seaborn as sns\n",
        "import numpy as np"
      ],
      "execution_count": 68,
      "outputs": []
    },
    {
      "cell_type": "code",
      "metadata": {
        "id": "Sc-RDAOKBR59",
        "colab_type": "code",
        "colab": {}
      },
      "source": [
        "# df = pd.read_csv(\"gdrive/My Drive/NIDA/transection_.csv\" , nrows=10000)\n",
        "df = pd.read_csv(\"gdrive/My Drive/NIDA/transection_.csv\")"
      ],
      "execution_count": 69,
      "outputs": []
    },
    {
      "cell_type": "code",
      "metadata": {
        "id": "snXaEpnUBTp6",
        "colab_type": "code",
        "colab": {
          "base_uri": "https://localhost:8080/",
          "height": 34
        },
        "outputId": "db6a4f4c-c220-4ba7-f5e6-9c12bcab575a"
      },
      "source": [
        "df.shape"
      ],
      "execution_count": 70,
      "outputs": [
        {
          "output_type": "execute_result",
          "data": {
            "text/plain": [
              "(17240769, 24)"
            ]
          },
          "metadata": {
            "tags": []
          },
          "execution_count": 70
        }
      ]
    },
    {
      "cell_type": "code",
      "metadata": {
        "id": "6kCEZGz4wGSn",
        "colab_type": "code",
        "colab": {
          "base_uri": "https://localhost:8080/",
          "height": 67
        },
        "outputId": "b5a9580c-13e5-4123-b0cd-83d7dbabaf84"
      },
      "source": [
        "df.TicketType.value_counts()"
      ],
      "execution_count": 106,
      "outputs": [
        {
          "output_type": "execute_result",
          "data": {
            "text/plain": [
              "Card     11238083\n",
              "Token     6002686\n",
              "Name: TicketType, dtype: int64"
            ]
          },
          "metadata": {
            "tags": []
          },
          "execution_count": 106
        }
      ]
    },
    {
      "cell_type": "code",
      "metadata": {
        "id": "Dmyg5tUXwJUA",
        "colab_type": "code",
        "colab": {
          "base_uri": "https://localhost:8080/",
          "height": 218
        },
        "outputId": "a183694d-5768-4958-c5bf-1123da89f1bf"
      },
      "source": [
        "df.TicketName.value_counts()"
      ],
      "execution_count": 107,
      "outputs": [
        {
          "output_type": "execute_result",
          "data": {
            "text/plain": [
              "Adult-A      8945627\n",
              "Adult        5811954\n",
              "Student-A    1296077\n",
              "Senior-A      520535\n",
              "Adult-B       381360\n",
              "Senior        161925\n",
              "Student-B      52314\n",
              "Child          28807\n",
              "Senior-B       22109\n",
              "Child-A        19229\n",
              "Child-B          832\n",
              "Name: TicketName, dtype: int64"
            ]
          },
          "metadata": {
            "tags": []
          },
          "execution_count": 107
        }
      ]
    },
    {
      "cell_type": "code",
      "metadata": {
        "id": "5EdQZYakwYqu",
        "colab_type": "code",
        "colab": {
          "base_uri": "https://localhost:8080/",
          "height": 218
        },
        "outputId": "e19dcb1b-1ffc-4abb-af29-67a6c595ae05"
      },
      "source": [
        "df.CardType.value_counts()"
      ],
      "execution_count": 109,
      "outputs": [
        {
          "output_type": "execute_result",
          "data": {
            "text/plain": [
              "1     8945627\n",
              "58    5811954\n",
              "4     1296077\n",
              "3      520535\n",
              "21     381360\n",
              "60     161925\n",
              "24      52314\n",
              "59      28807\n",
              "23      22109\n",
              "2       19229\n",
              "22        832\n",
              "Name: CardType, dtype: int64"
            ]
          },
          "metadata": {
            "tags": []
          },
          "execution_count": 109
        }
      ]
    },
    {
      "cell_type": "code",
      "metadata": {
        "id": "UzqwrNG5wNiH",
        "colab_type": "code",
        "colab": {
          "base_uri": "https://localhost:8080/",
          "height": 101
        },
        "outputId": "3aae1bc2-841f-4678-ae44-d0cf36b316e7"
      },
      "source": [
        "df.PassengerType.value_counts()"
      ],
      "execution_count": 108,
      "outputs": [
        {
          "output_type": "execute_result",
          "data": {
            "text/plain": [
              "Adult      15138941\n",
              "Student     1348391\n",
              "Senior       704569\n",
              "Child         48868\n",
              "Name: PassengerType, dtype: int64"
            ]
          },
          "metadata": {
            "tags": []
          },
          "execution_count": 108
        }
      ]
    },
    {
      "cell_type": "code",
      "metadata": {
        "id": "qGZk6vdFBUwy",
        "colab_type": "code",
        "colab": {
          "base_uri": "https://localhost:8080/",
          "height": 215
        },
        "outputId": "5b18cc4d-3220-4658-dcfc-caff4cf891a1"
      },
      "source": [
        "df.head()"
      ],
      "execution_count": 71,
      "outputs": [
        {
          "output_type": "execute_result",
          "data": {
            "text/html": [
              "<div>\n",
              "<style scoped>\n",
              "    .dataframe tbody tr th:only-of-type {\n",
              "        vertical-align: middle;\n",
              "    }\n",
              "\n",
              "    .dataframe tbody tr th {\n",
              "        vertical-align: top;\n",
              "    }\n",
              "\n",
              "    .dataframe thead th {\n",
              "        text-align: right;\n",
              "    }\n",
              "</style>\n",
              "<table border=\"1\" class=\"dataframe\">\n",
              "  <thead>\n",
              "    <tr style=\"text-align: right;\">\n",
              "      <th></th>\n",
              "      <th>TransactionID</th>\n",
              "      <th>TransactionDate</th>\n",
              "      <th>CardType</th>\n",
              "      <th>BusinessDay</th>\n",
              "      <th>EntryStationID</th>\n",
              "      <th>ExitStationID</th>\n",
              "      <th>TicketType</th>\n",
              "      <th>TicketName</th>\n",
              "      <th>PassengerType</th>\n",
              "      <th>StationName</th>\n",
              "      <th>LineCode</th>\n",
              "      <th>Right_StationName</th>\n",
              "      <th>Right_LineCode</th>\n",
              "      <th>DateKey</th>\n",
              "      <th>DayType</th>\n",
              "      <th>DayNumberOfMonth</th>\n",
              "      <th>EnglishDayNameOfWeek</th>\n",
              "      <th>ThaiDayNameOfWeek</th>\n",
              "      <th>EnglishMonthName</th>\n",
              "      <th>ThaiMonthName</th>\n",
              "      <th>MonthNumberOfYear</th>\n",
              "      <th>CalendarQuater</th>\n",
              "      <th>CalendarSemester</th>\n",
              "      <th>CalendarYear</th>\n",
              "    </tr>\n",
              "  </thead>\n",
              "  <tbody>\n",
              "    <tr>\n",
              "      <th>0</th>\n",
              "      <td>40</td>\n",
              "      <td>2017-01-01</td>\n",
              "      <td>1</td>\n",
              "      <td>2017-01-01</td>\n",
              "      <td>22</td>\n",
              "      <td>21</td>\n",
              "      <td>Card</td>\n",
              "      <td>Adult-A</td>\n",
              "      <td>Adult</td>\n",
              "      <td>Sam Yan</td>\n",
              "      <td>BL</td>\n",
              "      <td>Hua Lamphong</td>\n",
              "      <td>BL</td>\n",
              "      <td>20170101</td>\n",
              "      <td>WE</td>\n",
              "      <td>1</td>\n",
              "      <td>Sunday</td>\n",
              "      <td>อาทิตย์</td>\n",
              "      <td>January</td>\n",
              "      <td>มกราคม</td>\n",
              "      <td>1</td>\n",
              "      <td>1</td>\n",
              "      <td>1</td>\n",
              "      <td>2017</td>\n",
              "    </tr>\n",
              "    <tr>\n",
              "      <th>1</th>\n",
              "      <td>69</td>\n",
              "      <td>2017-01-01</td>\n",
              "      <td>1</td>\n",
              "      <td>2017-01-01</td>\n",
              "      <td>22</td>\n",
              "      <td>21</td>\n",
              "      <td>Card</td>\n",
              "      <td>Adult-A</td>\n",
              "      <td>Adult</td>\n",
              "      <td>Sam Yan</td>\n",
              "      <td>BL</td>\n",
              "      <td>Hua Lamphong</td>\n",
              "      <td>BL</td>\n",
              "      <td>20170101</td>\n",
              "      <td>WE</td>\n",
              "      <td>1</td>\n",
              "      <td>Sunday</td>\n",
              "      <td>อาทิตย์</td>\n",
              "      <td>January</td>\n",
              "      <td>มกราคม</td>\n",
              "      <td>1</td>\n",
              "      <td>1</td>\n",
              "      <td>1</td>\n",
              "      <td>2017</td>\n",
              "    </tr>\n",
              "    <tr>\n",
              "      <th>2</th>\n",
              "      <td>127</td>\n",
              "      <td>2017-01-01</td>\n",
              "      <td>1</td>\n",
              "      <td>2017-01-01</td>\n",
              "      <td>22</td>\n",
              "      <td>21</td>\n",
              "      <td>Card</td>\n",
              "      <td>Adult-A</td>\n",
              "      <td>Adult</td>\n",
              "      <td>Sam Yan</td>\n",
              "      <td>BL</td>\n",
              "      <td>Hua Lamphong</td>\n",
              "      <td>BL</td>\n",
              "      <td>20170101</td>\n",
              "      <td>WE</td>\n",
              "      <td>1</td>\n",
              "      <td>Sunday</td>\n",
              "      <td>อาทิตย์</td>\n",
              "      <td>January</td>\n",
              "      <td>มกราคม</td>\n",
              "      <td>1</td>\n",
              "      <td>1</td>\n",
              "      <td>1</td>\n",
              "      <td>2017</td>\n",
              "    </tr>\n",
              "    <tr>\n",
              "      <th>3</th>\n",
              "      <td>129</td>\n",
              "      <td>2017-01-01</td>\n",
              "      <td>1</td>\n",
              "      <td>2017-01-01</td>\n",
              "      <td>22</td>\n",
              "      <td>21</td>\n",
              "      <td>Card</td>\n",
              "      <td>Adult-A</td>\n",
              "      <td>Adult</td>\n",
              "      <td>Sam Yan</td>\n",
              "      <td>BL</td>\n",
              "      <td>Hua Lamphong</td>\n",
              "      <td>BL</td>\n",
              "      <td>20170101</td>\n",
              "      <td>WE</td>\n",
              "      <td>1</td>\n",
              "      <td>Sunday</td>\n",
              "      <td>อาทิตย์</td>\n",
              "      <td>January</td>\n",
              "      <td>มกราคม</td>\n",
              "      <td>1</td>\n",
              "      <td>1</td>\n",
              "      <td>1</td>\n",
              "      <td>2017</td>\n",
              "    </tr>\n",
              "    <tr>\n",
              "      <th>4</th>\n",
              "      <td>333</td>\n",
              "      <td>2017-01-01</td>\n",
              "      <td>1</td>\n",
              "      <td>2017-01-01</td>\n",
              "      <td>22</td>\n",
              "      <td>21</td>\n",
              "      <td>Card</td>\n",
              "      <td>Adult-A</td>\n",
              "      <td>Adult</td>\n",
              "      <td>Sam Yan</td>\n",
              "      <td>BL</td>\n",
              "      <td>Hua Lamphong</td>\n",
              "      <td>BL</td>\n",
              "      <td>20170101</td>\n",
              "      <td>WE</td>\n",
              "      <td>1</td>\n",
              "      <td>Sunday</td>\n",
              "      <td>อาทิตย์</td>\n",
              "      <td>January</td>\n",
              "      <td>มกราคม</td>\n",
              "      <td>1</td>\n",
              "      <td>1</td>\n",
              "      <td>1</td>\n",
              "      <td>2017</td>\n",
              "    </tr>\n",
              "  </tbody>\n",
              "</table>\n",
              "</div>"
            ],
            "text/plain": [
              "   TransactionID TransactionDate  ...  CalendarSemester CalendarYear\n",
              "0             40      2017-01-01  ...                 1         2017\n",
              "1             69      2017-01-01  ...                 1         2017\n",
              "2            127      2017-01-01  ...                 1         2017\n",
              "3            129      2017-01-01  ...                 1         2017\n",
              "4            333      2017-01-01  ...                 1         2017\n",
              "\n",
              "[5 rows x 24 columns]"
            ]
          },
          "metadata": {
            "tags": []
          },
          "execution_count": 71
        }
      ]
    },
    {
      "cell_type": "code",
      "metadata": {
        "id": "ckLZOe5xBal1",
        "colab_type": "code",
        "colab": {}
      },
      "source": [
        "def get_data_by_month(month):\n",
        "  return df.loc[df['ThaiMonthName'] == month]\n",
        "\n",
        "def get_transaction_df(month_df):\n",
        "  df_month_transaction_date_sum = month_df.TransactionDate.value_counts().rename_axis('TransactionDate').reset_index(name='TransactionCounts')\n",
        "  df_month_transaction_date_sum.sort_values('TransactionDate')\n",
        "  return df_month_transaction_date_sum"
      ],
      "execution_count": 72,
      "outputs": []
    },
    {
      "cell_type": "code",
      "metadata": {
        "id": "CPSd6cclC9qJ",
        "colab_type": "code",
        "colab": {}
      },
      "source": [
        "def get_entry_total_station_by_date(month_df , month_transaction_df , col_name):\n",
        "  date_list = month_transaction_df['TransactionDate'].tolist()\n",
        "  col_list = month_df[col_name].unique().tolist()\n",
        "  output = []\n",
        "  for date in date_list:\n",
        "    # print(\"Process : {}\".format(date))\n",
        "    for col_val in col_list:\n",
        "      lst = []\n",
        "      subset_df = month_df[ (month_df[col_name]==col_val) & (month_df[\"TransactionDate\"]==date) ].count()\n",
        "      column_count = subset_df.value_counts()\n",
        "      lst.extend([date,\"Entry\", col_val, column_count.index[0]])\n",
        "      output.append(lst)\n",
        "      # print(\"{} : {} : {}\".format(date,col_val,column_count.index[0]) )\n",
        "  # print(output)\n",
        "  df = pd.DataFrame(output, columns =['TransactionDate','Type', 'Station','Count']) \n",
        "  return df  \n",
        "\n",
        "def get_exit_total_station_by_date(month_df , month_transaction_df , col_name):\n",
        "    date_list = month_transaction_df['TransactionDate'].tolist()\n",
        "    col_list = month_df[col_name].unique().tolist()\n",
        "    output = []\n",
        "    for date in date_list:\n",
        "      # print(\"Process : {}\".format(date))\n",
        "      for col_val in col_list:\n",
        "        lst = []\n",
        "        subset_df = month_df[ (month_df[col_name]==col_val) & (month_df[\"TransactionDate\"]==date) ].count()\n",
        "        column_count = subset_df.value_counts()\n",
        "        lst.extend([date,\"Exit\", col_val, column_count.index[0]])\n",
        "        output.append(lst)\n",
        "        # print(\"{} : {} : {}\".format(date,col_val,column_count.index[0]) )\n",
        "    # print(output)\n",
        "    df = pd.DataFrame(output, columns =['TransactionDate','Type', 'Station','Count']) \n",
        "    return df  "
      ],
      "execution_count": 73,
      "outputs": []
    },
    {
      "cell_type": "code",
      "metadata": {
        "id": "kzj0Su-gBckx",
        "colab_type": "code",
        "colab": {
          "base_uri": "https://localhost:8080/",
          "height": 215
        },
        "outputId": "dcc39b0e-5d0b-416a-8c33-c87eb71188c0"
      },
      "source": [
        "jan_df = get_data_by_month(\"มกราคม\")\n",
        "jan_df.head()"
      ],
      "execution_count": 74,
      "outputs": [
        {
          "output_type": "execute_result",
          "data": {
            "text/html": [
              "<div>\n",
              "<style scoped>\n",
              "    .dataframe tbody tr th:only-of-type {\n",
              "        vertical-align: middle;\n",
              "    }\n",
              "\n",
              "    .dataframe tbody tr th {\n",
              "        vertical-align: top;\n",
              "    }\n",
              "\n",
              "    .dataframe thead th {\n",
              "        text-align: right;\n",
              "    }\n",
              "</style>\n",
              "<table border=\"1\" class=\"dataframe\">\n",
              "  <thead>\n",
              "    <tr style=\"text-align: right;\">\n",
              "      <th></th>\n",
              "      <th>TransactionID</th>\n",
              "      <th>TransactionDate</th>\n",
              "      <th>CardType</th>\n",
              "      <th>BusinessDay</th>\n",
              "      <th>EntryStationID</th>\n",
              "      <th>ExitStationID</th>\n",
              "      <th>TicketType</th>\n",
              "      <th>TicketName</th>\n",
              "      <th>PassengerType</th>\n",
              "      <th>StationName</th>\n",
              "      <th>LineCode</th>\n",
              "      <th>Right_StationName</th>\n",
              "      <th>Right_LineCode</th>\n",
              "      <th>DateKey</th>\n",
              "      <th>DayType</th>\n",
              "      <th>DayNumberOfMonth</th>\n",
              "      <th>EnglishDayNameOfWeek</th>\n",
              "      <th>ThaiDayNameOfWeek</th>\n",
              "      <th>EnglishMonthName</th>\n",
              "      <th>ThaiMonthName</th>\n",
              "      <th>MonthNumberOfYear</th>\n",
              "      <th>CalendarQuater</th>\n",
              "      <th>CalendarSemester</th>\n",
              "      <th>CalendarYear</th>\n",
              "    </tr>\n",
              "  </thead>\n",
              "  <tbody>\n",
              "    <tr>\n",
              "      <th>0</th>\n",
              "      <td>40</td>\n",
              "      <td>2017-01-01</td>\n",
              "      <td>1</td>\n",
              "      <td>2017-01-01</td>\n",
              "      <td>22</td>\n",
              "      <td>21</td>\n",
              "      <td>Card</td>\n",
              "      <td>Adult-A</td>\n",
              "      <td>Adult</td>\n",
              "      <td>Sam Yan</td>\n",
              "      <td>BL</td>\n",
              "      <td>Hua Lamphong</td>\n",
              "      <td>BL</td>\n",
              "      <td>20170101</td>\n",
              "      <td>WE</td>\n",
              "      <td>1</td>\n",
              "      <td>Sunday</td>\n",
              "      <td>อาทิตย์</td>\n",
              "      <td>January</td>\n",
              "      <td>มกราคม</td>\n",
              "      <td>1</td>\n",
              "      <td>1</td>\n",
              "      <td>1</td>\n",
              "      <td>2017</td>\n",
              "    </tr>\n",
              "    <tr>\n",
              "      <th>1</th>\n",
              "      <td>69</td>\n",
              "      <td>2017-01-01</td>\n",
              "      <td>1</td>\n",
              "      <td>2017-01-01</td>\n",
              "      <td>22</td>\n",
              "      <td>21</td>\n",
              "      <td>Card</td>\n",
              "      <td>Adult-A</td>\n",
              "      <td>Adult</td>\n",
              "      <td>Sam Yan</td>\n",
              "      <td>BL</td>\n",
              "      <td>Hua Lamphong</td>\n",
              "      <td>BL</td>\n",
              "      <td>20170101</td>\n",
              "      <td>WE</td>\n",
              "      <td>1</td>\n",
              "      <td>Sunday</td>\n",
              "      <td>อาทิตย์</td>\n",
              "      <td>January</td>\n",
              "      <td>มกราคม</td>\n",
              "      <td>1</td>\n",
              "      <td>1</td>\n",
              "      <td>1</td>\n",
              "      <td>2017</td>\n",
              "    </tr>\n",
              "    <tr>\n",
              "      <th>2</th>\n",
              "      <td>127</td>\n",
              "      <td>2017-01-01</td>\n",
              "      <td>1</td>\n",
              "      <td>2017-01-01</td>\n",
              "      <td>22</td>\n",
              "      <td>21</td>\n",
              "      <td>Card</td>\n",
              "      <td>Adult-A</td>\n",
              "      <td>Adult</td>\n",
              "      <td>Sam Yan</td>\n",
              "      <td>BL</td>\n",
              "      <td>Hua Lamphong</td>\n",
              "      <td>BL</td>\n",
              "      <td>20170101</td>\n",
              "      <td>WE</td>\n",
              "      <td>1</td>\n",
              "      <td>Sunday</td>\n",
              "      <td>อาทิตย์</td>\n",
              "      <td>January</td>\n",
              "      <td>มกราคม</td>\n",
              "      <td>1</td>\n",
              "      <td>1</td>\n",
              "      <td>1</td>\n",
              "      <td>2017</td>\n",
              "    </tr>\n",
              "    <tr>\n",
              "      <th>3</th>\n",
              "      <td>129</td>\n",
              "      <td>2017-01-01</td>\n",
              "      <td>1</td>\n",
              "      <td>2017-01-01</td>\n",
              "      <td>22</td>\n",
              "      <td>21</td>\n",
              "      <td>Card</td>\n",
              "      <td>Adult-A</td>\n",
              "      <td>Adult</td>\n",
              "      <td>Sam Yan</td>\n",
              "      <td>BL</td>\n",
              "      <td>Hua Lamphong</td>\n",
              "      <td>BL</td>\n",
              "      <td>20170101</td>\n",
              "      <td>WE</td>\n",
              "      <td>1</td>\n",
              "      <td>Sunday</td>\n",
              "      <td>อาทิตย์</td>\n",
              "      <td>January</td>\n",
              "      <td>มกราคม</td>\n",
              "      <td>1</td>\n",
              "      <td>1</td>\n",
              "      <td>1</td>\n",
              "      <td>2017</td>\n",
              "    </tr>\n",
              "    <tr>\n",
              "      <th>4</th>\n",
              "      <td>333</td>\n",
              "      <td>2017-01-01</td>\n",
              "      <td>1</td>\n",
              "      <td>2017-01-01</td>\n",
              "      <td>22</td>\n",
              "      <td>21</td>\n",
              "      <td>Card</td>\n",
              "      <td>Adult-A</td>\n",
              "      <td>Adult</td>\n",
              "      <td>Sam Yan</td>\n",
              "      <td>BL</td>\n",
              "      <td>Hua Lamphong</td>\n",
              "      <td>BL</td>\n",
              "      <td>20170101</td>\n",
              "      <td>WE</td>\n",
              "      <td>1</td>\n",
              "      <td>Sunday</td>\n",
              "      <td>อาทิตย์</td>\n",
              "      <td>January</td>\n",
              "      <td>มกราคม</td>\n",
              "      <td>1</td>\n",
              "      <td>1</td>\n",
              "      <td>1</td>\n",
              "      <td>2017</td>\n",
              "    </tr>\n",
              "  </tbody>\n",
              "</table>\n",
              "</div>"
            ],
            "text/plain": [
              "   TransactionID TransactionDate  ...  CalendarSemester CalendarYear\n",
              "0             40      2017-01-01  ...                 1         2017\n",
              "1             69      2017-01-01  ...                 1         2017\n",
              "2            127      2017-01-01  ...                 1         2017\n",
              "3            129      2017-01-01  ...                 1         2017\n",
              "4            333      2017-01-01  ...                 1         2017\n",
              "\n",
              "[5 rows x 24 columns]"
            ]
          },
          "metadata": {
            "tags": []
          },
          "execution_count": 74
        }
      ]
    },
    {
      "cell_type": "code",
      "metadata": {
        "id": "bCIITvD5DLGw",
        "colab_type": "code",
        "colab": {
          "base_uri": "https://localhost:8080/",
          "height": 195
        },
        "outputId": "6207eeef-0ed7-43db-fefa-935e9fd79c7e"
      },
      "source": [
        "transaction_df = get_transaction_df(jan_df)\n",
        "transaction_df.head()"
      ],
      "execution_count": 75,
      "outputs": [
        {
          "output_type": "execute_result",
          "data": {
            "text/html": [
              "<div>\n",
              "<style scoped>\n",
              "    .dataframe tbody tr th:only-of-type {\n",
              "        vertical-align: middle;\n",
              "    }\n",
              "\n",
              "    .dataframe tbody tr th {\n",
              "        vertical-align: top;\n",
              "    }\n",
              "\n",
              "    .dataframe thead th {\n",
              "        text-align: right;\n",
              "    }\n",
              "</style>\n",
              "<table border=\"1\" class=\"dataframe\">\n",
              "  <thead>\n",
              "    <tr style=\"text-align: right;\">\n",
              "      <th></th>\n",
              "      <th>TransactionDate</th>\n",
              "      <th>TransactionCounts</th>\n",
              "    </tr>\n",
              "  </thead>\n",
              "  <tbody>\n",
              "    <tr>\n",
              "      <th>0</th>\n",
              "      <td>2017-01-25</td>\n",
              "      <td>37135</td>\n",
              "    </tr>\n",
              "    <tr>\n",
              "      <th>1</th>\n",
              "      <td>2017-01-26</td>\n",
              "      <td>36485</td>\n",
              "    </tr>\n",
              "    <tr>\n",
              "      <th>2</th>\n",
              "      <td>2017-01-13</td>\n",
              "      <td>36171</td>\n",
              "    </tr>\n",
              "    <tr>\n",
              "      <th>3</th>\n",
              "      <td>2017-01-24</td>\n",
              "      <td>36050</td>\n",
              "    </tr>\n",
              "    <tr>\n",
              "      <th>4</th>\n",
              "      <td>2017-01-20</td>\n",
              "      <td>35898</td>\n",
              "    </tr>\n",
              "  </tbody>\n",
              "</table>\n",
              "</div>"
            ],
            "text/plain": [
              "  TransactionDate  TransactionCounts\n",
              "0      2017-01-25              37135\n",
              "1      2017-01-26              36485\n",
              "2      2017-01-13              36171\n",
              "3      2017-01-24              36050\n",
              "4      2017-01-20              35898"
            ]
          },
          "metadata": {
            "tags": []
          },
          "execution_count": 75
        }
      ]
    },
    {
      "cell_type": "markdown",
      "metadata": {
        "id": "OzytzqPNkL2q",
        "colab_type": "text"
      },
      "source": [
        "# Prep ข้อมูล เข้าและออกทั้งหมดของแต่ละสถานี"
      ]
    },
    {
      "cell_type": "code",
      "metadata": {
        "id": "_cWRQDhcHLMi",
        "colab_type": "code",
        "colab": {
          "base_uri": "https://localhost:8080/",
          "height": 402
        },
        "outputId": "dd8471ce-fdc7-4a2a-b279-2bf93e873cb7"
      },
      "source": [
        " entry_df = get_entry_total_station_by_date(jan_df , transaction_df , \"StationName\")\n",
        " entry_df"
      ],
      "execution_count": 76,
      "outputs": [
        {
          "output_type": "execute_result",
          "data": {
            "text/html": [
              "<div>\n",
              "<style scoped>\n",
              "    .dataframe tbody tr th:only-of-type {\n",
              "        vertical-align: middle;\n",
              "    }\n",
              "\n",
              "    .dataframe tbody tr th {\n",
              "        vertical-align: top;\n",
              "    }\n",
              "\n",
              "    .dataframe thead th {\n",
              "        text-align: right;\n",
              "    }\n",
              "</style>\n",
              "<table border=\"1\" class=\"dataframe\">\n",
              "  <thead>\n",
              "    <tr style=\"text-align: right;\">\n",
              "      <th></th>\n",
              "      <th>TransactionDate</th>\n",
              "      <th>Type</th>\n",
              "      <th>Station</th>\n",
              "      <th>Count</th>\n",
              "    </tr>\n",
              "  </thead>\n",
              "  <tbody>\n",
              "    <tr>\n",
              "      <th>0</th>\n",
              "      <td>2017-01-25</td>\n",
              "      <td>Entry</td>\n",
              "      <td>Sam Yan</td>\n",
              "      <td>1328</td>\n",
              "    </tr>\n",
              "    <tr>\n",
              "      <th>1</th>\n",
              "      <td>2017-01-25</td>\n",
              "      <td>Entry</td>\n",
              "      <td>Si Lom</td>\n",
              "      <td>2865</td>\n",
              "    </tr>\n",
              "    <tr>\n",
              "      <th>2</th>\n",
              "      <td>2017-01-25</td>\n",
              "      <td>Entry</td>\n",
              "      <td>Lumphini</td>\n",
              "      <td>1448</td>\n",
              "    </tr>\n",
              "    <tr>\n",
              "      <th>3</th>\n",
              "      <td>2017-01-25</td>\n",
              "      <td>Entry</td>\n",
              "      <td>Khlong Toei</td>\n",
              "      <td>308</td>\n",
              "    </tr>\n",
              "    <tr>\n",
              "      <th>4</th>\n",
              "      <td>2017-01-25</td>\n",
              "      <td>Entry</td>\n",
              "      <td>Queen Sirikit National Convention Centre</td>\n",
              "      <td>1400</td>\n",
              "    </tr>\n",
              "    <tr>\n",
              "      <th>...</th>\n",
              "      <td>...</td>\n",
              "      <td>...</td>\n",
              "      <td>...</td>\n",
              "      <td>...</td>\n",
              "    </tr>\n",
              "    <tr>\n",
              "      <th>553</th>\n",
              "      <td>2017-01-01</td>\n",
              "      <td>Entry</td>\n",
              "      <td>Phahon Yothin</td>\n",
              "      <td>352</td>\n",
              "    </tr>\n",
              "    <tr>\n",
              "      <th>554</th>\n",
              "      <td>2017-01-01</td>\n",
              "      <td>Entry</td>\n",
              "      <td>Chatuchak Park</td>\n",
              "      <td>359</td>\n",
              "    </tr>\n",
              "    <tr>\n",
              "      <th>555</th>\n",
              "      <td>2017-01-01</td>\n",
              "      <td>Entry</td>\n",
              "      <td>Kamphaeng Phet</td>\n",
              "      <td>233</td>\n",
              "    </tr>\n",
              "    <tr>\n",
              "      <th>556</th>\n",
              "      <td>2017-01-01</td>\n",
              "      <td>Entry</td>\n",
              "      <td>Bang Sue</td>\n",
              "      <td>186</td>\n",
              "    </tr>\n",
              "    <tr>\n",
              "      <th>557</th>\n",
              "      <td>2017-01-01</td>\n",
              "      <td>Entry</td>\n",
              "      <td>Hua Lamphong</td>\n",
              "      <td>299</td>\n",
              "    </tr>\n",
              "  </tbody>\n",
              "</table>\n",
              "<p>558 rows × 4 columns</p>\n",
              "</div>"
            ],
            "text/plain": [
              "    TransactionDate   Type                                   Station  Count\n",
              "0        2017-01-25  Entry                                   Sam Yan   1328\n",
              "1        2017-01-25  Entry                                    Si Lom   2865\n",
              "2        2017-01-25  Entry                                  Lumphini   1448\n",
              "3        2017-01-25  Entry                               Khlong Toei    308\n",
              "4        2017-01-25  Entry  Queen Sirikit National Convention Centre   1400\n",
              "..              ...    ...                                       ...    ...\n",
              "553      2017-01-01  Entry                             Phahon Yothin    352\n",
              "554      2017-01-01  Entry                            Chatuchak Park    359\n",
              "555      2017-01-01  Entry                            Kamphaeng Phet    233\n",
              "556      2017-01-01  Entry                                  Bang Sue    186\n",
              "557      2017-01-01  Entry                              Hua Lamphong    299\n",
              "\n",
              "[558 rows x 4 columns]"
            ]
          },
          "metadata": {
            "tags": []
          },
          "execution_count": 76
        }
      ]
    },
    {
      "cell_type": "code",
      "metadata": {
        "id": "RaeUgR8wIOOu",
        "colab_type": "code",
        "colab": {
          "base_uri": "https://localhost:8080/",
          "height": 402
        },
        "outputId": "5cc61dcd-9e01-4dc5-d901-a1e22f5d9e99"
      },
      "source": [
        "exit_df = get_exit_total_station_by_date(jan_df , transaction_df , \"Right_StationName\")\n",
        "exit_df"
      ],
      "execution_count": 77,
      "outputs": [
        {
          "output_type": "execute_result",
          "data": {
            "text/html": [
              "<div>\n",
              "<style scoped>\n",
              "    .dataframe tbody tr th:only-of-type {\n",
              "        vertical-align: middle;\n",
              "    }\n",
              "\n",
              "    .dataframe tbody tr th {\n",
              "        vertical-align: top;\n",
              "    }\n",
              "\n",
              "    .dataframe thead th {\n",
              "        text-align: right;\n",
              "    }\n",
              "</style>\n",
              "<table border=\"1\" class=\"dataframe\">\n",
              "  <thead>\n",
              "    <tr style=\"text-align: right;\">\n",
              "      <th></th>\n",
              "      <th>TransactionDate</th>\n",
              "      <th>Type</th>\n",
              "      <th>Station</th>\n",
              "      <th>Count</th>\n",
              "    </tr>\n",
              "  </thead>\n",
              "  <tbody>\n",
              "    <tr>\n",
              "      <th>0</th>\n",
              "      <td>2017-01-25</td>\n",
              "      <td>Exit</td>\n",
              "      <td>Hua Lamphong</td>\n",
              "      <td>1338</td>\n",
              "    </tr>\n",
              "    <tr>\n",
              "      <th>1</th>\n",
              "      <td>2017-01-25</td>\n",
              "      <td>Exit</td>\n",
              "      <td>Sam Yan</td>\n",
              "      <td>1299</td>\n",
              "    </tr>\n",
              "    <tr>\n",
              "      <th>2</th>\n",
              "      <td>2017-01-25</td>\n",
              "      <td>Exit</td>\n",
              "      <td>Si Lom</td>\n",
              "      <td>2720</td>\n",
              "    </tr>\n",
              "    <tr>\n",
              "      <th>3</th>\n",
              "      <td>2017-01-25</td>\n",
              "      <td>Exit</td>\n",
              "      <td>Lumphini</td>\n",
              "      <td>1621</td>\n",
              "    </tr>\n",
              "    <tr>\n",
              "      <th>4</th>\n",
              "      <td>2017-01-25</td>\n",
              "      <td>Exit</td>\n",
              "      <td>Khlong Toei</td>\n",
              "      <td>289</td>\n",
              "    </tr>\n",
              "    <tr>\n",
              "      <th>...</th>\n",
              "      <td>...</td>\n",
              "      <td>...</td>\n",
              "      <td>...</td>\n",
              "      <td>...</td>\n",
              "    </tr>\n",
              "    <tr>\n",
              "      <th>553</th>\n",
              "      <td>2017-01-01</td>\n",
              "      <td>Exit</td>\n",
              "      <td>Lat Phrao</td>\n",
              "      <td>309</td>\n",
              "    </tr>\n",
              "    <tr>\n",
              "      <th>554</th>\n",
              "      <td>2017-01-01</td>\n",
              "      <td>Exit</td>\n",
              "      <td>Phahon Yothin</td>\n",
              "      <td>342</td>\n",
              "    </tr>\n",
              "    <tr>\n",
              "      <th>555</th>\n",
              "      <td>2017-01-01</td>\n",
              "      <td>Exit</td>\n",
              "      <td>Chatuchak Park</td>\n",
              "      <td>250</td>\n",
              "    </tr>\n",
              "    <tr>\n",
              "      <th>556</th>\n",
              "      <td>2017-01-01</td>\n",
              "      <td>Exit</td>\n",
              "      <td>Kamphaeng Phet</td>\n",
              "      <td>151</td>\n",
              "    </tr>\n",
              "    <tr>\n",
              "      <th>557</th>\n",
              "      <td>2017-01-01</td>\n",
              "      <td>Exit</td>\n",
              "      <td>Bang Sue</td>\n",
              "      <td>240</td>\n",
              "    </tr>\n",
              "  </tbody>\n",
              "</table>\n",
              "<p>558 rows × 4 columns</p>\n",
              "</div>"
            ],
            "text/plain": [
              "    TransactionDate  Type         Station  Count\n",
              "0        2017-01-25  Exit    Hua Lamphong   1338\n",
              "1        2017-01-25  Exit         Sam Yan   1299\n",
              "2        2017-01-25  Exit          Si Lom   2720\n",
              "3        2017-01-25  Exit        Lumphini   1621\n",
              "4        2017-01-25  Exit     Khlong Toei    289\n",
              "..              ...   ...             ...    ...\n",
              "553      2017-01-01  Exit       Lat Phrao    309\n",
              "554      2017-01-01  Exit   Phahon Yothin    342\n",
              "555      2017-01-01  Exit  Chatuchak Park    250\n",
              "556      2017-01-01  Exit  Kamphaeng Phet    151\n",
              "557      2017-01-01  Exit        Bang Sue    240\n",
              "\n",
              "[558 rows x 4 columns]"
            ]
          },
          "metadata": {
            "tags": []
          },
          "execution_count": 77
        }
      ]
    },
    {
      "cell_type": "code",
      "metadata": {
        "id": "nRWv8qjTJCbm",
        "colab_type": "code",
        "colab": {
          "base_uri": "https://localhost:8080/",
          "height": 402
        },
        "outputId": "a9989692-898c-4e40-db45-3b717eb19523"
      },
      "source": [
        "jan_transaction_df = entry_df.append(exit_df) \n",
        "jan_transaction_df"
      ],
      "execution_count": 78,
      "outputs": [
        {
          "output_type": "execute_result",
          "data": {
            "text/html": [
              "<div>\n",
              "<style scoped>\n",
              "    .dataframe tbody tr th:only-of-type {\n",
              "        vertical-align: middle;\n",
              "    }\n",
              "\n",
              "    .dataframe tbody tr th {\n",
              "        vertical-align: top;\n",
              "    }\n",
              "\n",
              "    .dataframe thead th {\n",
              "        text-align: right;\n",
              "    }\n",
              "</style>\n",
              "<table border=\"1\" class=\"dataframe\">\n",
              "  <thead>\n",
              "    <tr style=\"text-align: right;\">\n",
              "      <th></th>\n",
              "      <th>TransactionDate</th>\n",
              "      <th>Type</th>\n",
              "      <th>Station</th>\n",
              "      <th>Count</th>\n",
              "    </tr>\n",
              "  </thead>\n",
              "  <tbody>\n",
              "    <tr>\n",
              "      <th>0</th>\n",
              "      <td>2017-01-25</td>\n",
              "      <td>Entry</td>\n",
              "      <td>Sam Yan</td>\n",
              "      <td>1328</td>\n",
              "    </tr>\n",
              "    <tr>\n",
              "      <th>1</th>\n",
              "      <td>2017-01-25</td>\n",
              "      <td>Entry</td>\n",
              "      <td>Si Lom</td>\n",
              "      <td>2865</td>\n",
              "    </tr>\n",
              "    <tr>\n",
              "      <th>2</th>\n",
              "      <td>2017-01-25</td>\n",
              "      <td>Entry</td>\n",
              "      <td>Lumphini</td>\n",
              "      <td>1448</td>\n",
              "    </tr>\n",
              "    <tr>\n",
              "      <th>3</th>\n",
              "      <td>2017-01-25</td>\n",
              "      <td>Entry</td>\n",
              "      <td>Khlong Toei</td>\n",
              "      <td>308</td>\n",
              "    </tr>\n",
              "    <tr>\n",
              "      <th>4</th>\n",
              "      <td>2017-01-25</td>\n",
              "      <td>Entry</td>\n",
              "      <td>Queen Sirikit National Convention Centre</td>\n",
              "      <td>1400</td>\n",
              "    </tr>\n",
              "    <tr>\n",
              "      <th>...</th>\n",
              "      <td>...</td>\n",
              "      <td>...</td>\n",
              "      <td>...</td>\n",
              "      <td>...</td>\n",
              "    </tr>\n",
              "    <tr>\n",
              "      <th>553</th>\n",
              "      <td>2017-01-01</td>\n",
              "      <td>Exit</td>\n",
              "      <td>Lat Phrao</td>\n",
              "      <td>309</td>\n",
              "    </tr>\n",
              "    <tr>\n",
              "      <th>554</th>\n",
              "      <td>2017-01-01</td>\n",
              "      <td>Exit</td>\n",
              "      <td>Phahon Yothin</td>\n",
              "      <td>342</td>\n",
              "    </tr>\n",
              "    <tr>\n",
              "      <th>555</th>\n",
              "      <td>2017-01-01</td>\n",
              "      <td>Exit</td>\n",
              "      <td>Chatuchak Park</td>\n",
              "      <td>250</td>\n",
              "    </tr>\n",
              "    <tr>\n",
              "      <th>556</th>\n",
              "      <td>2017-01-01</td>\n",
              "      <td>Exit</td>\n",
              "      <td>Kamphaeng Phet</td>\n",
              "      <td>151</td>\n",
              "    </tr>\n",
              "    <tr>\n",
              "      <th>557</th>\n",
              "      <td>2017-01-01</td>\n",
              "      <td>Exit</td>\n",
              "      <td>Bang Sue</td>\n",
              "      <td>240</td>\n",
              "    </tr>\n",
              "  </tbody>\n",
              "</table>\n",
              "<p>1116 rows × 4 columns</p>\n",
              "</div>"
            ],
            "text/plain": [
              "    TransactionDate   Type                                   Station  Count\n",
              "0        2017-01-25  Entry                                   Sam Yan   1328\n",
              "1        2017-01-25  Entry                                    Si Lom   2865\n",
              "2        2017-01-25  Entry                                  Lumphini   1448\n",
              "3        2017-01-25  Entry                               Khlong Toei    308\n",
              "4        2017-01-25  Entry  Queen Sirikit National Convention Centre   1400\n",
              "..              ...    ...                                       ...    ...\n",
              "553      2017-01-01   Exit                                 Lat Phrao    309\n",
              "554      2017-01-01   Exit                             Phahon Yothin    342\n",
              "555      2017-01-01   Exit                            Chatuchak Park    250\n",
              "556      2017-01-01   Exit                            Kamphaeng Phet    151\n",
              "557      2017-01-01   Exit                                  Bang Sue    240\n",
              "\n",
              "[1116 rows x 4 columns]"
            ]
          },
          "metadata": {
            "tags": []
          },
          "execution_count": 78
        }
      ]
    },
    {
      "cell_type": "code",
      "metadata": {
        "id": "sgOmz05rV36U",
        "colab_type": "code",
        "colab": {
          "base_uri": "https://localhost:8080/",
          "height": 218
        },
        "outputId": "b654b2f3-1b07-46a8-e83a-2b925d94c074"
      },
      "source": [
        "jan_date_all_df = jan_transaction_df['TransactionDate']\n",
        "jan_date_all_df"
      ],
      "execution_count": 79,
      "outputs": [
        {
          "output_type": "execute_result",
          "data": {
            "text/plain": [
              "0      2017-01-25\n",
              "1      2017-01-25\n",
              "2      2017-01-25\n",
              "3      2017-01-25\n",
              "4      2017-01-25\n",
              "          ...    \n",
              "553    2017-01-01\n",
              "554    2017-01-01\n",
              "555    2017-01-01\n",
              "556    2017-01-01\n",
              "557    2017-01-01\n",
              "Name: TransactionDate, Length: 1116, dtype: object"
            ]
          },
          "metadata": {
            "tags": []
          },
          "execution_count": 79
        }
      ]
    },
    {
      "cell_type": "markdown",
      "metadata": {
        "colab_type": "text",
        "id": "z2L3SR2BKUlF"
      },
      "source": [
        "# Prep ข้อมูลประเภทของวัน(วันทำงาน , วันหยุด , วันนักขัตฤกษ์)"
      ]
    },
    {
      "cell_type": "code",
      "metadata": {
        "id": "zYDC6SLUTXCk",
        "colab_type": "code",
        "colab": {}
      },
      "source": [
        "def get_day_type_list(month_df , month_transaction_df , col_name):\n",
        "    date_list = month_transaction_df['TransactionDate'].tolist()\n",
        "    col_list = month_df[col_name].unique().tolist()\n",
        "    print(col_list)\n",
        "    output = []\n",
        "    for date in date_list:\n",
        "      lst = []\n",
        "      lst.append(date)\n",
        "      for col_val in col_list:\n",
        "        subset_df = month_df[ (month_df[col_name]==col_val) & (month_df[\"TransactionDate\"]==date) ].count()\n",
        "        column_count = subset_df.value_counts()\n",
        "        lst.append(column_count.index[0])\n",
        "        # print(\"{} : {} : {}\".format(date,col_val,column_count.index[0]) )\n",
        "      # print(\"-----\")\n",
        "      output.append(lst)\n",
        "    print(output)\n",
        "    return output\n",
        "    # df = pd.DataFrame(output, columns =['TransactionDate','Type', 'Station','Count']) \n",
        "    # return df"
      ],
      "execution_count": 80,
      "outputs": []
    },
    {
      "cell_type": "code",
      "metadata": {
        "id": "27W4JxihLDKq",
        "colab_type": "code",
        "colab": {
          "base_uri": "https://localhost:8080/",
          "height": 70
        },
        "outputId": "87dff7e7-d15a-417b-aeae-bba51d039d5c"
      },
      "source": [
        "day_type_list = get_day_type_list(jan_df , transaction_df , \"DayType\")"
      ],
      "execution_count": 81,
      "outputs": [
        {
          "output_type": "stream",
          "text": [
            "['WE', 'PH', 'WD']\n",
            "[['2017-01-25', 0, 0, 37135], ['2017-01-26', 0, 0, 36485], ['2017-01-13', 0, 0, 36171], ['2017-01-24', 0, 0, 36050], ['2017-01-20', 0, 0, 35898], ['2017-01-11', 0, 0, 35831], ['2017-01-18', 0, 0, 35575], ['2017-01-10', 0, 0, 35343], ['2017-01-31', 0, 0, 35253], ['2017-01-19', 0, 0, 35208], ['2017-01-17', 0, 0, 35107], ['2017-01-09', 0, 0, 34666], ['2017-01-23', 0, 0, 34660], ['2017-01-06', 0, 0, 33946], ['2017-01-27', 0, 0, 33717], ['2017-01-16', 0, 0, 33200], ['2017-01-05', 0, 0, 33129], ['2017-01-30', 0, 0, 32814], ['2017-01-12', 0, 0, 31840], ['2017-01-04', 0, 0, 31479], ['2017-01-28', 16397, 0, 0], ['2017-01-21', 16184, 0, 0], ['2017-01-14', 16018, 0, 0], ['2017-01-07', 15156, 0, 0], ['2017-01-29', 13026, 0, 0], ['2017-01-03', 0, 12134, 0], ['2017-01-22', 12071, 0, 0], ['2017-01-15', 12068, 0, 0], ['2017-01-08', 11123, 0, 0], ['2017-01-02', 0, 7217, 0], ['2017-01-01', 5045, 0, 0]]\n"
          ],
          "name": "stdout"
        }
      ]
    },
    {
      "cell_type": "code",
      "metadata": {
        "id": "f6ofXH_iKWRY",
        "colab_type": "code",
        "colab": {}
      },
      "source": [
        "day_type_temp = pd.DataFrame(day_type_list, columns =['Date','WE','PH','WD'])\n",
        "day_type_temp['DayType'] = ( (day_type_temp[\"WE\"] != 0) * 1 ) + ( (day_type_temp[\"PH\"] != 0) * 2 ) + ( (day_type_temp[\"WD\"] != 0) * 3 )\n",
        "day_type_temp.loc[day_type_temp['DayType'] == 1, 'DayType'] = \"WE\"\n",
        "day_type_temp.loc[day_type_temp['DayType'] == 2, 'DayType'] = \"PH\"\n",
        "day_type_temp.loc[day_type_temp['DayType'] == 3, 'DayType'] = \"WD\"\n",
        "day_type_temp.drop('WE', axis=1, inplace=True)\n",
        "day_type_temp.drop('PH', axis=1, inplace=True)\n",
        "day_type_temp.drop('WD', axis=1, inplace=True)"
      ],
      "execution_count": 82,
      "outputs": []
    },
    {
      "cell_type": "code",
      "metadata": {
        "id": "djUtOZGxbcUd",
        "colab_type": "code",
        "colab": {
          "base_uri": "https://localhost:8080/",
          "height": 402
        },
        "outputId": "78384db7-65d3-43f0-975d-6f4628fda3de"
      },
      "source": [
        "jan_transaction_df = pd.merge(left=jan_transaction_df, right=day_type_temp, left_on='TransactionDate', right_on='Date')\n",
        "jan_transaction_df.drop('Date', axis=1, inplace=True)\n",
        "jan_transaction_df"
      ],
      "execution_count": 83,
      "outputs": [
        {
          "output_type": "execute_result",
          "data": {
            "text/html": [
              "<div>\n",
              "<style scoped>\n",
              "    .dataframe tbody tr th:only-of-type {\n",
              "        vertical-align: middle;\n",
              "    }\n",
              "\n",
              "    .dataframe tbody tr th {\n",
              "        vertical-align: top;\n",
              "    }\n",
              "\n",
              "    .dataframe thead th {\n",
              "        text-align: right;\n",
              "    }\n",
              "</style>\n",
              "<table border=\"1\" class=\"dataframe\">\n",
              "  <thead>\n",
              "    <tr style=\"text-align: right;\">\n",
              "      <th></th>\n",
              "      <th>TransactionDate</th>\n",
              "      <th>Type</th>\n",
              "      <th>Station</th>\n",
              "      <th>Count</th>\n",
              "      <th>DayType</th>\n",
              "    </tr>\n",
              "  </thead>\n",
              "  <tbody>\n",
              "    <tr>\n",
              "      <th>0</th>\n",
              "      <td>2017-01-25</td>\n",
              "      <td>Entry</td>\n",
              "      <td>Sam Yan</td>\n",
              "      <td>1328</td>\n",
              "      <td>WD</td>\n",
              "    </tr>\n",
              "    <tr>\n",
              "      <th>1</th>\n",
              "      <td>2017-01-25</td>\n",
              "      <td>Entry</td>\n",
              "      <td>Si Lom</td>\n",
              "      <td>2865</td>\n",
              "      <td>WD</td>\n",
              "    </tr>\n",
              "    <tr>\n",
              "      <th>2</th>\n",
              "      <td>2017-01-25</td>\n",
              "      <td>Entry</td>\n",
              "      <td>Lumphini</td>\n",
              "      <td>1448</td>\n",
              "      <td>WD</td>\n",
              "    </tr>\n",
              "    <tr>\n",
              "      <th>3</th>\n",
              "      <td>2017-01-25</td>\n",
              "      <td>Entry</td>\n",
              "      <td>Khlong Toei</td>\n",
              "      <td>308</td>\n",
              "      <td>WD</td>\n",
              "    </tr>\n",
              "    <tr>\n",
              "      <th>4</th>\n",
              "      <td>2017-01-25</td>\n",
              "      <td>Entry</td>\n",
              "      <td>Queen Sirikit National Convention Centre</td>\n",
              "      <td>1400</td>\n",
              "      <td>WD</td>\n",
              "    </tr>\n",
              "    <tr>\n",
              "      <th>...</th>\n",
              "      <td>...</td>\n",
              "      <td>...</td>\n",
              "      <td>...</td>\n",
              "      <td>...</td>\n",
              "      <td>...</td>\n",
              "    </tr>\n",
              "    <tr>\n",
              "      <th>1111</th>\n",
              "      <td>2017-01-01</td>\n",
              "      <td>Exit</td>\n",
              "      <td>Lat Phrao</td>\n",
              "      <td>309</td>\n",
              "      <td>WE</td>\n",
              "    </tr>\n",
              "    <tr>\n",
              "      <th>1112</th>\n",
              "      <td>2017-01-01</td>\n",
              "      <td>Exit</td>\n",
              "      <td>Phahon Yothin</td>\n",
              "      <td>342</td>\n",
              "      <td>WE</td>\n",
              "    </tr>\n",
              "    <tr>\n",
              "      <th>1113</th>\n",
              "      <td>2017-01-01</td>\n",
              "      <td>Exit</td>\n",
              "      <td>Chatuchak Park</td>\n",
              "      <td>250</td>\n",
              "      <td>WE</td>\n",
              "    </tr>\n",
              "    <tr>\n",
              "      <th>1114</th>\n",
              "      <td>2017-01-01</td>\n",
              "      <td>Exit</td>\n",
              "      <td>Kamphaeng Phet</td>\n",
              "      <td>151</td>\n",
              "      <td>WE</td>\n",
              "    </tr>\n",
              "    <tr>\n",
              "      <th>1115</th>\n",
              "      <td>2017-01-01</td>\n",
              "      <td>Exit</td>\n",
              "      <td>Bang Sue</td>\n",
              "      <td>240</td>\n",
              "      <td>WE</td>\n",
              "    </tr>\n",
              "  </tbody>\n",
              "</table>\n",
              "<p>1116 rows × 5 columns</p>\n",
              "</div>"
            ],
            "text/plain": [
              "     TransactionDate   Type  ... Count  DayType\n",
              "0         2017-01-25  Entry  ...  1328       WD\n",
              "1         2017-01-25  Entry  ...  2865       WD\n",
              "2         2017-01-25  Entry  ...  1448       WD\n",
              "3         2017-01-25  Entry  ...   308       WD\n",
              "4         2017-01-25  Entry  ...  1400       WD\n",
              "...              ...    ...  ...   ...      ...\n",
              "1111      2017-01-01   Exit  ...   309       WE\n",
              "1112      2017-01-01   Exit  ...   342       WE\n",
              "1113      2017-01-01   Exit  ...   250       WE\n",
              "1114      2017-01-01   Exit  ...   151       WE\n",
              "1115      2017-01-01   Exit  ...   240       WE\n",
              "\n",
              "[1116 rows x 5 columns]"
            ]
          },
          "metadata": {
            "tags": []
          },
          "execution_count": 83
        }
      ]
    },
    {
      "cell_type": "markdown",
      "metadata": {
        "colab_type": "text",
        "id": "lk0x9P-UkxDa"
      },
      "source": [
        "# Prep ข้อมูลวันอะไรของสัปดาห์\n"
      ]
    },
    {
      "cell_type": "code",
      "metadata": {
        "id": "4x0D_btCoHwR",
        "colab_type": "code",
        "colab": {}
      },
      "source": [
        "def get_day_of_week_list(month_df , month_transaction_df , col_name):\n",
        "    date_list = month_transaction_df['TransactionDate'].tolist()\n",
        "    col_list = month_df[col_name].unique().tolist()\n",
        "    print(col_list)\n",
        "    output = []\n",
        "    for date in date_list:\n",
        "      lst = []\n",
        "      lst.append(date)\n",
        "      for col_val in col_list:\n",
        "        subset_df = month_df[ (month_df[col_name]==col_val) & (month_df[\"TransactionDate\"]==date) ].count()\n",
        "        column_count = subset_df.value_counts()\n",
        "        lst.append(column_count.index[0])\n",
        "        # print(\"{} : {} : {}\".format(date,col_val,column_count.index[0]) )\n",
        "      # print(\"-----\")\n",
        "      output.append(lst)\n",
        "    print(output)\n",
        "    return output"
      ],
      "execution_count": 85,
      "outputs": []
    },
    {
      "cell_type": "code",
      "metadata": {
        "id": "BOOtVdHPoH-c",
        "colab_type": "code",
        "colab": {
          "base_uri": "https://localhost:8080/",
          "height": 70
        },
        "outputId": "1b31f96a-70f9-42d6-b3d4-e8dab4d26d66"
      },
      "source": [
        "day_of_week_list = get_day_of_week_list(jan_df , transaction_df , \"EnglishDayNameOfWeek\")"
      ],
      "execution_count": 86,
      "outputs": [
        {
          "output_type": "stream",
          "text": [
            "['Sunday', 'Monday', 'Tuesday', 'Wednesday', 'Thursday', 'Friday', 'Saturday']\n",
            "[['2017-01-25', 0, 0, 0, 37135, 0, 0, 0], ['2017-01-26', 0, 0, 0, 0, 36485, 0, 0], ['2017-01-13', 0, 0, 0, 0, 0, 36171, 0], ['2017-01-24', 0, 0, 36050, 0, 0, 0, 0], ['2017-01-20', 0, 0, 0, 0, 0, 35898, 0], ['2017-01-11', 0, 0, 0, 35831, 0, 0, 0], ['2017-01-18', 0, 0, 0, 35575, 0, 0, 0], ['2017-01-10', 0, 0, 35343, 0, 0, 0, 0], ['2017-01-31', 0, 0, 35253, 0, 0, 0, 0], ['2017-01-19', 0, 0, 0, 0, 35208, 0, 0], ['2017-01-17', 0, 0, 35107, 0, 0, 0, 0], ['2017-01-09', 0, 34666, 0, 0, 0, 0, 0], ['2017-01-23', 0, 34660, 0, 0, 0, 0, 0], ['2017-01-06', 0, 0, 0, 0, 0, 33946, 0], ['2017-01-27', 0, 0, 0, 0, 0, 33717, 0], ['2017-01-16', 0, 33200, 0, 0, 0, 0, 0], ['2017-01-05', 0, 0, 0, 0, 33129, 0, 0], ['2017-01-30', 0, 32814, 0, 0, 0, 0, 0], ['2017-01-12', 0, 0, 0, 0, 31840, 0, 0], ['2017-01-04', 0, 0, 0, 31479, 0, 0, 0], ['2017-01-28', 0, 0, 0, 0, 0, 0, 16397], ['2017-01-21', 0, 0, 0, 0, 0, 0, 16184], ['2017-01-14', 0, 0, 0, 0, 0, 0, 16018], ['2017-01-07', 0, 0, 0, 0, 0, 0, 15156], ['2017-01-29', 13026, 0, 0, 0, 0, 0, 0], ['2017-01-03', 0, 0, 12134, 0, 0, 0, 0], ['2017-01-22', 12071, 0, 0, 0, 0, 0, 0], ['2017-01-15', 12068, 0, 0, 0, 0, 0, 0], ['2017-01-08', 11123, 0, 0, 0, 0, 0, 0], ['2017-01-02', 0, 7217, 0, 0, 0, 0, 0], ['2017-01-01', 5045, 0, 0, 0, 0, 0, 0]]\n"
          ],
          "name": "stdout"
        }
      ]
    },
    {
      "cell_type": "code",
      "metadata": {
        "id": "fDivqe11oIC2",
        "colab_type": "code",
        "colab": {
          "base_uri": "https://localhost:8080/",
          "height": 34
        },
        "outputId": "741c441d-2646-41d1-ffd6-3eba1c2cc760"
      },
      "source": [
        "day_of_week_unique = jan_df['EnglishDayNameOfWeek'].unique().tolist()\n",
        "day_of_week_unique.insert(0,\"Date\")"
      ],
      "execution_count": 88,
      "outputs": [
        {
          "output_type": "stream",
          "text": [
            "['Date', 'Sunday', 'Monday', 'Tuesday', 'Wednesday', 'Thursday', 'Friday', 'Saturday']\n"
          ],
          "name": "stdout"
        }
      ]
    },
    {
      "cell_type": "code",
      "metadata": {
        "id": "TMCVBSI2osHA",
        "colab_type": "code",
        "colab": {}
      },
      "source": [
        "day_of_week_temp = pd.DataFrame(day_of_week_list, columns =day_of_week_unique)\n",
        "day_of_week_temp['DateOfWeek'] = ( (day_of_week_temp[\"Sunday\"] != 0) * 1 ) + ( (day_of_week_temp[\"Monday\"] != 0) * 2 ) + ( (day_of_week_temp[\"Tuesday\"] != 0) * 3 )+ ( (day_of_week_temp[\"Wednesday\"] != 0) * 4 )+ ( (day_of_week_temp[\"Thursday\"] != 0) * 5 )+ ( (day_of_week_temp[\"Friday\"] != 0) * 6 )+ ( (day_of_week_temp[\"Saturday\"] != 0) * 7 )\n",
        "day_of_week_temp.loc[day_of_week_temp['DateOfWeek'] == 1, 'DateOfWeek'] = \"Sunday\"\n",
        "day_of_week_temp.loc[day_of_week_temp['DateOfWeek'] == 2, 'DateOfWeek'] = \"Monday\"\n",
        "day_of_week_temp.loc[day_of_week_temp['DateOfWeek'] == 3, 'DateOfWeek'] = \"Tuesday\"\n",
        "day_of_week_temp.loc[day_of_week_temp['DateOfWeek'] == 4, 'DateOfWeek'] = \"Wednesday\"\n",
        "day_of_week_temp.loc[day_of_week_temp['DateOfWeek'] == 5, 'DateOfWeek'] = \"Thursday\"\n",
        "day_of_week_temp.loc[day_of_week_temp['DateOfWeek'] == 6, 'DateOfWeek'] = \"Friday\"\n",
        "day_of_week_temp.loc[day_of_week_temp['DateOfWeek'] == 7, 'DateOfWeek'] = \"Saturday\"\n",
        "for col in jan_df['EnglishDayNameOfWeek'].unique().tolist():\n",
        "  day_of_week_temp.drop(col, axis=1, inplace=True)"
      ],
      "execution_count": 95,
      "outputs": []
    },
    {
      "cell_type": "code",
      "metadata": {
        "id": "aSBvuYgVosJX",
        "colab_type": "code",
        "colab": {
          "base_uri": "https://localhost:8080/",
          "height": 402
        },
        "outputId": "09dee9c1-9b94-4703-9dd1-a72b85789537"
      },
      "source": [
        "jan_transaction_df = pd.merge(left=jan_transaction_df, right=day_of_week_temp, left_on='TransactionDate', right_on='Date')\n",
        "jan_transaction_df.drop('Date', axis=1, inplace=True)\n",
        "jan_transaction_df"
      ],
      "execution_count": 96,
      "outputs": [
        {
          "output_type": "execute_result",
          "data": {
            "text/html": [
              "<div>\n",
              "<style scoped>\n",
              "    .dataframe tbody tr th:only-of-type {\n",
              "        vertical-align: middle;\n",
              "    }\n",
              "\n",
              "    .dataframe tbody tr th {\n",
              "        vertical-align: top;\n",
              "    }\n",
              "\n",
              "    .dataframe thead th {\n",
              "        text-align: right;\n",
              "    }\n",
              "</style>\n",
              "<table border=\"1\" class=\"dataframe\">\n",
              "  <thead>\n",
              "    <tr style=\"text-align: right;\">\n",
              "      <th></th>\n",
              "      <th>TransactionDate</th>\n",
              "      <th>Type</th>\n",
              "      <th>Station</th>\n",
              "      <th>Count</th>\n",
              "      <th>DayType</th>\n",
              "      <th>DateOfWeek</th>\n",
              "    </tr>\n",
              "  </thead>\n",
              "  <tbody>\n",
              "    <tr>\n",
              "      <th>0</th>\n",
              "      <td>2017-01-25</td>\n",
              "      <td>Entry</td>\n",
              "      <td>Sam Yan</td>\n",
              "      <td>1328</td>\n",
              "      <td>WD</td>\n",
              "      <td>Wednesday</td>\n",
              "    </tr>\n",
              "    <tr>\n",
              "      <th>1</th>\n",
              "      <td>2017-01-25</td>\n",
              "      <td>Entry</td>\n",
              "      <td>Si Lom</td>\n",
              "      <td>2865</td>\n",
              "      <td>WD</td>\n",
              "      <td>Wednesday</td>\n",
              "    </tr>\n",
              "    <tr>\n",
              "      <th>2</th>\n",
              "      <td>2017-01-25</td>\n",
              "      <td>Entry</td>\n",
              "      <td>Lumphini</td>\n",
              "      <td>1448</td>\n",
              "      <td>WD</td>\n",
              "      <td>Wednesday</td>\n",
              "    </tr>\n",
              "    <tr>\n",
              "      <th>3</th>\n",
              "      <td>2017-01-25</td>\n",
              "      <td>Entry</td>\n",
              "      <td>Khlong Toei</td>\n",
              "      <td>308</td>\n",
              "      <td>WD</td>\n",
              "      <td>Wednesday</td>\n",
              "    </tr>\n",
              "    <tr>\n",
              "      <th>4</th>\n",
              "      <td>2017-01-25</td>\n",
              "      <td>Entry</td>\n",
              "      <td>Queen Sirikit National Convention Centre</td>\n",
              "      <td>1400</td>\n",
              "      <td>WD</td>\n",
              "      <td>Wednesday</td>\n",
              "    </tr>\n",
              "    <tr>\n",
              "      <th>...</th>\n",
              "      <td>...</td>\n",
              "      <td>...</td>\n",
              "      <td>...</td>\n",
              "      <td>...</td>\n",
              "      <td>...</td>\n",
              "      <td>...</td>\n",
              "    </tr>\n",
              "    <tr>\n",
              "      <th>1111</th>\n",
              "      <td>2017-01-01</td>\n",
              "      <td>Exit</td>\n",
              "      <td>Lat Phrao</td>\n",
              "      <td>309</td>\n",
              "      <td>WE</td>\n",
              "      <td>Sunday</td>\n",
              "    </tr>\n",
              "    <tr>\n",
              "      <th>1112</th>\n",
              "      <td>2017-01-01</td>\n",
              "      <td>Exit</td>\n",
              "      <td>Phahon Yothin</td>\n",
              "      <td>342</td>\n",
              "      <td>WE</td>\n",
              "      <td>Sunday</td>\n",
              "    </tr>\n",
              "    <tr>\n",
              "      <th>1113</th>\n",
              "      <td>2017-01-01</td>\n",
              "      <td>Exit</td>\n",
              "      <td>Chatuchak Park</td>\n",
              "      <td>250</td>\n",
              "      <td>WE</td>\n",
              "      <td>Sunday</td>\n",
              "    </tr>\n",
              "    <tr>\n",
              "      <th>1114</th>\n",
              "      <td>2017-01-01</td>\n",
              "      <td>Exit</td>\n",
              "      <td>Kamphaeng Phet</td>\n",
              "      <td>151</td>\n",
              "      <td>WE</td>\n",
              "      <td>Sunday</td>\n",
              "    </tr>\n",
              "    <tr>\n",
              "      <th>1115</th>\n",
              "      <td>2017-01-01</td>\n",
              "      <td>Exit</td>\n",
              "      <td>Bang Sue</td>\n",
              "      <td>240</td>\n",
              "      <td>WE</td>\n",
              "      <td>Sunday</td>\n",
              "    </tr>\n",
              "  </tbody>\n",
              "</table>\n",
              "<p>1116 rows × 6 columns</p>\n",
              "</div>"
            ],
            "text/plain": [
              "     TransactionDate   Type  ... DayType  DateOfWeek\n",
              "0         2017-01-25  Entry  ...      WD   Wednesday\n",
              "1         2017-01-25  Entry  ...      WD   Wednesday\n",
              "2         2017-01-25  Entry  ...      WD   Wednesday\n",
              "3         2017-01-25  Entry  ...      WD   Wednesday\n",
              "4         2017-01-25  Entry  ...      WD   Wednesday\n",
              "...              ...    ...  ...     ...         ...\n",
              "1111      2017-01-01   Exit  ...      WE      Sunday\n",
              "1112      2017-01-01   Exit  ...      WE      Sunday\n",
              "1113      2017-01-01   Exit  ...      WE      Sunday\n",
              "1114      2017-01-01   Exit  ...      WE      Sunday\n",
              "1115      2017-01-01   Exit  ...      WE      Sunday\n",
              "\n",
              "[1116 rows x 6 columns]"
            ]
          },
          "metadata": {
            "tags": []
          },
          "execution_count": 96
        }
      ]
    },
    {
      "cell_type": "markdown",
      "metadata": {
        "colab_type": "text",
        "id": "Tljc1rAHrv6G"
      },
      "source": [
        "# Prep ข้อมูล วันที่เท่าไหร่ของเดือน และ เป็นช่วงไหนของเดือน (ต้นเดือน , กลางเดือน , สิ้นเดือน)"
      ]
    },
    {
      "cell_type": "code",
      "metadata": {
        "id": "Bo7pVBFmosLx",
        "colab_type": "code",
        "colab": {}
      },
      "source": [
        "df_day_number_of_month = pd.DataFrame(columns=['DayNumberOfMonth','MonthPeriod','MonthNumberOfYear','CalendarQuater'])\n",
        "df_day_number_of_month[\"DayNumberOfMonth\"] =  jan_transaction_df['TransactionDate'].str.slice(8, 10).astype('int')\n",
        "df_day_number_of_month[\"MonthPeriod\"] =  jan_transaction_df['TransactionDate'].str.slice(8, 10).astype('int')\n",
        "df_day_number_of_month[\"MonthNumberOfYear\"] =  jan_transaction_df['TransactionDate'].str.slice(5, 7).astype('int')"
      ],
      "execution_count": 101,
      "outputs": []
    },
    {
      "cell_type": "code",
      "metadata": {
        "id": "n8iIZt1tttNR",
        "colab_type": "code",
        "colab": {}
      },
      "source": [
        "df_day_number_of_month.loc[df_day_number_of_month['MonthPeriod'].astype('int') <= 5, 'MonthPeriod'] = 1\n",
        "df_day_number_of_month.loc[( (df_day_number_of_month['MonthPeriod'].astype('int') > 5) & (df_day_number_of_month['MonthPeriod'].astype('int') < 25) ), 'MonthPeriod'] = 2\n",
        "df_day_number_of_month.loc[df_day_number_of_month['MonthPeriod'].astype('int') >= 25, 'MonthPeriod'] = 3\n",
        "\n",
        "df_day_number_of_month.loc[df_day_number_of_month['MonthPeriod'] == 1, 'MonthPeriod'] = \"Early\"\n",
        "df_day_number_of_month.loc[df_day_number_of_month['MonthPeriod'] == 2, 'MonthPeriod'] = \"Mid\"\n",
        "df_day_number_of_month.loc[df_day_number_of_month['MonthPeriod'] == 3, 'MonthPeriod'] = \"Late\""
      ],
      "execution_count": 102,
      "outputs": []
    },
    {
      "cell_type": "code",
      "metadata": {
        "id": "ylMiJKoit5A7",
        "colab_type": "code",
        "colab": {}
      },
      "source": [
        "df_day_number_of_month.loc[df_day_number_of_month['MonthNumberOfYear'].astype('int') == 1, 'CalendarQuater'] = 1\n",
        "df_day_number_of_month.loc[df_day_number_of_month['MonthNumberOfYear'].astype('int') == 2, 'CalendarQuater'] = 1\n",
        "df_day_number_of_month.loc[df_day_number_of_month['MonthNumberOfYear'].astype('int') == 3, 'CalendarQuater'] = 1\n",
        "df_day_number_of_month.loc[df_day_number_of_month['MonthNumberOfYear'].astype('int') == 4, 'CalendarQuater'] = 2\n",
        "df_day_number_of_month.loc[df_day_number_of_month['MonthNumberOfYear'].astype('int') == 5, 'CalendarQuater'] = 2\n",
        "df_day_number_of_month.loc[df_day_number_of_month['MonthNumberOfYear'].astype('int') == 6, 'CalendarQuater'] = 2\n",
        "df_day_number_of_month.loc[df_day_number_of_month['MonthNumberOfYear'].astype('int') == 7, 'CalendarQuater'] = 3\n",
        "df_day_number_of_month.loc[df_day_number_of_month['MonthNumberOfYear'].astype('int') == 8, 'CalendarQuater'] = 3\n",
        "df_day_number_of_month.loc[df_day_number_of_month['MonthNumberOfYear'].astype('int') == 9, 'CalendarQuater'] = 3\n",
        "df_day_number_of_month.loc[df_day_number_of_month['MonthNumberOfYear'].astype('int') == 10, 'CalendarQuater'] = 4\n",
        "df_day_number_of_month.loc[df_day_number_of_month['MonthNumberOfYear'].astype('int') == 11, 'CalendarQuater'] = 4\n",
        "df_day_number_of_month.loc[df_day_number_of_month['MonthNumberOfYear'].astype('int') == 12, 'CalendarQuater'] = 4"
      ],
      "execution_count": 103,
      "outputs": []
    },
    {
      "cell_type": "code",
      "metadata": {
        "id": "UBqD6NZDtKAe",
        "colab_type": "code",
        "colab": {
          "base_uri": "https://localhost:8080/",
          "height": 418
        },
        "outputId": "09187e12-c6bf-4225-f30d-ef5546077dc8"
      },
      "source": [
        "jan_transaction_df = jan_transaction_df.join(df_day_number_of_month)\n",
        "jan_transaction_df"
      ],
      "execution_count": 105,
      "outputs": [
        {
          "output_type": "execute_result",
          "data": {
            "text/html": [
              "<div>\n",
              "<style scoped>\n",
              "    .dataframe tbody tr th:only-of-type {\n",
              "        vertical-align: middle;\n",
              "    }\n",
              "\n",
              "    .dataframe tbody tr th {\n",
              "        vertical-align: top;\n",
              "    }\n",
              "\n",
              "    .dataframe thead th {\n",
              "        text-align: right;\n",
              "    }\n",
              "</style>\n",
              "<table border=\"1\" class=\"dataframe\">\n",
              "  <thead>\n",
              "    <tr style=\"text-align: right;\">\n",
              "      <th></th>\n",
              "      <th>TransactionDate</th>\n",
              "      <th>Type</th>\n",
              "      <th>Station</th>\n",
              "      <th>Count</th>\n",
              "      <th>DayType</th>\n",
              "      <th>DateOfWeek</th>\n",
              "      <th>DayNumberOfMonth</th>\n",
              "      <th>MonthPeriod</th>\n",
              "      <th>MonthNumberOfYear</th>\n",
              "      <th>CalendarQuater</th>\n",
              "    </tr>\n",
              "  </thead>\n",
              "  <tbody>\n",
              "    <tr>\n",
              "      <th>0</th>\n",
              "      <td>2017-01-25</td>\n",
              "      <td>Entry</td>\n",
              "      <td>Sam Yan</td>\n",
              "      <td>1328</td>\n",
              "      <td>WD</td>\n",
              "      <td>Wednesday</td>\n",
              "      <td>25</td>\n",
              "      <td>Late</td>\n",
              "      <td>1</td>\n",
              "      <td>1</td>\n",
              "    </tr>\n",
              "    <tr>\n",
              "      <th>1</th>\n",
              "      <td>2017-01-25</td>\n",
              "      <td>Entry</td>\n",
              "      <td>Si Lom</td>\n",
              "      <td>2865</td>\n",
              "      <td>WD</td>\n",
              "      <td>Wednesday</td>\n",
              "      <td>25</td>\n",
              "      <td>Late</td>\n",
              "      <td>1</td>\n",
              "      <td>1</td>\n",
              "    </tr>\n",
              "    <tr>\n",
              "      <th>2</th>\n",
              "      <td>2017-01-25</td>\n",
              "      <td>Entry</td>\n",
              "      <td>Lumphini</td>\n",
              "      <td>1448</td>\n",
              "      <td>WD</td>\n",
              "      <td>Wednesday</td>\n",
              "      <td>25</td>\n",
              "      <td>Late</td>\n",
              "      <td>1</td>\n",
              "      <td>1</td>\n",
              "    </tr>\n",
              "    <tr>\n",
              "      <th>3</th>\n",
              "      <td>2017-01-25</td>\n",
              "      <td>Entry</td>\n",
              "      <td>Khlong Toei</td>\n",
              "      <td>308</td>\n",
              "      <td>WD</td>\n",
              "      <td>Wednesday</td>\n",
              "      <td>25</td>\n",
              "      <td>Late</td>\n",
              "      <td>1</td>\n",
              "      <td>1</td>\n",
              "    </tr>\n",
              "    <tr>\n",
              "      <th>4</th>\n",
              "      <td>2017-01-25</td>\n",
              "      <td>Entry</td>\n",
              "      <td>Queen Sirikit National Convention Centre</td>\n",
              "      <td>1400</td>\n",
              "      <td>WD</td>\n",
              "      <td>Wednesday</td>\n",
              "      <td>25</td>\n",
              "      <td>Late</td>\n",
              "      <td>1</td>\n",
              "      <td>1</td>\n",
              "    </tr>\n",
              "    <tr>\n",
              "      <th>...</th>\n",
              "      <td>...</td>\n",
              "      <td>...</td>\n",
              "      <td>...</td>\n",
              "      <td>...</td>\n",
              "      <td>...</td>\n",
              "      <td>...</td>\n",
              "      <td>...</td>\n",
              "      <td>...</td>\n",
              "      <td>...</td>\n",
              "      <td>...</td>\n",
              "    </tr>\n",
              "    <tr>\n",
              "      <th>1111</th>\n",
              "      <td>2017-01-01</td>\n",
              "      <td>Exit</td>\n",
              "      <td>Lat Phrao</td>\n",
              "      <td>309</td>\n",
              "      <td>WE</td>\n",
              "      <td>Sunday</td>\n",
              "      <td>1</td>\n",
              "      <td>Early</td>\n",
              "      <td>1</td>\n",
              "      <td>1</td>\n",
              "    </tr>\n",
              "    <tr>\n",
              "      <th>1112</th>\n",
              "      <td>2017-01-01</td>\n",
              "      <td>Exit</td>\n",
              "      <td>Phahon Yothin</td>\n",
              "      <td>342</td>\n",
              "      <td>WE</td>\n",
              "      <td>Sunday</td>\n",
              "      <td>1</td>\n",
              "      <td>Early</td>\n",
              "      <td>1</td>\n",
              "      <td>1</td>\n",
              "    </tr>\n",
              "    <tr>\n",
              "      <th>1113</th>\n",
              "      <td>2017-01-01</td>\n",
              "      <td>Exit</td>\n",
              "      <td>Chatuchak Park</td>\n",
              "      <td>250</td>\n",
              "      <td>WE</td>\n",
              "      <td>Sunday</td>\n",
              "      <td>1</td>\n",
              "      <td>Early</td>\n",
              "      <td>1</td>\n",
              "      <td>1</td>\n",
              "    </tr>\n",
              "    <tr>\n",
              "      <th>1114</th>\n",
              "      <td>2017-01-01</td>\n",
              "      <td>Exit</td>\n",
              "      <td>Kamphaeng Phet</td>\n",
              "      <td>151</td>\n",
              "      <td>WE</td>\n",
              "      <td>Sunday</td>\n",
              "      <td>1</td>\n",
              "      <td>Early</td>\n",
              "      <td>1</td>\n",
              "      <td>1</td>\n",
              "    </tr>\n",
              "    <tr>\n",
              "      <th>1115</th>\n",
              "      <td>2017-01-01</td>\n",
              "      <td>Exit</td>\n",
              "      <td>Bang Sue</td>\n",
              "      <td>240</td>\n",
              "      <td>WE</td>\n",
              "      <td>Sunday</td>\n",
              "      <td>1</td>\n",
              "      <td>Early</td>\n",
              "      <td>1</td>\n",
              "      <td>1</td>\n",
              "    </tr>\n",
              "  </tbody>\n",
              "</table>\n",
              "<p>1116 rows × 10 columns</p>\n",
              "</div>"
            ],
            "text/plain": [
              "     TransactionDate   Type  ... MonthNumberOfYear  CalendarQuater\n",
              "0         2017-01-25  Entry  ...                 1               1\n",
              "1         2017-01-25  Entry  ...                 1               1\n",
              "2         2017-01-25  Entry  ...                 1               1\n",
              "3         2017-01-25  Entry  ...                 1               1\n",
              "4         2017-01-25  Entry  ...                 1               1\n",
              "...              ...    ...  ...               ...             ...\n",
              "1111      2017-01-01   Exit  ...                 1               1\n",
              "1112      2017-01-01   Exit  ...                 1               1\n",
              "1113      2017-01-01   Exit  ...                 1               1\n",
              "1114      2017-01-01   Exit  ...                 1               1\n",
              "1115      2017-01-01   Exit  ...                 1               1\n",
              "\n",
              "[1116 rows x 10 columns]"
            ]
          },
          "metadata": {
            "tags": []
          },
          "execution_count": 105
        }
      ]
    },
    {
      "cell_type": "markdown",
      "metadata": {
        "colab_type": "text",
        "id": "u21cN1SWu_9q"
      },
      "source": [
        "# Prep ข้อมูล ประเภทผู้โดยสาร"
      ]
    },
    {
      "cell_type": "code",
      "metadata": {
        "id": "79SWxloRtKC9",
        "colab_type": "code",
        "colab": {}
      },
      "source": [
        "def get_passenger_type_list(month_df , month_transaction_df , col_name):\n",
        "    date_list = month_transaction_df['TransactionDate'].tolist()\n",
        "    col_list = month_df[col_name].unique().tolist()\n",
        "    print(col_list)\n",
        "    output = []\n",
        "    for date in date_list:\n",
        "      for col_val in col_list:\n",
        "        lst = []\n",
        "        lst.append(date)\n",
        "        lst.append(col_val)\n",
        "        subset_df = month_df[ (month_df[col_name]==col_val) & (month_df[\"TransactionDate\"]==date) ].count()\n",
        "        column_count = subset_df.value_counts()\n",
        "        lst.append(column_count.index[0])\n",
        "        output.append(lst)\n",
        "        # print(\"{} : {} : {}\".format(date,col_val,column_count.index[0]) )\n",
        "      # print(\"-----\")\n",
        "    print(output)\n",
        "    return output"
      ],
      "execution_count": 127,
      "outputs": []
    },
    {
      "cell_type": "code",
      "metadata": {
        "id": "QoVutKZCvEo-",
        "colab_type": "code",
        "colab": {
          "base_uri": "https://localhost:8080/",
          "height": 70
        },
        "outputId": "4c416a5d-510b-4c9e-f132-c76e3d3e2768"
      },
      "source": [
        "passenger_type_list = get_passenger_type_list(jan_df , transaction_df , \"PassengerType\")"
      ],
      "execution_count": 128,
      "outputs": [
        {
          "output_type": "stream",
          "text": [
            "['Adult', 'Senior', 'Student', 'Child']\n",
            "[['2017-01-25', 'Adult', 30511], ['2017-01-25', 'Senior', 1823], ['2017-01-25', 'Student', 4719], ['2017-01-25', 'Child', 82], ['2017-01-26', 'Adult', 29929], ['2017-01-26', 'Senior', 1752], ['2017-01-26', 'Student', 4736], ['2017-01-26', 'Child', 68], ['2017-01-13', 'Adult', 29937], ['2017-01-13', 'Senior', 1640], ['2017-01-13', 'Student', 4519], ['2017-01-13', 'Child', 75], ['2017-01-24', 'Adult', 29784], ['2017-01-24', 'Senior', 1617], ['2017-01-24', 'Student', 4585], ['2017-01-24', 'Child', 64], ['2017-01-20', 'Adult', 29861], ['2017-01-20', 'Senior', 1646], ['2017-01-20', 'Student', 4342], ['2017-01-20', 'Child', 49], ['2017-01-11', 'Adult', 29852], ['2017-01-11', 'Senior', 1602], ['2017-01-11', 'Student', 4304], ['2017-01-11', 'Child', 73], ['2017-01-18', 'Adult', 29704], ['2017-01-18', 'Senior', 1628], ['2017-01-18', 'Student', 4167], ['2017-01-18', 'Child', 76], ['2017-01-10', 'Adult', 29534], ['2017-01-10', 'Senior', 1457], ['2017-01-10', 'Student', 4291], ['2017-01-10', 'Child', 61], ['2017-01-31', 'Adult', 28966], ['2017-01-31', 'Senior', 1683], ['2017-01-31', 'Student', 4532], ['2017-01-31', 'Child', 72], ['2017-01-19', 'Adult', 29228], ['2017-01-19', 'Senior', 1583], ['2017-01-19', 'Student', 4317], ['2017-01-19', 'Child', 80], ['2017-01-17', 'Adult', 29250], ['2017-01-17', 'Senior', 1493], ['2017-01-17', 'Student', 4293], ['2017-01-17', 'Child', 71], ['2017-01-09', 'Adult', 28962], ['2017-01-09', 'Senior', 1476], ['2017-01-09', 'Student', 4183], ['2017-01-09', 'Child', 45], ['2017-01-23', 'Adult', 28567], ['2017-01-23', 'Senior', 1537], ['2017-01-23', 'Student', 4476], ['2017-01-23', 'Child', 80], ['2017-01-06', 'Adult', 28972], ['2017-01-06', 'Senior', 1578], ['2017-01-06', 'Student', 3316], ['2017-01-06', 'Child', 80], ['2017-01-27', 'Adult', 27652], ['2017-01-27', 'Senior', 1403], ['2017-01-27', 'Student', 4604], ['2017-01-27', 'Child', 58], ['2017-01-16', 'Adult', 27925], ['2017-01-16', 'Senior', 1495], ['2017-01-16', 'Student', 3750], ['2017-01-16', 'Child', 30], ['2017-01-05', 'Adult', 28458], ['2017-01-05', 'Senior', 1517], ['2017-01-05', 'Student', 3083], ['2017-01-05', 'Child', 71], ['2017-01-30', 'Adult', 26722], ['2017-01-30', 'Senior', 1535], ['2017-01-30', 'Student', 4496], ['2017-01-30', 'Child', 61], ['2017-01-12', 'Adult', 26667], ['2017-01-12', 'Senior', 1458], ['2017-01-12', 'Student', 3663], ['2017-01-12', 'Child', 52], ['2017-01-04', 'Adult', 27131], ['2017-01-04', 'Senior', 1391], ['2017-01-04', 'Student', 2904], ['2017-01-04', 'Child', 53], ['2017-01-28', 'Adult', 12417], ['2017-01-28', 'Senior', 1354], ['2017-01-28', 'Student', 2588], ['2017-01-28', 'Child', 38], ['2017-01-21', 'Adult', 12404], ['2017-01-21', 'Senior', 1150], ['2017-01-21', 'Student', 2596], ['2017-01-21', 'Child', 34], ['2017-01-14', 'Adult', 12296], ['2017-01-14', 'Senior', 1131], ['2017-01-14', 'Student', 2574], ['2017-01-14', 'Child', 17], ['2017-01-07', 'Adult', 11847], ['2017-01-07', 'Senior', 1115], ['2017-01-07', 'Student', 2159], ['2017-01-07', 'Child', 35], ['2017-01-29', 'Adult', 9817], ['2017-01-29', 'Senior', 1172], ['2017-01-29', 'Student', 2013], ['2017-01-29', 'Child', 24], ['2017-01-03', 'Adult', 10216], ['2017-01-03', 'Senior', 772], ['2017-01-03', 'Student', 1125], ['2017-01-03', 'Child', 21], ['2017-01-22', 'Adult', 9098], ['2017-01-22', 'Senior', 948], ['2017-01-22', 'Student', 2002], ['2017-01-22', 'Child', 23], ['2017-01-15', 'Adult', 9147], ['2017-01-15', 'Senior', 950], ['2017-01-15', 'Student', 1942], ['2017-01-15', 'Child', 29], ['2017-01-08', 'Adult', 8550], ['2017-01-08', 'Senior', 865], ['2017-01-08', 'Student', 1695], ['2017-01-08', 'Child', 13], ['2017-01-02', 'Adult', 5767], ['2017-01-02', 'Senior', 732], ['2017-01-02', 'Student', 701], ['2017-01-02', 'Child', 17], ['2017-01-01', 'Adult', 4112], ['2017-01-01', 'Senior', 472], ['2017-01-01', 'Student', 455], ['2017-01-01', 'Child', 6]]\n"
          ],
          "name": "stdout"
        }
      ]
    },
    {
      "cell_type": "code",
      "metadata": {
        "id": "0eXiwjL5y8kP",
        "colab_type": "code",
        "colab": {
          "base_uri": "https://localhost:8080/",
          "height": 402
        },
        "outputId": "41986230-0aeb-492e-f00e-c2e7b228a039"
      },
      "source": [
        "passenger_type_temp = pd.DataFrame(passenger_type_list, columns = ['Date','PassengerType','PassengerNumber'])\n",
        "passenger_type_temp"
      ],
      "execution_count": 129,
      "outputs": [
        {
          "output_type": "execute_result",
          "data": {
            "text/html": [
              "<div>\n",
              "<style scoped>\n",
              "    .dataframe tbody tr th:only-of-type {\n",
              "        vertical-align: middle;\n",
              "    }\n",
              "\n",
              "    .dataframe tbody tr th {\n",
              "        vertical-align: top;\n",
              "    }\n",
              "\n",
              "    .dataframe thead th {\n",
              "        text-align: right;\n",
              "    }\n",
              "</style>\n",
              "<table border=\"1\" class=\"dataframe\">\n",
              "  <thead>\n",
              "    <tr style=\"text-align: right;\">\n",
              "      <th></th>\n",
              "      <th>Date</th>\n",
              "      <th>PassengerType</th>\n",
              "      <th>PassengerNumber</th>\n",
              "    </tr>\n",
              "  </thead>\n",
              "  <tbody>\n",
              "    <tr>\n",
              "      <th>0</th>\n",
              "      <td>2017-01-25</td>\n",
              "      <td>Adult</td>\n",
              "      <td>30511</td>\n",
              "    </tr>\n",
              "    <tr>\n",
              "      <th>1</th>\n",
              "      <td>2017-01-25</td>\n",
              "      <td>Senior</td>\n",
              "      <td>1823</td>\n",
              "    </tr>\n",
              "    <tr>\n",
              "      <th>2</th>\n",
              "      <td>2017-01-25</td>\n",
              "      <td>Student</td>\n",
              "      <td>4719</td>\n",
              "    </tr>\n",
              "    <tr>\n",
              "      <th>3</th>\n",
              "      <td>2017-01-25</td>\n",
              "      <td>Child</td>\n",
              "      <td>82</td>\n",
              "    </tr>\n",
              "    <tr>\n",
              "      <th>4</th>\n",
              "      <td>2017-01-26</td>\n",
              "      <td>Adult</td>\n",
              "      <td>29929</td>\n",
              "    </tr>\n",
              "    <tr>\n",
              "      <th>...</th>\n",
              "      <td>...</td>\n",
              "      <td>...</td>\n",
              "      <td>...</td>\n",
              "    </tr>\n",
              "    <tr>\n",
              "      <th>119</th>\n",
              "      <td>2017-01-02</td>\n",
              "      <td>Child</td>\n",
              "      <td>17</td>\n",
              "    </tr>\n",
              "    <tr>\n",
              "      <th>120</th>\n",
              "      <td>2017-01-01</td>\n",
              "      <td>Adult</td>\n",
              "      <td>4112</td>\n",
              "    </tr>\n",
              "    <tr>\n",
              "      <th>121</th>\n",
              "      <td>2017-01-01</td>\n",
              "      <td>Senior</td>\n",
              "      <td>472</td>\n",
              "    </tr>\n",
              "    <tr>\n",
              "      <th>122</th>\n",
              "      <td>2017-01-01</td>\n",
              "      <td>Student</td>\n",
              "      <td>455</td>\n",
              "    </tr>\n",
              "    <tr>\n",
              "      <th>123</th>\n",
              "      <td>2017-01-01</td>\n",
              "      <td>Child</td>\n",
              "      <td>6</td>\n",
              "    </tr>\n",
              "  </tbody>\n",
              "</table>\n",
              "<p>124 rows × 3 columns</p>\n",
              "</div>"
            ],
            "text/plain": [
              "           Date PassengerType  PassengerNumber\n",
              "0    2017-01-25         Adult            30511\n",
              "1    2017-01-25        Senior             1823\n",
              "2    2017-01-25       Student             4719\n",
              "3    2017-01-25         Child               82\n",
              "4    2017-01-26         Adult            29929\n",
              "..          ...           ...              ...\n",
              "119  2017-01-02         Child               17\n",
              "120  2017-01-01         Adult             4112\n",
              "121  2017-01-01        Senior              472\n",
              "122  2017-01-01       Student              455\n",
              "123  2017-01-01         Child                6\n",
              "\n",
              "[124 rows x 3 columns]"
            ]
          },
          "metadata": {
            "tags": []
          },
          "execution_count": 129
        }
      ]
    },
    {
      "cell_type": "code",
      "metadata": {
        "id": "4WjikM76y8wQ",
        "colab_type": "code",
        "colab": {
          "base_uri": "https://localhost:8080/",
          "height": 438
        },
        "outputId": "02c31191-7159-40cb-9715-a4ab905c3210"
      },
      "source": [
        "jan_transaction_df = pd.merge(left=jan_transaction_df, right=passenger_type_temp, left_on='TransactionDate', right_on='Date')\n",
        "jan_transaction_df.drop('Date', axis=1, inplace=True)\n",
        "jan_transaction_df"
      ],
      "execution_count": 130,
      "outputs": [
        {
          "output_type": "execute_result",
          "data": {
            "text/html": [
              "<div>\n",
              "<style scoped>\n",
              "    .dataframe tbody tr th:only-of-type {\n",
              "        vertical-align: middle;\n",
              "    }\n",
              "\n",
              "    .dataframe tbody tr th {\n",
              "        vertical-align: top;\n",
              "    }\n",
              "\n",
              "    .dataframe thead th {\n",
              "        text-align: right;\n",
              "    }\n",
              "</style>\n",
              "<table border=\"1\" class=\"dataframe\">\n",
              "  <thead>\n",
              "    <tr style=\"text-align: right;\">\n",
              "      <th></th>\n",
              "      <th>TransactionDate</th>\n",
              "      <th>Type</th>\n",
              "      <th>Station</th>\n",
              "      <th>Count</th>\n",
              "      <th>DayType</th>\n",
              "      <th>DateOfWeek</th>\n",
              "      <th>DayNumberOfMonth</th>\n",
              "      <th>MonthPeriod</th>\n",
              "      <th>MonthNumberOfYear</th>\n",
              "      <th>CalendarQuater</th>\n",
              "      <th>PassengerType</th>\n",
              "      <th>PassengerNumber</th>\n",
              "    </tr>\n",
              "  </thead>\n",
              "  <tbody>\n",
              "    <tr>\n",
              "      <th>0</th>\n",
              "      <td>2017-01-25</td>\n",
              "      <td>Entry</td>\n",
              "      <td>Sam Yan</td>\n",
              "      <td>1328</td>\n",
              "      <td>WD</td>\n",
              "      <td>Wednesday</td>\n",
              "      <td>25</td>\n",
              "      <td>Late</td>\n",
              "      <td>1</td>\n",
              "      <td>1</td>\n",
              "      <td>Adult</td>\n",
              "      <td>30511</td>\n",
              "    </tr>\n",
              "    <tr>\n",
              "      <th>1</th>\n",
              "      <td>2017-01-25</td>\n",
              "      <td>Entry</td>\n",
              "      <td>Sam Yan</td>\n",
              "      <td>1328</td>\n",
              "      <td>WD</td>\n",
              "      <td>Wednesday</td>\n",
              "      <td>25</td>\n",
              "      <td>Late</td>\n",
              "      <td>1</td>\n",
              "      <td>1</td>\n",
              "      <td>Senior</td>\n",
              "      <td>1823</td>\n",
              "    </tr>\n",
              "    <tr>\n",
              "      <th>2</th>\n",
              "      <td>2017-01-25</td>\n",
              "      <td>Entry</td>\n",
              "      <td>Sam Yan</td>\n",
              "      <td>1328</td>\n",
              "      <td>WD</td>\n",
              "      <td>Wednesday</td>\n",
              "      <td>25</td>\n",
              "      <td>Late</td>\n",
              "      <td>1</td>\n",
              "      <td>1</td>\n",
              "      <td>Student</td>\n",
              "      <td>4719</td>\n",
              "    </tr>\n",
              "    <tr>\n",
              "      <th>3</th>\n",
              "      <td>2017-01-25</td>\n",
              "      <td>Entry</td>\n",
              "      <td>Sam Yan</td>\n",
              "      <td>1328</td>\n",
              "      <td>WD</td>\n",
              "      <td>Wednesday</td>\n",
              "      <td>25</td>\n",
              "      <td>Late</td>\n",
              "      <td>1</td>\n",
              "      <td>1</td>\n",
              "      <td>Child</td>\n",
              "      <td>82</td>\n",
              "    </tr>\n",
              "    <tr>\n",
              "      <th>4</th>\n",
              "      <td>2017-01-25</td>\n",
              "      <td>Entry</td>\n",
              "      <td>Si Lom</td>\n",
              "      <td>2865</td>\n",
              "      <td>WD</td>\n",
              "      <td>Wednesday</td>\n",
              "      <td>25</td>\n",
              "      <td>Late</td>\n",
              "      <td>1</td>\n",
              "      <td>1</td>\n",
              "      <td>Adult</td>\n",
              "      <td>30511</td>\n",
              "    </tr>\n",
              "    <tr>\n",
              "      <th>...</th>\n",
              "      <td>...</td>\n",
              "      <td>...</td>\n",
              "      <td>...</td>\n",
              "      <td>...</td>\n",
              "      <td>...</td>\n",
              "      <td>...</td>\n",
              "      <td>...</td>\n",
              "      <td>...</td>\n",
              "      <td>...</td>\n",
              "      <td>...</td>\n",
              "      <td>...</td>\n",
              "      <td>...</td>\n",
              "    </tr>\n",
              "    <tr>\n",
              "      <th>4459</th>\n",
              "      <td>2017-01-01</td>\n",
              "      <td>Exit</td>\n",
              "      <td>Kamphaeng Phet</td>\n",
              "      <td>151</td>\n",
              "      <td>WE</td>\n",
              "      <td>Sunday</td>\n",
              "      <td>1</td>\n",
              "      <td>Early</td>\n",
              "      <td>1</td>\n",
              "      <td>1</td>\n",
              "      <td>Child</td>\n",
              "      <td>6</td>\n",
              "    </tr>\n",
              "    <tr>\n",
              "      <th>4460</th>\n",
              "      <td>2017-01-01</td>\n",
              "      <td>Exit</td>\n",
              "      <td>Bang Sue</td>\n",
              "      <td>240</td>\n",
              "      <td>WE</td>\n",
              "      <td>Sunday</td>\n",
              "      <td>1</td>\n",
              "      <td>Early</td>\n",
              "      <td>1</td>\n",
              "      <td>1</td>\n",
              "      <td>Adult</td>\n",
              "      <td>4112</td>\n",
              "    </tr>\n",
              "    <tr>\n",
              "      <th>4461</th>\n",
              "      <td>2017-01-01</td>\n",
              "      <td>Exit</td>\n",
              "      <td>Bang Sue</td>\n",
              "      <td>240</td>\n",
              "      <td>WE</td>\n",
              "      <td>Sunday</td>\n",
              "      <td>1</td>\n",
              "      <td>Early</td>\n",
              "      <td>1</td>\n",
              "      <td>1</td>\n",
              "      <td>Senior</td>\n",
              "      <td>472</td>\n",
              "    </tr>\n",
              "    <tr>\n",
              "      <th>4462</th>\n",
              "      <td>2017-01-01</td>\n",
              "      <td>Exit</td>\n",
              "      <td>Bang Sue</td>\n",
              "      <td>240</td>\n",
              "      <td>WE</td>\n",
              "      <td>Sunday</td>\n",
              "      <td>1</td>\n",
              "      <td>Early</td>\n",
              "      <td>1</td>\n",
              "      <td>1</td>\n",
              "      <td>Student</td>\n",
              "      <td>455</td>\n",
              "    </tr>\n",
              "    <tr>\n",
              "      <th>4463</th>\n",
              "      <td>2017-01-01</td>\n",
              "      <td>Exit</td>\n",
              "      <td>Bang Sue</td>\n",
              "      <td>240</td>\n",
              "      <td>WE</td>\n",
              "      <td>Sunday</td>\n",
              "      <td>1</td>\n",
              "      <td>Early</td>\n",
              "      <td>1</td>\n",
              "      <td>1</td>\n",
              "      <td>Child</td>\n",
              "      <td>6</td>\n",
              "    </tr>\n",
              "  </tbody>\n",
              "</table>\n",
              "<p>4464 rows × 12 columns</p>\n",
              "</div>"
            ],
            "text/plain": [
              "     TransactionDate   Type  ... PassengerType  PassengerNumber\n",
              "0         2017-01-25  Entry  ...         Adult            30511\n",
              "1         2017-01-25  Entry  ...        Senior             1823\n",
              "2         2017-01-25  Entry  ...       Student             4719\n",
              "3         2017-01-25  Entry  ...         Child               82\n",
              "4         2017-01-25  Entry  ...         Adult            30511\n",
              "...              ...    ...  ...           ...              ...\n",
              "4459      2017-01-01   Exit  ...         Child                6\n",
              "4460      2017-01-01   Exit  ...         Adult             4112\n",
              "4461      2017-01-01   Exit  ...        Senior              472\n",
              "4462      2017-01-01   Exit  ...       Student              455\n",
              "4463      2017-01-01   Exit  ...         Child                6\n",
              "\n",
              "[4464 rows x 12 columns]"
            ]
          },
          "metadata": {
            "tags": []
          },
          "execution_count": 130
        }
      ]
    },
    {
      "cell_type": "markdown",
      "metadata": {
        "colab_type": "text",
        "id": "aNoUIJRTxYxo"
      },
      "source": [
        "# Prep ข้อมูล Events"
      ]
    },
    {
      "cell_type": "code",
      "metadata": {
        "id": "DA7zPLFgxcDf",
        "colab_type": "code",
        "colab": {}
      },
      "source": [
        "events_df = pd.read_csv(\"gdrive/My Drive/NIDA/Events.csv\")\n",
        "events_df.drop('EventsId', axis=1, inplace=True)"
      ],
      "execution_count": 114,
      "outputs": []
    },
    {
      "cell_type": "code",
      "metadata": {
        "id": "z015D-QGxcGB",
        "colab_type": "code",
        "colab": {
          "base_uri": "https://localhost:8080/",
          "height": 34
        },
        "outputId": "6145e983-6c10-459f-c560-7a3e6d709875"
      },
      "source": [
        "events_df.shape"
      ],
      "execution_count": 115,
      "outputs": [
        {
          "output_type": "execute_result",
          "data": {
            "text/plain": [
              "(176, 6)"
            ]
          },
          "metadata": {
            "tags": []
          },
          "execution_count": 115
        }
      ]
    },
    {
      "cell_type": "code",
      "metadata": {
        "id": "-Xbci4hwxcId",
        "colab_type": "code",
        "colab": {
          "base_uri": "https://localhost:8080/",
          "height": 195
        },
        "outputId": "7fe4d003-47a5-48f7-d99f-c4a0f11ef3f7"
      },
      "source": [
        "events_df.head()"
      ],
      "execution_count": 116,
      "outputs": [
        {
          "output_type": "execute_result",
          "data": {
            "text/html": [
              "<div>\n",
              "<style scoped>\n",
              "    .dataframe tbody tr th:only-of-type {\n",
              "        vertical-align: middle;\n",
              "    }\n",
              "\n",
              "    .dataframe tbody tr th {\n",
              "        vertical-align: top;\n",
              "    }\n",
              "\n",
              "    .dataframe thead th {\n",
              "        text-align: right;\n",
              "    }\n",
              "</style>\n",
              "<table border=\"1\" class=\"dataframe\">\n",
              "  <thead>\n",
              "    <tr style=\"text-align: right;\">\n",
              "      <th></th>\n",
              "      <th>EvenstName</th>\n",
              "      <th>EventsLocation</th>\n",
              "      <th>EventsType</th>\n",
              "      <th>EventsDateStart</th>\n",
              "      <th>EventsDateEnd</th>\n",
              "      <th>Interest</th>\n",
              "    </tr>\n",
              "  </thead>\n",
              "  <tbody>\n",
              "    <tr>\n",
              "      <th>0</th>\n",
              "      <td>LEGAL EXECUTION DEPARTMENT AUCTION 2017 Ep.1</td>\n",
              "      <td>QSNCC (ศูนย์ประชุมฯ สิริกิติ์)</td>\n",
              "      <td>กฏหมาย</td>\n",
              "      <td>2560-01-08</td>\n",
              "      <td>2560-01-08</td>\n",
              "      <td>2241</td>\n",
              "    </tr>\n",
              "    <tr>\n",
              "      <th>1</th>\n",
              "      <td>19th Bangkok International Symposium on HIV Me...</td>\n",
              "      <td>QSNCC (ศูนย์ประชุมฯ สิริกิติ์)</td>\n",
              "      <td>สัมมนา</td>\n",
              "      <td>2560-01-18</td>\n",
              "      <td>2560-01-20</td>\n",
              "      <td>1565</td>\n",
              "    </tr>\n",
              "    <tr>\n",
              "      <th>2</th>\n",
              "      <td>IDP AUSportunity</td>\n",
              "      <td>QSNCC (ศูนย์ประชุมฯ สิริกิติ์)</td>\n",
              "      <td>การศึกษา</td>\n",
              "      <td>2560-01-21</td>\n",
              "      <td>2560-01-22</td>\n",
              "      <td>1229</td>\n",
              "    </tr>\n",
              "    <tr>\n",
              "      <th>3</th>\n",
              "      <td>WIS FORUM 2017</td>\n",
              "      <td>QSNCC (ศูนย์ประชุมฯ สิริกิติ์)</td>\n",
              "      <td>สัมมนา</td>\n",
              "      <td>2560-01-24</td>\n",
              "      <td>2560-01-26</td>\n",
              "      <td>1685</td>\n",
              "    </tr>\n",
              "    <tr>\n",
              "      <th>4</th>\n",
              "      <td>LEGAL EXECUTION DEPARTMENT AUCTION 2017 Ep.2</td>\n",
              "      <td>QSNCC (ศูนย์ประชุมฯ สิริกิติ์)</td>\n",
              "      <td>กฏหมาย</td>\n",
              "      <td>2560-01-29</td>\n",
              "      <td>2560-01-29</td>\n",
              "      <td>1203</td>\n",
              "    </tr>\n",
              "  </tbody>\n",
              "</table>\n",
              "</div>"
            ],
            "text/plain": [
              "                                          EvenstName  ... Interest\n",
              "0       LEGAL EXECUTION DEPARTMENT AUCTION 2017 Ep.1  ...     2241\n",
              "1  19th Bangkok International Symposium on HIV Me...  ...     1565\n",
              "2                                   IDP AUSportunity  ...     1229\n",
              "3                                     WIS FORUM 2017  ...     1685\n",
              "4       LEGAL EXECUTION DEPARTMENT AUCTION 2017 Ep.2  ...     1203\n",
              "\n",
              "[5 rows x 6 columns]"
            ]
          },
          "metadata": {
            "tags": []
          },
          "execution_count": 116
        }
      ]
    },
    {
      "cell_type": "code",
      "metadata": {
        "id": "ntM_T56cxcK4",
        "colab_type": "code",
        "colab": {
          "base_uri": "https://localhost:8080/",
          "height": 101
        },
        "outputId": "6cfbab35-73d6-4c06-a15f-8cfdccf8124d"
      },
      "source": [
        "events_df.EventsLocation.value_counts()"
      ],
      "execution_count": 117,
      "outputs": [
        {
          "output_type": "execute_result",
          "data": {
            "text/plain": [
              "QSNCC (ศูนย์ประชุมฯ สิริกิติ์)    111\n",
              "เซ็นทรัล ลาดพร้าว                  42\n",
              "เซ็นทรัล พระราม9                   12\n",
              "TERMINAL 21                        11\n",
              "Name: EventsLocation, dtype: int64"
            ]
          },
          "metadata": {
            "tags": []
          },
          "execution_count": 117
        }
      ]
    },
    {
      "cell_type": "code",
      "metadata": {
        "id": "roWbZ6aXxtRX",
        "colab_type": "code",
        "colab": {
          "base_uri": "https://localhost:8080/",
          "height": 437
        },
        "outputId": "110c27dd-f12b-4788-fb18-f5e7ea09ff69"
      },
      "source": [
        "events_df.EventsType.value_counts()"
      ],
      "execution_count": 118,
      "outputs": [
        {
          "output_type": "execute_result",
          "data": {
            "text/plain": [
              "ทั่วไป             32\n",
              "สัมมนา             21\n",
              "แฟชั่น             16\n",
              "ที่อยู่อาศัย       16\n",
              "กีฬา               11\n",
              "ธุรกิจ             11\n",
              "อาหาร              10\n",
              "ท่องเที่ยว          9\n",
              "สินค้า IT           8\n",
              "การศึกษา            5\n",
              "สัตว์เลี้ยง         5\n",
              "เกษตร               4\n",
              "ครอบครัว            4\n",
              "การเงิน             3\n",
              "หนังสือ             3\n",
              "เครื่องใช้ไฟฟ้า     3\n",
              "ความบันเทิง         3\n",
              "อาชีพ               2\n",
              "สุขภาพ              2\n",
              "กฏหมาย              2\n",
              "Design              2\n",
              "พาหนะ               2\n",
              "Beauty              1\n",
              "งานแต่ง             1\n",
              "Name: EventsType, dtype: int64"
            ]
          },
          "metadata": {
            "tags": []
          },
          "execution_count": 118
        }
      ]
    },
    {
      "cell_type": "code",
      "metadata": {
        "id": "fXFc04qJxtcV",
        "colab_type": "code",
        "colab": {}
      },
      "source": [
        ""
      ],
      "execution_count": null,
      "outputs": []
    },
    {
      "cell_type": "markdown",
      "metadata": {
        "colab_type": "text",
        "id": "vTeE4SojkcGs"
      },
      "source": [
        "# Export Data "
      ]
    },
    {
      "cell_type": "code",
      "metadata": {
        "id": "4--0muXqr-MP",
        "colab_type": "code",
        "colab": {}
      },
      "source": [
        "jan_transaction_df.to_excel (r'Jan_Summary.xlsx', index = False, header=True)"
      ],
      "execution_count": 131,
      "outputs": []
    }
  ]
}