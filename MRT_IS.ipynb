{
  "nbformat": 4,
  "nbformat_minor": 0,
  "metadata": {
    "colab": {
      "name": "MRT_IS.ipynb",
      "provenance": [],
      "collapsed_sections": [],
      "authorship_tag": "ABX9TyPoQOfwCMLC7s4WMFhTvPYe",
      "include_colab_link": true
    },
    "kernelspec": {
      "name": "python3",
      "display_name": "Python 3"
    }
  },
  "cells": [
    {
      "cell_type": "markdown",
      "metadata": {
        "id": "view-in-github",
        "colab_type": "text"
      },
      "source": [
        "<a href=\"https://colab.research.google.com/github/Kzis/mrt-is/blob/master/MRT_IS.ipynb\" target=\"_parent\"><img src=\"https://colab.research.google.com/assets/colab-badge.svg\" alt=\"Open In Colab\"/></a>"
      ]
    },
    {
      "cell_type": "code",
      "metadata": {
        "id": "-v7O8ScM6iiP",
        "colab_type": "code",
        "colab": {}
      },
      "source": [
        "# 4/zgGqjYp9xNvXVakfFyzEZb05Qfsnz3F0e8iJaTsk_-1OlH011Jo2ubk"
      ],
      "execution_count": 0,
      "outputs": []
    },
    {
      "cell_type": "code",
      "metadata": {
        "id": "f3rhvj_P6bnE",
        "colab_type": "code",
        "colab": {
          "base_uri": "https://localhost:8080/",
          "height": 34
        },
        "outputId": "a87b1fd3-a2c0-4da3-8976-98e796e234e7"
      },
      "source": [
        "from google.colab import drive\n",
        "drive.mount('/content/gdrive')"
      ],
      "execution_count": 16,
      "outputs": [
        {
          "output_type": "stream",
          "text": [
            "Drive already mounted at /content/gdrive; to attempt to forcibly remount, call drive.mount(\"/content/gdrive\", force_remount=True).\n"
          ],
          "name": "stdout"
        }
      ]
    },
    {
      "cell_type": "code",
      "metadata": {
        "id": "4e-mUXRj6cyE",
        "colab_type": "code",
        "colab": {}
      },
      "source": [
        "import pandas as pd\n",
        "import matplotlib.pyplot as plt\n",
        "import seaborn as sns\n",
        "import numpy as np"
      ],
      "execution_count": 0,
      "outputs": []
    },
    {
      "cell_type": "code",
      "metadata": {
        "id": "SSVS6m3v6ngz",
        "colab_type": "code",
        "colab": {}
      },
      "source": [
        "# df = pd.read_csv(\"gdrive/My Drive/NIDA/transection_.csv\" , nrows=10000)\n",
        "df = pd.read_csv(\"gdrive/My Drive/NIDA/transection_.csv\")"
      ],
      "execution_count": 0,
      "outputs": []
    },
    {
      "cell_type": "code",
      "metadata": {
        "id": "o6PcBN8cD0C8",
        "colab_type": "code",
        "colab": {
          "base_uri": "https://localhost:8080/",
          "height": 34
        },
        "outputId": "020614e0-a8c1-40fc-f925-d04b1f926dbc"
      },
      "source": [
        "df.shape"
      ],
      "execution_count": 19,
      "outputs": [
        {
          "output_type": "execute_result",
          "data": {
            "text/plain": [
              "(17240769, 24)"
            ]
          },
          "metadata": {
            "tags": []
          },
          "execution_count": 19
        }
      ]
    },
    {
      "cell_type": "code",
      "metadata": {
        "id": "Nh5xv5mZD5jg",
        "colab_type": "code",
        "colab": {
          "base_uri": "https://localhost:8080/",
          "height": 215
        },
        "outputId": "36a1f0b9-32d5-41d4-fc7b-23b68f54caf3"
      },
      "source": [
        "df.head()"
      ],
      "execution_count": 20,
      "outputs": [
        {
          "output_type": "execute_result",
          "data": {
            "text/html": [
              "<div>\n",
              "<style scoped>\n",
              "    .dataframe tbody tr th:only-of-type {\n",
              "        vertical-align: middle;\n",
              "    }\n",
              "\n",
              "    .dataframe tbody tr th {\n",
              "        vertical-align: top;\n",
              "    }\n",
              "\n",
              "    .dataframe thead th {\n",
              "        text-align: right;\n",
              "    }\n",
              "</style>\n",
              "<table border=\"1\" class=\"dataframe\">\n",
              "  <thead>\n",
              "    <tr style=\"text-align: right;\">\n",
              "      <th></th>\n",
              "      <th>TransactionID</th>\n",
              "      <th>TransactionDate</th>\n",
              "      <th>CardType</th>\n",
              "      <th>BusinessDay</th>\n",
              "      <th>EntryStationID</th>\n",
              "      <th>ExitStationID</th>\n",
              "      <th>TicketType</th>\n",
              "      <th>TicketName</th>\n",
              "      <th>PassengerType</th>\n",
              "      <th>StationName</th>\n",
              "      <th>LineCode</th>\n",
              "      <th>Right_StationName</th>\n",
              "      <th>Right_LineCode</th>\n",
              "      <th>DateKey</th>\n",
              "      <th>DayType</th>\n",
              "      <th>DayNumberOfMonth</th>\n",
              "      <th>EnglishDayNameOfWeek</th>\n",
              "      <th>ThaiDayNameOfWeek</th>\n",
              "      <th>EnglishMonthName</th>\n",
              "      <th>ThaiMonthName</th>\n",
              "      <th>MonthNumberOfYear</th>\n",
              "      <th>CalendarQuater</th>\n",
              "      <th>CalendarSemester</th>\n",
              "      <th>CalendarYear</th>\n",
              "    </tr>\n",
              "  </thead>\n",
              "  <tbody>\n",
              "    <tr>\n",
              "      <th>0</th>\n",
              "      <td>40</td>\n",
              "      <td>2017-01-01</td>\n",
              "      <td>1</td>\n",
              "      <td>2017-01-01</td>\n",
              "      <td>22</td>\n",
              "      <td>21</td>\n",
              "      <td>Card</td>\n",
              "      <td>Adult-A</td>\n",
              "      <td>Adult</td>\n",
              "      <td>Sam Yan</td>\n",
              "      <td>BL</td>\n",
              "      <td>Hua Lamphong</td>\n",
              "      <td>BL</td>\n",
              "      <td>20170101</td>\n",
              "      <td>WE</td>\n",
              "      <td>1</td>\n",
              "      <td>Sunday</td>\n",
              "      <td>อาทิตย์</td>\n",
              "      <td>January</td>\n",
              "      <td>มกราคม</td>\n",
              "      <td>1</td>\n",
              "      <td>1</td>\n",
              "      <td>1</td>\n",
              "      <td>2017</td>\n",
              "    </tr>\n",
              "    <tr>\n",
              "      <th>1</th>\n",
              "      <td>69</td>\n",
              "      <td>2017-01-01</td>\n",
              "      <td>1</td>\n",
              "      <td>2017-01-01</td>\n",
              "      <td>22</td>\n",
              "      <td>21</td>\n",
              "      <td>Card</td>\n",
              "      <td>Adult-A</td>\n",
              "      <td>Adult</td>\n",
              "      <td>Sam Yan</td>\n",
              "      <td>BL</td>\n",
              "      <td>Hua Lamphong</td>\n",
              "      <td>BL</td>\n",
              "      <td>20170101</td>\n",
              "      <td>WE</td>\n",
              "      <td>1</td>\n",
              "      <td>Sunday</td>\n",
              "      <td>อาทิตย์</td>\n",
              "      <td>January</td>\n",
              "      <td>มกราคม</td>\n",
              "      <td>1</td>\n",
              "      <td>1</td>\n",
              "      <td>1</td>\n",
              "      <td>2017</td>\n",
              "    </tr>\n",
              "    <tr>\n",
              "      <th>2</th>\n",
              "      <td>127</td>\n",
              "      <td>2017-01-01</td>\n",
              "      <td>1</td>\n",
              "      <td>2017-01-01</td>\n",
              "      <td>22</td>\n",
              "      <td>21</td>\n",
              "      <td>Card</td>\n",
              "      <td>Adult-A</td>\n",
              "      <td>Adult</td>\n",
              "      <td>Sam Yan</td>\n",
              "      <td>BL</td>\n",
              "      <td>Hua Lamphong</td>\n",
              "      <td>BL</td>\n",
              "      <td>20170101</td>\n",
              "      <td>WE</td>\n",
              "      <td>1</td>\n",
              "      <td>Sunday</td>\n",
              "      <td>อาทิตย์</td>\n",
              "      <td>January</td>\n",
              "      <td>มกราคม</td>\n",
              "      <td>1</td>\n",
              "      <td>1</td>\n",
              "      <td>1</td>\n",
              "      <td>2017</td>\n",
              "    </tr>\n",
              "    <tr>\n",
              "      <th>3</th>\n",
              "      <td>129</td>\n",
              "      <td>2017-01-01</td>\n",
              "      <td>1</td>\n",
              "      <td>2017-01-01</td>\n",
              "      <td>22</td>\n",
              "      <td>21</td>\n",
              "      <td>Card</td>\n",
              "      <td>Adult-A</td>\n",
              "      <td>Adult</td>\n",
              "      <td>Sam Yan</td>\n",
              "      <td>BL</td>\n",
              "      <td>Hua Lamphong</td>\n",
              "      <td>BL</td>\n",
              "      <td>20170101</td>\n",
              "      <td>WE</td>\n",
              "      <td>1</td>\n",
              "      <td>Sunday</td>\n",
              "      <td>อาทิตย์</td>\n",
              "      <td>January</td>\n",
              "      <td>มกราคม</td>\n",
              "      <td>1</td>\n",
              "      <td>1</td>\n",
              "      <td>1</td>\n",
              "      <td>2017</td>\n",
              "    </tr>\n",
              "    <tr>\n",
              "      <th>4</th>\n",
              "      <td>333</td>\n",
              "      <td>2017-01-01</td>\n",
              "      <td>1</td>\n",
              "      <td>2017-01-01</td>\n",
              "      <td>22</td>\n",
              "      <td>21</td>\n",
              "      <td>Card</td>\n",
              "      <td>Adult-A</td>\n",
              "      <td>Adult</td>\n",
              "      <td>Sam Yan</td>\n",
              "      <td>BL</td>\n",
              "      <td>Hua Lamphong</td>\n",
              "      <td>BL</td>\n",
              "      <td>20170101</td>\n",
              "      <td>WE</td>\n",
              "      <td>1</td>\n",
              "      <td>Sunday</td>\n",
              "      <td>อาทิตย์</td>\n",
              "      <td>January</td>\n",
              "      <td>มกราคม</td>\n",
              "      <td>1</td>\n",
              "      <td>1</td>\n",
              "      <td>1</td>\n",
              "      <td>2017</td>\n",
              "    </tr>\n",
              "  </tbody>\n",
              "</table>\n",
              "</div>"
            ],
            "text/plain": [
              "   TransactionID TransactionDate  ...  CalendarSemester CalendarYear\n",
              "0             40      2017-01-01  ...                 1         2017\n",
              "1             69      2017-01-01  ...                 1         2017\n",
              "2            127      2017-01-01  ...                 1         2017\n",
              "3            129      2017-01-01  ...                 1         2017\n",
              "4            333      2017-01-01  ...                 1         2017\n",
              "\n",
              "[5 rows x 24 columns]"
            ]
          },
          "metadata": {
            "tags": []
          },
          "execution_count": 20
        }
      ]
    },
    {
      "cell_type": "code",
      "metadata": {
        "id": "F0hQgLOHEO-_",
        "colab_type": "code",
        "colab": {
          "base_uri": "https://localhost:8080/",
          "height": 151
        },
        "outputId": "8442afc6-1b24-4d76-d43b-1bd31384814b"
      },
      "source": [
        "df.columns"
      ],
      "execution_count": 21,
      "outputs": [
        {
          "output_type": "execute_result",
          "data": {
            "text/plain": [
              "Index(['TransactionID', 'TransactionDate', 'CardType', 'BusinessDay',\n",
              "       'EntryStationID', 'ExitStationID', 'TicketType', 'TicketName',\n",
              "       'PassengerType', 'StationName', 'LineCode', 'Right_StationName',\n",
              "       'Right_LineCode', 'DateKey', 'DayType', 'DayNumberOfMonth',\n",
              "       'EnglishDayNameOfWeek', 'ThaiDayNameOfWeek', 'EnglishMonthName',\n",
              "       'ThaiMonthName', 'MonthNumberOfYear', 'CalendarQuater',\n",
              "       'CalendarSemester', 'CalendarYear'],\n",
              "      dtype='object')"
            ]
          },
          "metadata": {
            "tags": []
          },
          "execution_count": 21
        }
      ]
    },
    {
      "cell_type": "code",
      "metadata": {
        "id": "El4x9q6HEaxf",
        "colab_type": "code",
        "colab": {
          "base_uri": "https://localhost:8080/",
          "height": 218
        },
        "outputId": "e870aec9-45c1-484d-e4dc-da78bb46eeeb"
      },
      "source": [
        "df.CardType.value_counts()"
      ],
      "execution_count": 22,
      "outputs": [
        {
          "output_type": "execute_result",
          "data": {
            "text/plain": [
              "1     8945627\n",
              "58    5811954\n",
              "4     1296077\n",
              "3      520535\n",
              "21     381360\n",
              "60     161925\n",
              "24      52314\n",
              "59      28807\n",
              "23      22109\n",
              "2       19229\n",
              "22        832\n",
              "Name: CardType, dtype: int64"
            ]
          },
          "metadata": {
            "tags": []
          },
          "execution_count": 22
        }
      ]
    },
    {
      "cell_type": "code",
      "metadata": {
        "id": "xrk27TemEvXk",
        "colab_type": "code",
        "colab": {
          "base_uri": "https://localhost:8080/",
          "height": 67
        },
        "outputId": "a2e21295-8a2f-44aa-d921-f6462414f630"
      },
      "source": [
        "df.TicketType.value_counts()"
      ],
      "execution_count": 23,
      "outputs": [
        {
          "output_type": "execute_result",
          "data": {
            "text/plain": [
              "Card     11238083\n",
              "Token     6002686\n",
              "Name: TicketType, dtype: int64"
            ]
          },
          "metadata": {
            "tags": []
          },
          "execution_count": 23
        }
      ]
    },
    {
      "cell_type": "code",
      "metadata": {
        "id": "WVRQeBADnIHQ",
        "colab_type": "code",
        "colab": {
          "base_uri": "https://localhost:8080/",
          "height": 218
        },
        "outputId": "7706a074-003f-4909-a891-2fca58c73930"
      },
      "source": [
        "df.TicketName.value_counts()"
      ],
      "execution_count": 24,
      "outputs": [
        {
          "output_type": "execute_result",
          "data": {
            "text/plain": [
              "Adult-A      8945627\n",
              "Adult        5811954\n",
              "Student-A    1296077\n",
              "Senior-A      520535\n",
              "Adult-B       381360\n",
              "Senior        161925\n",
              "Student-B      52314\n",
              "Child          28807\n",
              "Senior-B       22109\n",
              "Child-A        19229\n",
              "Child-B          832\n",
              "Name: TicketName, dtype: int64"
            ]
          },
          "metadata": {
            "tags": []
          },
          "execution_count": 24
        }
      ]
    },
    {
      "cell_type": "code",
      "metadata": {
        "id": "CX-d7pbYnQHh",
        "colab_type": "code",
        "colab": {
          "base_uri": "https://localhost:8080/",
          "height": 101
        },
        "outputId": "7052a3c4-4c91-45fa-fe05-8408bbcf9969"
      },
      "source": [
        "df.PassengerType.value_counts()"
      ],
      "execution_count": 25,
      "outputs": [
        {
          "output_type": "execute_result",
          "data": {
            "text/plain": [
              "Adult      15138941\n",
              "Student     1348391\n",
              "Senior       704569\n",
              "Child         48868\n",
              "Name: PassengerType, dtype: int64"
            ]
          },
          "metadata": {
            "tags": []
          },
          "execution_count": 25
        }
      ]
    },
    {
      "cell_type": "code",
      "metadata": {
        "id": "C41lj_WinTn5",
        "colab_type": "code",
        "colab": {
          "base_uri": "https://localhost:8080/",
          "height": 605
        },
        "outputId": "9a838111-3252-4872-903b-42bb92f67814"
      },
      "source": [
        "df.StationName.value_counts()"
      ],
      "execution_count": 26,
      "outputs": [
        {
          "output_type": "execute_result",
          "data": {
            "text/plain": [
              "Sukhumvit                                   2247742\n",
              "Phra Ram 9                                  1519359\n",
              "Phetchaburi                                 1387354\n",
              "Chatuchak Park                              1220946\n",
              "Si Lom                                      1164985\n",
              "Thailand Cultural Centre                    1129021\n",
              "Huai Khwang                                 1127254\n",
              "Phahon Yothin                                930277\n",
              "Lat Phrao                                    921350\n",
              "Hua Lamphong                                 822199\n",
              "Sutthisan                                    821244\n",
              "Queen Sirikit National Convention Centre     759837\n",
              "Bang Sue                                     655375\n",
              "Lumphini                                     589214\n",
              "Sam Yan                                      583121\n",
              "Ratchadaphisek                               420421\n",
              "Kamphaeng Phet                               247994\n",
              "Khlong Toei                                  141782\n",
              "Tao Poon                                     114038\n",
              "Khlong Bang Phai                              54678\n",
              "Ministry of Public Health                     52388\n",
              "Talad Bang Yai                                45161\n",
              "Nonthaburi Civic Center                       35919\n",
              "Yaek Nonthaburi 1                             34612\n",
              "Wong Sawang                                   33810\n",
              "Yaek Tiwanon                                  31761\n",
              "Bang Rak Noi Tha It                           28128\n",
              "Bang Krasor                                   26619\n",
              "Bang Son                                      26207\n",
              "Bang Phlu                                     17377\n",
              "Sai Ma                                        17068\n",
              "Phra Nang Klao Bridge                         14432\n",
              "Sam Yaek Bang Yai                             11655\n",
              "Bang Rak Yai                                   7441\n",
              "Name: StationName, dtype: int64"
            ]
          },
          "metadata": {
            "tags": []
          },
          "execution_count": 26
        }
      ]
    },
    {
      "cell_type": "code",
      "metadata": {
        "id": "O3rqYi8wnd_7",
        "colab_type": "code",
        "colab": {
          "base_uri": "https://localhost:8080/",
          "height": 50
        },
        "outputId": "522eb4b6-65a9-406a-f1f1-de6abfc2ee98"
      },
      "source": [
        "df.CalendarYear.value_counts()\n"
      ],
      "execution_count": 27,
      "outputs": [
        {
          "output_type": "execute_result",
          "data": {
            "text/plain": [
              "2017    17240769\n",
              "Name: CalendarYear, dtype: int64"
            ]
          },
          "metadata": {
            "tags": []
          },
          "execution_count": 27
        }
      ]
    },
    {
      "cell_type": "code",
      "metadata": {
        "id": "Sk6eqllyn3Ho",
        "colab_type": "code",
        "colab": {
          "base_uri": "https://localhost:8080/",
          "height": 218
        },
        "outputId": "f590c0f8-7d0b-459e-ddf7-3b7118496ca4"
      },
      "source": [
        "df.BusinessDay.value_counts()\n",
        "\n"
      ],
      "execution_count": 28,
      "outputs": [
        {
          "output_type": "execute_result",
          "data": {
            "text/plain": [
              "2017-09-29    77756\n",
              "2017-11-03    77309\n",
              "2017-09-01    76635\n",
              "2017-11-10    73979\n",
              "2017-10-20    72808\n",
              "              ...  \n",
              "2017-01-15    12064\n",
              "2017-02-13    12032\n",
              "2017-01-08    11120\n",
              "2017-01-02     7218\n",
              "2017-01-01     5046\n",
              "Name: BusinessDay, Length: 364, dtype: int64"
            ]
          },
          "metadata": {
            "tags": []
          },
          "execution_count": 28
        }
      ]
    }
  ]
}