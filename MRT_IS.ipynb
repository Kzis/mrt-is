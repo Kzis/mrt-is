{
  "nbformat": 4,
  "nbformat_minor": 0,
  "metadata": {
    "colab": {
      "name": "MRT_IS.ipynb",
      "provenance": [],
      "collapsed_sections": [],
      "authorship_tag": "ABX9TyMLZ1RA3xaNBre+uvfmjDh2",
      "include_colab_link": true
    },
    "kernelspec": {
      "name": "python3",
      "display_name": "Python 3"
    }
  },
  "cells": [
    {
      "cell_type": "markdown",
      "metadata": {
        "id": "view-in-github",
        "colab_type": "text"
      },
      "source": [
        "<a href=\"https://colab.research.google.com/github/Kzis/mrt-is/blob/master/MRT_IS.ipynb\" target=\"_parent\"><img src=\"https://colab.research.google.com/assets/colab-badge.svg\" alt=\"Open In Colab\"/></a>"
      ]
    },
    {
      "cell_type": "code",
      "metadata": {
        "id": "-v7O8ScM6iiP",
        "colab_type": "code",
        "colab": {}
      },
      "source": [
        "# 4/zgGqjYp9xNvXVakfFyzEZb05Qfsnz3F0e8iJaTsk_-1OlH011Jo2ubk"
      ],
      "execution_count": 0,
      "outputs": []
    },
    {
      "cell_type": "code",
      "metadata": {
        "id": "f3rhvj_P6bnE",
        "colab_type": "code",
        "colab": {
          "base_uri": "https://localhost:8080/",
          "height": 121
        },
        "outputId": "c0510db1-473c-4751-b47f-fad8e3732632"
      },
      "source": [
        "from google.colab import drive\n",
        "drive.mount('/content/gdrive')"
      ],
      "execution_count": 5,
      "outputs": [
        {
          "output_type": "stream",
          "text": [
            "Go to this URL in a browser: https://accounts.google.com/o/oauth2/auth?client_id=947318989803-6bn6qk8qdgf4n4g3pfee6491hc0brc4i.apps.googleusercontent.com&redirect_uri=urn%3aietf%3awg%3aoauth%3a2.0%3aoob&response_type=code&scope=email%20https%3a%2f%2fwww.googleapis.com%2fauth%2fdocs.test%20https%3a%2f%2fwww.googleapis.com%2fauth%2fdrive%20https%3a%2f%2fwww.googleapis.com%2fauth%2fdrive.photos.readonly%20https%3a%2f%2fwww.googleapis.com%2fauth%2fpeopleapi.readonly\n",
            "\n",
            "Enter your authorization code:\n",
            "··········\n",
            "Mounted at /content/gdrive\n"
          ],
          "name": "stdout"
        }
      ]
    },
    {
      "cell_type": "code",
      "metadata": {
        "id": "4e-mUXRj6cyE",
        "colab_type": "code",
        "colab": {
          "base_uri": "https://localhost:8080/",
          "height": 70
        },
        "outputId": "dfc235f8-e3a2-4776-b926-c9b47ce737e4"
      },
      "source": [
        "import pandas as pd\n",
        "import matplotlib.pyplot as plt\n",
        "import seaborn as sns\n",
        "import numpy as np"
      ],
      "execution_count": 6,
      "outputs": [
        {
          "output_type": "stream",
          "text": [
            "/usr/local/lib/python3.6/dist-packages/statsmodels/tools/_testing.py:19: FutureWarning: pandas.util.testing is deprecated. Use the functions in the public API at pandas.testing instead.\n",
            "  import pandas.util.testing as tm\n"
          ],
          "name": "stderr"
        }
      ]
    },
    {
      "cell_type": "code",
      "metadata": {
        "id": "SSVS6m3v6ngz",
        "colab_type": "code",
        "colab": {}
      },
      "source": [
        "# df = pd.read_csv(\"gdrive/My Drive/NIDA/transection_.csv\" , nrows=10000)\n",
        "df = pd.read_csv(\"gdrive/My Drive/NIDA/transection_.csv\")"
      ],
      "execution_count": 0,
      "outputs": []
    },
    {
      "cell_type": "code",
      "metadata": {
        "id": "o6PcBN8cD0C8",
        "colab_type": "code",
        "colab": {
          "base_uri": "https://localhost:8080/",
          "height": 34
        },
        "outputId": "a9a06b88-7e32-44bf-9624-2e9e839835b2"
      },
      "source": [
        "df.shape"
      ],
      "execution_count": 10,
      "outputs": [
        {
          "output_type": "execute_result",
          "data": {
            "text/plain": [
              "(17240769, 24)"
            ]
          },
          "metadata": {
            "tags": []
          },
          "execution_count": 10
        }
      ]
    },
    {
      "cell_type": "code",
      "metadata": {
        "id": "Nh5xv5mZD5jg",
        "colab_type": "code",
        "colab": {
          "base_uri": "https://localhost:8080/",
          "height": 215
        },
        "outputId": "8b017df8-f9cd-4a54-9bcd-b9b79c8f23ee"
      },
      "source": [
        "df.head()"
      ],
      "execution_count": 11,
      "outputs": [
        {
          "output_type": "execute_result",
          "data": {
            "text/html": [
              "<div>\n",
              "<style scoped>\n",
              "    .dataframe tbody tr th:only-of-type {\n",
              "        vertical-align: middle;\n",
              "    }\n",
              "\n",
              "    .dataframe tbody tr th {\n",
              "        vertical-align: top;\n",
              "    }\n",
              "\n",
              "    .dataframe thead th {\n",
              "        text-align: right;\n",
              "    }\n",
              "</style>\n",
              "<table border=\"1\" class=\"dataframe\">\n",
              "  <thead>\n",
              "    <tr style=\"text-align: right;\">\n",
              "      <th></th>\n",
              "      <th>TransactionID</th>\n",
              "      <th>TransactionDate</th>\n",
              "      <th>CardType</th>\n",
              "      <th>BusinessDay</th>\n",
              "      <th>EntryStationID</th>\n",
              "      <th>ExitStationID</th>\n",
              "      <th>TicketType</th>\n",
              "      <th>TicketName</th>\n",
              "      <th>PassengerType</th>\n",
              "      <th>StationName</th>\n",
              "      <th>LineCode</th>\n",
              "      <th>Right_StationName</th>\n",
              "      <th>Right_LineCode</th>\n",
              "      <th>DateKey</th>\n",
              "      <th>DayType</th>\n",
              "      <th>DayNumberOfMonth</th>\n",
              "      <th>EnglishDayNameOfWeek</th>\n",
              "      <th>ThaiDayNameOfWeek</th>\n",
              "      <th>EnglishMonthName</th>\n",
              "      <th>ThaiMonthName</th>\n",
              "      <th>MonthNumberOfYear</th>\n",
              "      <th>CalendarQuater</th>\n",
              "      <th>CalendarSemester</th>\n",
              "      <th>CalendarYear</th>\n",
              "    </tr>\n",
              "  </thead>\n",
              "  <tbody>\n",
              "    <tr>\n",
              "      <th>0</th>\n",
              "      <td>40</td>\n",
              "      <td>2017-01-01</td>\n",
              "      <td>1</td>\n",
              "      <td>2017-01-01</td>\n",
              "      <td>22</td>\n",
              "      <td>21</td>\n",
              "      <td>Card</td>\n",
              "      <td>Adult-A</td>\n",
              "      <td>Adult</td>\n",
              "      <td>Sam Yan</td>\n",
              "      <td>BL</td>\n",
              "      <td>Hua Lamphong</td>\n",
              "      <td>BL</td>\n",
              "      <td>20170101</td>\n",
              "      <td>WE</td>\n",
              "      <td>1</td>\n",
              "      <td>Sunday</td>\n",
              "      <td>อาทิตย์</td>\n",
              "      <td>January</td>\n",
              "      <td>มกราคม</td>\n",
              "      <td>1</td>\n",
              "      <td>1</td>\n",
              "      <td>1</td>\n",
              "      <td>2017</td>\n",
              "    </tr>\n",
              "    <tr>\n",
              "      <th>1</th>\n",
              "      <td>69</td>\n",
              "      <td>2017-01-01</td>\n",
              "      <td>1</td>\n",
              "      <td>2017-01-01</td>\n",
              "      <td>22</td>\n",
              "      <td>21</td>\n",
              "      <td>Card</td>\n",
              "      <td>Adult-A</td>\n",
              "      <td>Adult</td>\n",
              "      <td>Sam Yan</td>\n",
              "      <td>BL</td>\n",
              "      <td>Hua Lamphong</td>\n",
              "      <td>BL</td>\n",
              "      <td>20170101</td>\n",
              "      <td>WE</td>\n",
              "      <td>1</td>\n",
              "      <td>Sunday</td>\n",
              "      <td>อาทิตย์</td>\n",
              "      <td>January</td>\n",
              "      <td>มกราคม</td>\n",
              "      <td>1</td>\n",
              "      <td>1</td>\n",
              "      <td>1</td>\n",
              "      <td>2017</td>\n",
              "    </tr>\n",
              "    <tr>\n",
              "      <th>2</th>\n",
              "      <td>127</td>\n",
              "      <td>2017-01-01</td>\n",
              "      <td>1</td>\n",
              "      <td>2017-01-01</td>\n",
              "      <td>22</td>\n",
              "      <td>21</td>\n",
              "      <td>Card</td>\n",
              "      <td>Adult-A</td>\n",
              "      <td>Adult</td>\n",
              "      <td>Sam Yan</td>\n",
              "      <td>BL</td>\n",
              "      <td>Hua Lamphong</td>\n",
              "      <td>BL</td>\n",
              "      <td>20170101</td>\n",
              "      <td>WE</td>\n",
              "      <td>1</td>\n",
              "      <td>Sunday</td>\n",
              "      <td>อาทิตย์</td>\n",
              "      <td>January</td>\n",
              "      <td>มกราคม</td>\n",
              "      <td>1</td>\n",
              "      <td>1</td>\n",
              "      <td>1</td>\n",
              "      <td>2017</td>\n",
              "    </tr>\n",
              "    <tr>\n",
              "      <th>3</th>\n",
              "      <td>129</td>\n",
              "      <td>2017-01-01</td>\n",
              "      <td>1</td>\n",
              "      <td>2017-01-01</td>\n",
              "      <td>22</td>\n",
              "      <td>21</td>\n",
              "      <td>Card</td>\n",
              "      <td>Adult-A</td>\n",
              "      <td>Adult</td>\n",
              "      <td>Sam Yan</td>\n",
              "      <td>BL</td>\n",
              "      <td>Hua Lamphong</td>\n",
              "      <td>BL</td>\n",
              "      <td>20170101</td>\n",
              "      <td>WE</td>\n",
              "      <td>1</td>\n",
              "      <td>Sunday</td>\n",
              "      <td>อาทิตย์</td>\n",
              "      <td>January</td>\n",
              "      <td>มกราคม</td>\n",
              "      <td>1</td>\n",
              "      <td>1</td>\n",
              "      <td>1</td>\n",
              "      <td>2017</td>\n",
              "    </tr>\n",
              "    <tr>\n",
              "      <th>4</th>\n",
              "      <td>333</td>\n",
              "      <td>2017-01-01</td>\n",
              "      <td>1</td>\n",
              "      <td>2017-01-01</td>\n",
              "      <td>22</td>\n",
              "      <td>21</td>\n",
              "      <td>Card</td>\n",
              "      <td>Adult-A</td>\n",
              "      <td>Adult</td>\n",
              "      <td>Sam Yan</td>\n",
              "      <td>BL</td>\n",
              "      <td>Hua Lamphong</td>\n",
              "      <td>BL</td>\n",
              "      <td>20170101</td>\n",
              "      <td>WE</td>\n",
              "      <td>1</td>\n",
              "      <td>Sunday</td>\n",
              "      <td>อาทิตย์</td>\n",
              "      <td>January</td>\n",
              "      <td>มกราคม</td>\n",
              "      <td>1</td>\n",
              "      <td>1</td>\n",
              "      <td>1</td>\n",
              "      <td>2017</td>\n",
              "    </tr>\n",
              "  </tbody>\n",
              "</table>\n",
              "</div>"
            ],
            "text/plain": [
              "   TransactionID TransactionDate  ...  CalendarSemester CalendarYear\n",
              "0             40      2017-01-01  ...                 1         2017\n",
              "1             69      2017-01-01  ...                 1         2017\n",
              "2            127      2017-01-01  ...                 1         2017\n",
              "3            129      2017-01-01  ...                 1         2017\n",
              "4            333      2017-01-01  ...                 1         2017\n",
              "\n",
              "[5 rows x 24 columns]"
            ]
          },
          "metadata": {
            "tags": []
          },
          "execution_count": 11
        }
      ]
    },
    {
      "cell_type": "code",
      "metadata": {
        "id": "F0hQgLOHEO-_",
        "colab_type": "code",
        "colab": {
          "base_uri": "https://localhost:8080/",
          "height": 151
        },
        "outputId": "c2fd7ca7-4527-48af-d80f-9a2910eacd86"
      },
      "source": [
        "df.columns"
      ],
      "execution_count": 12,
      "outputs": [
        {
          "output_type": "execute_result",
          "data": {
            "text/plain": [
              "Index(['TransactionID', 'TransactionDate', 'CardType', 'BusinessDay',\n",
              "       'EntryStationID', 'ExitStationID', 'TicketType', 'TicketName',\n",
              "       'PassengerType', 'StationName', 'LineCode', 'Right_StationName',\n",
              "       'Right_LineCode', 'DateKey', 'DayType', 'DayNumberOfMonth',\n",
              "       'EnglishDayNameOfWeek', 'ThaiDayNameOfWeek', 'EnglishMonthName',\n",
              "       'ThaiMonthName', 'MonthNumberOfYear', 'CalendarQuater',\n",
              "       'CalendarSemester', 'CalendarYear'],\n",
              "      dtype='object')"
            ]
          },
          "metadata": {
            "tags": []
          },
          "execution_count": 12
        }
      ]
    },
    {
      "cell_type": "code",
      "metadata": {
        "id": "El4x9q6HEaxf",
        "colab_type": "code",
        "colab": {
          "base_uri": "https://localhost:8080/",
          "height": 218
        },
        "outputId": "b8f5b14e-aef0-41e6-eac8-0e8722febfbf"
      },
      "source": [
        "df.CardType.value_counts()"
      ],
      "execution_count": 13,
      "outputs": [
        {
          "output_type": "execute_result",
          "data": {
            "text/plain": [
              "1     8945627\n",
              "58    5811954\n",
              "4     1296077\n",
              "3      520535\n",
              "21     381360\n",
              "60     161925\n",
              "24      52314\n",
              "59      28807\n",
              "23      22109\n",
              "2       19229\n",
              "22        832\n",
              "Name: CardType, dtype: int64"
            ]
          },
          "metadata": {
            "tags": []
          },
          "execution_count": 13
        }
      ]
    },
    {
      "cell_type": "code",
      "metadata": {
        "id": "xrk27TemEvXk",
        "colab_type": "code",
        "colab": {
          "base_uri": "https://localhost:8080/",
          "height": 67
        },
        "outputId": "ebc00c53-f018-4339-b208-e1ce9cdf7b67"
      },
      "source": [
        "df.TicketType.value_counts()"
      ],
      "execution_count": 14,
      "outputs": [
        {
          "output_type": "execute_result",
          "data": {
            "text/plain": [
              "Card     11238083\n",
              "Token     6002686\n",
              "Name: TicketType, dtype: int64"
            ]
          },
          "metadata": {
            "tags": []
          },
          "execution_count": 14
        }
      ]
    }
  ]
}